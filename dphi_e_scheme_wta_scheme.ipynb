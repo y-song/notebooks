{
 "cells": [
  {
   "cell_type": "code",
   "execution_count": 2,
   "metadata": {},
   "outputs": [],
   "source": [
    "import time\n",
    "import ROOT\n",
    "import numpy as np\n",
    "import pandas as pd\n",
    "import root_pandas as rpd\n",
    "import matplotlib.pyplot as plt\n",
    "from matplotlib.colors import LogNorm\n",
    "from root_pandas import read_root\n",
    "%run functions.ipynb\n",
    "%run constants.ipynb"
   ]
  },
  {
   "cell_type": "code",
   "execution_count": 3,
   "metadata": {},
   "outputs": [],
   "source": [
    "def getData(inputFiles):\n",
    "    cols = []\n",
    "    scalar = []\n",
    "    scalar.append('evid')\n",
    "    scalar.append('xsec')\n",
    "    scalar.append('ntrials')    \n",
    "    scalar.append('x')\n",
    "    scalar.append('y')\n",
    "    scalar.append('Q2')\n",
    "    scalar.append('pt_jet')\n",
    "    scalar.append('eta_jet')\n",
    "    scalar.append('phi_jet')\n",
    "    scalar.append('pt_jet_g')\n",
    "    scalar.append('phi_jet_g')\n",
    "    scalar.append('pt_quark')\n",
    "    scalar.append('eta_quark')\n",
    "    scalar.append('phi_quark')\n",
    "    scalar.append('pt_photon')\n",
    "    scalar.append('phi_photon')\n",
    "    scalar.append('eta_electron')\n",
    "    scalar.append('pt_electron')\n",
    "    lists = scalar\n",
    "    dataframes = []\n",
    "    for inputFilename in inputFiles:\n",
    "        start = time.time()\n",
    "        df = read_root(inputFilename, columns=lists,flatten=cols)\n",
    "        dataframes.append(df)\n",
    "        end = time.time()\n",
    "        print '\\n', 'Processed', inputFilename, 'in',  '%2.1f'%(end-start), 'seconds'\n",
    "    return pd.concat([x for x in dataframes])"
   ]
  },
  {
   "cell_type": "code",
   "execution_count": 4,
   "metadata": {},
   "outputs": [
    {
     "name": "stdout",
     "output_type": "stream",
     "text": [
      "\n",
      "Processed $HOME/EIC/output/102.root in 56.4 seconds\n"
     ]
    }
   ],
   "source": [
    "file1 = [\"$HOME/EIC/output/102.root\"]\n",
    "a = getData(file1)"
   ]
  },
  {
   "cell_type": "code",
   "execution_count": 5,
   "metadata": {},
   "outputs": [
    {
     "name": "stdout",
     "output_type": "stream",
     "text": [
      "\n",
      "Processed $HOME/EIC/output/1010.root in 66.1 seconds\n"
     ]
    }
   ],
   "source": [
    "file2 = [\"$HOME/EIC/output/1010.root\"]\n",
    "b = getData(file2)"
   ]
  },
  {
   "cell_type": "code",
   "execution_count": 6,
   "metadata": {},
   "outputs": [
    {
     "name": "stdout",
     "output_type": "stream",
     "text": [
      "\n",
      "Processed $HOME/EIC/output/126.root in 76.0 seconds\n"
     ]
    }
   ],
   "source": [
    "file3 = [\"$HOME/EIC/output/126.root\"] # high Q2 E scheme\n",
    "c = getData(file3)"
   ]
  },
  {
   "cell_type": "code",
   "execution_count": 7,
   "metadata": {},
   "outputs": [
    {
     "name": "stdout",
     "output_type": "stream",
     "text": [
      "\n",
      "Processed $HOME/EIC/output/125.root in 76.5 seconds\n"
     ]
    }
   ],
   "source": [
    "file4 = [\"$HOME/EIC/output/125.root\"] # high Q2 WTA scheme\n",
    "d = getData(file4)"
   ]
  },
  {
   "cell_type": "code",
   "execution_count": 8,
   "metadata": {
    "scrolled": true
   },
   "outputs": [
    {
     "name": "stdout",
     "output_type": "stream",
     "text": [
      "5 < pt_electron < 20 800523  fraction kept: 2.2\n",
      "pt_jet > 4 198300  fraction kept: 24.8\n",
      "0.1 < y < 0.85 94524  fraction kept: 47.7\n",
      "Fixed photon phi range\n",
      "Fixed photon delta phi range\n"
     ]
    }
   ],
   "source": [
    "aa = applyCut(a, '5 < pt_electron < 20', '5 < pt_electron < 20')\n",
    "aa = applyCut(aa, 'pt_jet > 4', 'pt_jet > 4')\n",
    "aa = applyCut(aa, 'y > 0.1 and y < 0.85', '0.1 < y < 0.85')\n",
    "aa = fixPhi(aa, 'photon')\n",
    "aa.eval('nu = 0.533*Q2/x',inplace=True)"
   ]
  },
  {
   "cell_type": "code",
   "execution_count": 9,
   "metadata": {
    "scrolled": true
   },
   "outputs": [
    {
     "name": "stdout",
     "output_type": "stream",
     "text": [
      "5 < pt_electron < 20 818856  fraction kept: 2.2\n",
      "pt_jet > 4 201283  fraction kept: 24.6\n",
      "0.1 < y < 0.85 95866  fraction kept: 47.6\n",
      "Fixed photon phi range\n",
      "Fixed photon delta phi range\n"
     ]
    }
   ],
   "source": [
    "bb = applyCut(b, '5 < pt_electron < 20', '5 < pt_electron < 20')\n",
    "bb = applyCut(bb, 'pt_jet > 4', 'pt_jet > 4')\n",
    "bb = applyCut(bb, 'y > 0.1 and y < 0.85', '0.1 < y < 0.85')\n",
    "bb = fixPhi(bb, 'photon')\n",
    "bb.eval('nu = 0.533*Q2/x',inplace=True)"
   ]
  },
  {
   "cell_type": "code",
   "execution_count": 10,
   "metadata": {
    "scrolled": true
   },
   "outputs": [
    {
     "name": "stdout",
     "output_type": "stream",
     "text": [
      "pt_jet > 4 8420344  fraction kept: 19.3\n",
      "0.1 < y < 0.85 4463800  fraction kept: 53.0\n",
      "Fixed photon phi range\n",
      "Fixed photon delta phi range\n"
     ]
    }
   ],
   "source": [
    "cc = applyCut(c, 'pt_jet > 4', 'pt_jet > 4')\n",
    "cc = applyCut(cc, 'y > 0.1 and y < 0.85', '0.1 < y < 0.85')\n",
    "cc = fixPhi(cc, 'photon')\n",
    "cc.eval('nu = 0.533*Q2/x',inplace=True)"
   ]
  },
  {
   "cell_type": "code",
   "execution_count": 11,
   "metadata": {
    "scrolled": true
   },
   "outputs": [
    {
     "name": "stdout",
     "output_type": "stream",
     "text": [
      "20 < pt_electron < 35 124192  fraction kept: 0.3\n",
      "pt_jet > 4 35919  fraction kept: 28.9\n",
      "0.1 < y < 0.85 35489  fraction kept: 98.8\n",
      "Fixed photon phi range\n",
      "Fixed photon delta phi range\n"
     ]
    }
   ],
   "source": [
    "dd = applyCut(d, '20 < pt_electron < 35', '20 < pt_electron < 35')\n",
    "dd = applyCut(dd, 'pt_jet > 4', 'pt_jet > 4')\n",
    "dd = applyCut(dd, 'y > 0.1 and y < 0.85', '0.1 < y < 0.85')\n",
    "dd = fixPhi(dd, 'photon')\n",
    "dd.eval('nu = 0.533*Q2/x',inplace=True)"
   ]
  },
  {
   "cell_type": "code",
   "execution_count": 12,
   "metadata": {},
   "outputs": [
    {
     "name": "stdout",
     "output_type": "stream",
     "text": [
      "5 < pt_electron < 10 78713  fraction kept: 83.3\n",
      "10 < pt_electron < 20 15811  fraction kept: 16.7\n",
      "20 < pt_electron < 35 35190  fraction kept: 0.8\n",
      "5 < pt_electron < 10 79951  fraction kept: 83.4\n",
      "10 < pt_electron < 20 15915  fraction kept: 16.6\n",
      "20 < pt_electron < 35 35489  fraction kept: 100.0\n"
     ]
    }
   ],
   "source": [
    "df1 = applyCut(aa, '5 < pt_electron < 10', '5 < pt_electron < 10')\n",
    "df2 = applyCut(aa, '10 < pt_electron < 20', '10 < pt_electron < 20')\n",
    "df3 = applyCut(cc, '20 < pt_electron < 35', '20 < pt_electron < 35')\n",
    "df4 = applyCut(bb, '5 < pt_electron < 10', '5 < pt_electron < 10')\n",
    "df5 = applyCut(bb, '10 < pt_electron < 20', '10 < pt_electron < 20')\n",
    "df6 = applyCut(dd, '20 < pt_electron < 35', '20 < pt_electron < 35')"
   ]
  },
  {
   "cell_type": "code",
   "execution_count": 13,
   "metadata": {},
   "outputs": [
    {
     "name": "stdout",
     "output_type": "stream",
     "text": [
      "\n",
      "Remove extra jets 73023  fraction kept: 92.8\n",
      "0.037590083 \n",
      "Remove extra jets 14667  fraction kept: 92.8\n",
      "0.13427483 \n",
      "Remove extra jets 33807  fraction kept: 96.1\n",
      "0.35356778\n",
      "\n",
      "Remove extra jets 73800  fraction kept: 92.3\n",
      "0.037456285 \n",
      "Remove extra jets 14667  fraction kept: 92.2\n",
      "0.13427483 \n",
      "Remove extra jets 33807  fraction kept: 95.3\n",
      "0.35356778\n"
     ]
    }
   ],
   "source": [
    "print np.mean(keepOneJet(df1)['x']), np.mean(keepOneJet(df2)['x']), np.mean(keepOneJet(df3)['x'])\n",
    "print np.mean(keepOneJet(df4)['x']), np.mean(keepOneJet(df5)['x']), np.mean(keepOneJet(df6)['x'])"
   ]
  },
  {
   "cell_type": "code",
   "execution_count": 14,
   "metadata": {},
   "outputs": [
    {
     "name": "stdout",
     "output_type": "stream",
     "text": [
      "\n",
      "Remove extra jets 73023  fraction kept: 92.8\n",
      "1150.2709 \n",
      "Remove extra jets 14667  fraction kept: 92.8\n",
      "1177.8379 \n",
      "Remove extra jets 33807  fraction kept: 96.1\n",
      "1463.2068\n",
      "\n",
      "Remove extra jets 73800  fraction kept: 92.3\n",
      "1150.7997 \n",
      "Remove extra jets 14667  fraction kept: 92.2\n",
      "1177.8379 \n",
      "Remove extra jets 33807  fraction kept: 95.3\n",
      "1463.2068\n"
     ]
    }
   ],
   "source": [
    "print np.mean(keepOneJet(df1)['nu']), np.mean(keepOneJet(df2)['nu']), np.mean(keepOneJet(df3)['nu'])\n",
    "print np.mean(keepOneJet(df4)['nu']), np.mean(keepOneJet(df5)['nu']), np.mean(keepOneJet(df6)['nu'])"
   ]
  },
  {
   "cell_type": "code",
   "execution_count": 21,
   "metadata": {},
   "outputs": [],
   "source": [
    "def plot_dphi(df_array, label_array, color_array):\n",
    "    fig = plt.hist(df_array[0]['delta_phi_photon_abs'], label=label_array[0], range=(0,0.5), bins=25, histtype='step', fill=True, alpha=0.5, stacked=True, normed=True, color=color_array[0], linewidth=2)\n",
    "    fig = plt.hist(df_array[1]['delta_phi_photon_abs'], label=label_array[1], range=(0,0.5), bins=25, histtype='step', hatch='/', stacked=True, normed=True, color=color_array[1], linewidth=2)  \n",
    "    return fig"
   ]
  },
  {
   "cell_type": "code",
   "execution_count": 22,
   "metadata": {},
   "outputs": [
    {
     "data": {
      "image/png": "[encoded data removed]",
      "text/plain": [
       "<Figure size 1440x432 with 3 Axes>"
      ]
     },
     "metadata": {
      "needs_background": "light"
     },
     "output_type": "display_data"
    }
   ],
   "source": [
    "fig = plt.figure(figsize=(20,6))\n",
    "plt.subplots_adjust(wspace=0, hspace=0)\n",
    "\n",
    "ax1 = plt.subplot(131)\n",
    "plot_dphi([df1,df4], ['E scheme jets','WTA scheme jets'], ['b','r'])\n",
    "plt.xlabel('$|\\phi^{jet}-\\phi^e-\\pi|$', fontsize=20)\n",
    "plt.ylabel('Normalized counts', fontsize=20)\n",
    "plt.xticks(fontsize=20)\n",
    "plt.yticks(fontsize=20)\n",
    "plt.text(0.1,6, r'$\\langle x \\rangle = 0.04, \\langle \\nu \\rangle = 1.15 \\, \\mathrm{TeV}$', fontsize=20)\n",
    "plt.text(0.1,8, '$\\sqrt{s} = 89 \\, \\mathrm{GeV}$ \\n $0.1 < y < 0.85$ \\n $p_T^{jet} > 4 \\, \\mathrm{GeV/c}$', fontsize=20)\n",
    "plt.legend(prop={'size': 20}, frameon=False, loc='best')\n",
    "plt.title('$5 < p_T^{electron} < 10 \\, \\mathrm{GeV/c}$', fontsize=20)\n",
    "\n",
    "ax2 = plt.subplot(132, sharey=ax1)\n",
    "plot_dphi([df2,df5], ['E scheme jets','WTA scheme jets'], ['b','r'])\n",
    "plt.xlabel('$|\\phi^{jet}-\\phi^e-\\pi|$', fontsize=20)\n",
    "plt.xticks(fontsize=20)\n",
    "plt.setp(ax2.get_yticklabels(), visible=False)\n",
    "plt.text(0.1,6, r'$\\langle x \\rangle = 0.13, \\langle \\nu \\rangle = 1.18 \\, \\mathrm{TeV}$', fontsize=20)\n",
    "plt.legend(prop={'size': 20}, frameon=False, loc='best')\n",
    "plt.title('$10 < p_T^{electron} < 20 \\, \\mathrm{GeV/c}$', fontsize=20)\n",
    "\n",
    "ax3 = plt.subplot(133, sharey=ax1)\n",
    "plot_dphi([df3,df6], ['E scheme jets','WTA scheme jets'], ['b','r'])\n",
    "plt.xlabel('$|\\phi^{jet}-\\phi^e-\\pi|$', fontsize=20)\n",
    "plt.xticks(fontsize=20)\n",
    "plt.setp(ax3.get_yticklabels(), visible=False)\n",
    "plt.text(0.1,6, r'$\\langle x \\rangle = 0.35, \\langle \\nu \\rangle = 1.46 \\, \\mathrm{TeV}$', fontsize=20)\n",
    "plt.legend(prop={'size': 20}, frameon=False, loc='best')\n",
    "plt.title('$20 < p_T^{electron} < 35 \\, \\mathrm{GeV/c}$', fontsize=20)\n",
    "\n",
    "plt.savefig('images/dphi_big_bin.pdf', bbox_inches='tight')"
   ]
  },
  {
   "cell_type": "code",
   "execution_count": null,
   "metadata": {},
   "outputs": [],
   "source": []
  }
 ],
 "metadata": {
  "kernelspec": {
   "display_name": "Python 2",
   "language": "python",
   "name": "python2"
  },
  "language_info": {
   "codemirror_mode": {
    "name": "ipython",
    "version": 2
   },
   "file_extension": ".py",
   "mimetype": "text/x-python",
   "name": "python",
   "nbconvert_exporter": "python",
   "pygments_lexer": "ipython2",
   "version": "2.7.15rc1"
  }
 },
 "nbformat": 4,
 "nbformat_minor": 2
}
