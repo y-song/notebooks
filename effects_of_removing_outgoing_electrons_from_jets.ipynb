{
 "cells": [
  {
   "cell_type": "code",
   "execution_count": 1,
   "metadata": {},
   "outputs": [
    {
     "name": "stdout",
     "output_type": "stream",
     "text": [
      "The history saving thread hit an unexpected error (DatabaseError('database disk image is malformed',)).History will not be written to the database.\n",
      "Welcome to JupyROOT 6.14/06\n"
     ]
    }
   ],
   "source": [
    "import time\n",
    "import ROOT\n",
    "import numpy as np\n",
    "import pandas as pd\n",
    "import root_pandas as rpd\n",
    "import matplotlib.pyplot as plt\n",
    "from matplotlib.colors import LogNorm\n",
    "from root_pandas import read_root\n",
    "%run functions.ipynb\n",
    "%run constants.ipynb"
   ]
  },
  {
   "cell_type": "code",
   "execution_count": 2,
   "metadata": {},
   "outputs": [],
   "source": [
    "def getData(inputFiles):\n",
    "    cols = []\n",
    "    scalar = []\n",
    "    scalar.append('evid')\n",
    "    scalar.append('xsec')\n",
    "    scalar.append('ntrials')    \n",
    "    scalar.append('x')\n",
    "    scalar.append('y')\n",
    "    scalar.append('Q2')\n",
    "    scalar.append('W2')\n",
    "    scalar.append('pt_jet')\n",
    "    scalar.append('eta_jet')\n",
    "    scalar.append('phi_jet')\n",
    "    scalar.append('pt_jet_g')\n",
    "    scalar.append('phi_jet_g')\n",
    "    scalar.append('pt_quark')\n",
    "    scalar.append('eta_quark')\n",
    "    scalar.append('phi_quark')\n",
    "    scalar.append('pt_photon')\n",
    "    scalar.append('phi_photon')\n",
    "    scalar.append('eta_electron')\n",
    "    scalar.append('pt_electron')\n",
    "    scalar.append('zg')\n",
    "    lists = scalar\n",
    "    dataframes = []\n",
    "    for inputFilename in inputFiles:\n",
    "        start = time.time()\n",
    "        df = read_root(inputFilename, columns=lists,flatten=cols)\n",
    "        dataframes.append(df)\n",
    "        end = time.time()\n",
    "        print '\\n', 'Processed', inputFilename, 'in',  '%2.1f'%(end-start), 'seconds'\n",
    "    return pd.concat([x for x in dataframes])"
   ]
  },
  {
   "cell_type": "code",
   "execution_count": 3,
   "metadata": {},
   "outputs": [
    {
     "name": "stdout",
     "output_type": "stream",
     "text": [
      "\n",
      "Processed $HOME/EIC/output/925.root in 130.9 seconds\n"
     ]
    }
   ],
   "source": [
    "files = [\"$HOME/EIC/output/925.root\"]\n",
    "a = getData(files)"
   ]
  },
  {
   "cell_type": "code",
   "execution_count": 4,
   "metadata": {},
   "outputs": [
    {
     "name": "stdout",
     "output_type": "stream",
     "text": [
      "pt_electron > 4 1926302  fraction kept: 4.4\n",
      "0.01 < y < 0.85 1841645  fraction kept: 95.6\n",
      "W2 > 4 1841645  fraction kept: 100.0\n"
     ]
    }
   ],
   "source": [
    "# general cuts\n",
    "d = applyCut(a, 'pt_electron > 4', 'pt_electron > 4')\n",
    "d = applyCut(d, 'y > 0.01 and y < 0.85', '0.01 < y < 0.85')\n",
    "d = applyCut(d, 'W2 > 4', 'W2 > 4')"
   ]
  },
  {
   "cell_type": "code",
   "execution_count": 5,
   "metadata": {},
   "outputs": [
    {
     "name": "stdout",
     "output_type": "stream",
     "text": [
      "Fixed photon phi range\n",
      "Fixed photon delta phi range\n"
     ]
    }
   ],
   "source": [
    "e = fixPhi(d, 'photon')"
   ]
  },
  {
   "cell_type": "code",
   "execution_count": 6,
   "metadata": {},
   "outputs": [],
   "source": [
    "def plot(df_array, label_array, color_array):\n",
    "    for i in range(0,len(df_array)):\n",
    "        plt.hist(df_array[i]['delta_phi_photon_abs'], label='$ '+ label_array[i] + ' GeV$', range=(0,3.5), bins=350, histtype='step', fill=False, stacked=True, normed=True, color=color_array[i], linewidth=2)"
   ]
  },
  {
   "cell_type": "code",
   "execution_count": 7,
   "metadata": {},
   "outputs": [
    {
     "name": "stderr",
     "output_type": "stream",
     "text": [
      "/home/youqi/.local/lib/python2.7/site-packages/matplotlib/axes/_axes.py:6571: UserWarning: The 'normed' kwarg is deprecated, and has been replaced by the 'density' kwarg.\n",
      "  warnings.warn(\"The 'normed' kwarg is deprecated, and has been \"\n"
     ]
    },
    {
     "data": {
      "text/plain": [
       "<matplotlib.legend.Legend at 0x7f81755d07d0>"
      ]
     },
     "execution_count": 7,
     "metadata": {},
     "output_type": "execute_result"
    },
    {
     "data": {
      "image/png": "[encoded data removed]",
      "text/plain": [
       "<Figure size 720x576 with 1 Axes>"
      ]
     },
     "metadata": {
      "needs_background": "light"
     },
     "output_type": "display_data"
    }
   ],
   "source": [
    "fig = plt.figure(figsize=(10,8))\n",
    "plot([e], ['p_T^{electron} > 4'], ['b'])\n",
    "plt.text(0.3,6,'$\\sqrt{s} = 89 GeV$ \\n $ 0.01 < y < 0.85$', fontsize=15)\n",
    "plt.xlabel('$|\\phi^{\\gamma}-\\phi^{jet}|$', fontsize=15)\n",
    "plt.ylabel('Normalized counts', fontsize=15)\n",
    "plt.xticks(fontsize=15)\n",
    "plt.yticks(fontsize=15)\n",
    "plt.legend(prop={'size': 15}, frameon=False, loc='best')"
   ]
  },
  {
   "cell_type": "code",
   "execution_count": 3,
   "metadata": {},
   "outputs": [
    {
     "name": "stdout",
     "output_type": "stream",
     "text": [
      "\n",
      "Processed $HOME/EIC/output/102.root in 127.4 seconds\n"
     ]
    }
   ],
   "source": [
    "files = [\"$HOME/EIC/output/102.root\"]\n",
    "a = getData(files)"
   ]
  },
  {
   "cell_type": "code",
   "execution_count": 4,
   "metadata": {
    "scrolled": true
   },
   "outputs": [
    {
     "name": "stdout",
     "output_type": "stream",
     "text": [
      "pt_electron > 4 1548370  fraction kept: 4.3\n",
      "0.01 < y < 0.85 1488329  fraction kept: 96.1\n",
      "W2 > 4 1488329  fraction kept: 100.0\n"
     ]
    }
   ],
   "source": [
    "# general cuts\n",
    "d = applyCut(a, 'pt_electron > 4', 'pt_electron > 4')\n",
    "d = applyCut(d, 'y > 0.01 and y < 0.85', '0.01 < y < 0.85')\n",
    "d = applyCut(d, 'W2 > 4', 'W2 > 4')"
   ]
  },
  {
   "cell_type": "code",
   "execution_count": 5,
   "metadata": {},
   "outputs": [
    {
     "name": "stdout",
     "output_type": "stream",
     "text": [
      "Fixed photon phi range\n",
      "Fixed photon delta phi range\n"
     ]
    }
   ],
   "source": [
    "e = fixPhi(d, 'photon')"
   ]
  },
  {
   "cell_type": "code",
   "execution_count": 10,
   "metadata": {},
   "outputs": [
    {
     "data": {
      "text/plain": [
       "<matplotlib.legend.Legend at 0x7f72b40b96d0>"
      ]
     },
     "execution_count": 10,
     "metadata": {},
     "output_type": "execute_result"
    },
    {
     "data": {
      "image/png": "[encoded data removed]",
      "text/plain": [
       "<Figure size 720x576 with 1 Axes>"
      ]
     },
     "metadata": {
      "needs_background": "light"
     },
     "output_type": "display_data"
    }
   ],
   "source": [
    "fig = plt.figure(figsize=(10,8))\n",
    "plot([e], ['p_T^{electron} > 4'], ['b'])\n",
    "plt.text(0.0,0.2,'$\\sqrt{s} = 89 GeV$ \\n $ 0.01 < y < 0.85$', fontsize=15)\n",
    "plt.xlabel('$|\\phi^{\\gamma}-\\phi^{jet}|$', fontsize=15)\n",
    "plt.ylabel('Normalized counts', fontsize=15)\n",
    "plt.xticks(fontsize=15)\n",
    "plt.yticks(fontsize=15)\n",
    "plt.legend(prop={'size': 15}, frameon=False, loc='best')"
   ]
  }
 ],
 "metadata": {
  "kernelspec": {
   "display_name": "Python 2",
   "language": "python",
   "name": "python2"
  },
  "language_info": {
   "codemirror_mode": {
    "name": "ipython",
    "version": 2
   },
   "file_extension": ".py",
   "mimetype": "text/x-python",
   "name": "python",
   "nbconvert_exporter": "python",
   "pygments_lexer": "ipython2",
   "version": "2.7.15rc1"
  }
 },
 "nbformat": 4,
 "nbformat_minor": 2
}
