{
 "cells": [
  {
   "cell_type": "code",
   "execution_count": 1,
   "metadata": {},
   "outputs": [
    {
     "name": "stdout",
     "output_type": "stream",
     "text": [
      "The history saving thread hit an unexpected error (DatabaseError('database disk image is malformed',)).History will not be written to the database.\n",
      "Welcome to JupyROOT 6.14/06\n"
     ]
    }
   ],
   "source": [
    "import time\n",
    "import ROOT\n",
    "import numpy as np\n",
    "import pandas as pd\n",
    "import root_pandas as rpd\n",
    "import matplotlib.pyplot as plt\n",
    "from matplotlib.colors import LogNorm\n",
    "from root_pandas import read_root\n",
    "%run functions.ipynb\n",
    "%run constants.ipynb"
   ]
  },
  {
   "cell_type": "code",
   "execution_count": 2,
   "metadata": {},
   "outputs": [],
   "source": [
    "def getData(inputFiles):\n",
    "    cols = []\n",
    "    scalar = []\n",
    "    scalar.append('evid')\n",
    "    scalar.append('xsec')\n",
    "    scalar.append('ntrials')    \n",
    "    scalar.append('x')\n",
    "    scalar.append('y')\n",
    "    scalar.append('Q2')\n",
    "    scalar.append('W2')\n",
    "    scalar.append('pt_jet')\n",
    "    scalar.append('eta_jet')\n",
    "    scalar.append('phi_jet')\n",
    "    scalar.append('pt_quark')\n",
    "    scalar.append('eta_quark')\n",
    "    scalar.append('phi_quark')\n",
    "    scalar.append('pt_photon')\n",
    "    scalar.append('phi_photon')\n",
    "    scalar.append('eta_electron')\n",
    "    scalar.append('pt_electron')\n",
    "    scalar.append('delta_R')\n",
    "    lists = scalar\n",
    "    dataframes = []\n",
    "    for inputFilename in inputFiles:\n",
    "        start = time.time()\n",
    "        df = read_root(inputFilename, columns=lists,flatten=cols)\n",
    "        dataframes.append(df)\n",
    "        end = time.time()\n",
    "        print '\\n', 'Processed', inputFilename, 'in',  '%2.1f'%(end-start), 'seconds'\n",
    "    return pd.concat([x for x in dataframes])"
   ]
  },
  {
   "cell_type": "code",
   "execution_count": 3,
   "metadata": {},
   "outputs": [
    {
     "name": "stdout",
     "output_type": "stream",
     "text": [
      "\n",
      "Processed $HOME/EIC/output/102.root in 109.2 seconds\n"
     ]
    }
   ],
   "source": [
    "files = [\"$HOME/EIC/output/102.root\"]\n",
    "a = getData(files)"
   ]
  },
  {
   "cell_type": "code",
   "execution_count": 4,
   "metadata": {
    "scrolled": true
   },
   "outputs": [
    {
     "name": "stdout",
     "output_type": "stream",
     "text": [
      "pt_electron > 4 1548370  fraction kept: 4.3\n",
      "pt_jet > 4 304784  fraction kept: 19.7\n",
      "0.1 < y < 0.85 134309  fraction kept: 44.1\n",
      "Fixed photon phi range\n",
      "Fixed photon delta phi range\n",
      "delta_phi_photon_abs < 0.4 110644  fraction kept: 82.4\n"
     ]
    }
   ],
   "source": [
    "c = applyCut(a, 'pt_electron > 4', 'pt_electron > 4')\n",
    "c = applyCut(c, 'pt_jet > 4', 'pt_jet > 4')\n",
    "c = applyCut(c, '0.1 < y < 0.85', '0.1 < y < 0.85')\n",
    "c = fixPhi(c, 'photon')\n",
    "c = applyCut(c, 'delta_phi_photon_abs < 0.4', 'delta_phi_photon_abs < 0.4')"
   ]
  },
  {
   "cell_type": "code",
   "execution_count": 5,
   "metadata": {},
   "outputs": [
    {
     "name": "stdout",
     "output_type": "stream",
     "text": [
      "5 < pt_electron < 10 66281  fraction kept: 59.9\n",
      "10 < pt_electron < 20 14383  fraction kept: 13.0\n",
      "20 < pt_electron < 35 967  fraction kept: 0.9\n"
     ]
    }
   ],
   "source": [
    "c1 = applyCut(c, '5 < pt_electron < 10', '5 < pt_electron < 10')\n",
    "c2 = applyCut(c, '10 < pt_electron < 20', '10 < pt_electron < 20')\n",
    "c3 = applyCut(c, '20 < pt_electron < 35', '20 < pt_electron < 35')"
   ]
  },
  {
   "cell_type": "code",
   "execution_count": 6,
   "metadata": {},
   "outputs": [],
   "source": [
    "def plot_r(df_array, var_array, label_array, color_array):\n",
    "    for i in range(0,len(var_array)):\n",
    "        fig = plt.hist(df_array[i][var_array[i]], label=label_array[i], range=(0,1.1), bins=11, histtype='step', fill=True, alpha=0.5, stacked=True, normed=True, color=color_array[i], linewidth=2)\n",
    "    return fig"
   ]
  },
  {
   "cell_type": "code",
   "execution_count": 7,
   "metadata": {},
   "outputs": [
    {
     "name": "stdout",
     "output_type": "stream",
     "text": [
      "\n",
      "Processed $HOME/EIC/output/105.root in 92.6 seconds\n"
     ]
    }
   ],
   "source": [
    "files = [\"$HOME/EIC/output/105.root\"]\n",
    "a = getData(files)"
   ]
  },
  {
   "cell_type": "code",
   "execution_count": 8,
   "metadata": {},
   "outputs": [
    {
     "name": "stdout",
     "output_type": "stream",
     "text": [
      "pt_electron > 4 1548370  fraction kept: 4.3\n",
      "pt_jet > 4 304784  fraction kept: 19.7\n",
      "0.1 < y < 0.85 134309  fraction kept: 44.1\n",
      "Fixed photon phi range\n",
      "Fixed photon delta phi range\n",
      "delta_phi_photon_abs < 0.4 110644  fraction kept: 82.4\n"
     ]
    }
   ],
   "source": [
    "d = applyCut(a, 'pt_electron > 4', 'pt_electron > 4')\n",
    "d = applyCut(d, 'pt_jet > 4', 'pt_jet > 4')\n",
    "d = applyCut(d, '0.1 < y < 0.85', '0.1 < y < 0.85')\n",
    "d = fixPhi(d, 'photon')\n",
    "d = applyCut(d, 'delta_phi_photon_abs < 0.4', 'delta_phi_photon_abs < 0.4')"
   ]
  },
  {
   "cell_type": "code",
   "execution_count": 9,
   "metadata": {},
   "outputs": [
    {
     "name": "stdout",
     "output_type": "stream",
     "text": [
      "5 < pt_electron < 10 66281  fraction kept: 59.9\n",
      "10 < pt_electron < 20 14383  fraction kept: 13.0\n",
      "20 < pt_electron < 35 967  fraction kept: 0.9\n"
     ]
    }
   ],
   "source": [
    "d1 = applyCut(d, '5 < pt_electron < 10', '5 < pt_electron < 10')\n",
    "d2 = applyCut(d, '10 < pt_electron < 20', '10 < pt_electron < 20')\n",
    "d3 = applyCut(d, '20 < pt_electron < 35', '20 < pt_electron < 35')"
   ]
  },
  {
   "cell_type": "code",
   "execution_count": 10,
   "metadata": {},
   "outputs": [
    {
     "name": "stdout",
     "output_type": "stream",
     "text": [
      "\n",
      "Processed $HOME/EIC/output/106.root in 92.9 seconds\n"
     ]
    }
   ],
   "source": [
    "files = [\"$HOME/EIC/output/106.root\"]\n",
    "a = getData(files)"
   ]
  },
  {
   "cell_type": "code",
   "execution_count": 11,
   "metadata": {},
   "outputs": [
    {
     "name": "stdout",
     "output_type": "stream",
     "text": [
      "pt_electron > 4 1548370  fraction kept: 4.3\n",
      "pt_jet > 4 304784  fraction kept: 19.7\n",
      "0.1 < y < 0.85 134309  fraction kept: 44.1\n",
      "Fixed photon phi range\n",
      "Fixed photon delta phi range\n",
      "delta_phi_photon_abs < 0.4 110644  fraction kept: 82.4\n"
     ]
    }
   ],
   "source": [
    "e = applyCut(a, 'pt_electron > 4', 'pt_electron > 4')\n",
    "e = applyCut(e, 'pt_jet > 4', 'pt_jet > 4')\n",
    "e = applyCut(e, '0.1 < y < 0.85', '0.1 < y < 0.85')\n",
    "e = fixPhi(e, 'photon')\n",
    "e = applyCut(e, 'delta_phi_photon_abs < 0.4', 'delta_phi_photon_abs < 0.4')\n",
    "e.eval('nu = 0.533*Q2/x',inplace=True)"
   ]
  },
  {
   "cell_type": "code",
   "execution_count": 12,
   "metadata": {},
   "outputs": [
    {
     "name": "stdout",
     "output_type": "stream",
     "text": [
      "5 < pt_electron < 10 66281  fraction kept: 59.9\n",
      "10 < pt_electron < 20 14383  fraction kept: 13.0\n",
      "20 < pt_electron < 35 967  fraction kept: 0.9\n"
     ]
    }
   ],
   "source": [
    "e1 = applyCut(e, '5 < pt_electron < 10', '5 < pt_electron < 10')\n",
    "e2 = applyCut(e, '10 < pt_electron < 20', '10 < pt_electron < 20')\n",
    "e3 = applyCut(e, '20 < pt_electron < 35', '20 < pt_electron < 35')"
   ]
  },
  {
   "cell_type": "code",
   "execution_count": 13,
   "metadata": {},
   "outputs": [
    {
     "name": "stdout",
     "output_type": "stream",
     "text": [
      "\n",
      "Remove extra jets 66212  fraction kept: 99.9\n",
      "0.03789028 \n",
      "Remove extra jets 14302  fraction kept: 99.4\n",
      "0.13459116 \n",
      "Remove extra jets 964  fraction kept: 99.7\n",
      "0.35058257\n"
     ]
    }
   ],
   "source": [
    "print np.mean(keepOneJet(e1)['x']), np.mean(keepOneJet(e2)['x']), np.mean(keepOneJet(e3)['x'])"
   ]
  },
  {
   "cell_type": "code",
   "execution_count": 14,
   "metadata": {},
   "outputs": [
    {
     "name": "stdout",
     "output_type": "stream",
     "text": [
      "\n",
      "Remove extra jets 66212  fraction kept: 99.9\n",
      "1162.4923 \n",
      "Remove extra jets 14302  fraction kept: 99.4\n",
      "1183.565 \n",
      "Remove extra jets 964  fraction kept: 99.7\n",
      "1470.9365\n"
     ]
    }
   ],
   "source": [
    "print np.mean(keepOneJet(e1)['nu']), np.mean(keepOneJet(e2)['nu']), np.mean(keepOneJet(e3)['nu'])"
   ]
  },
  {
   "cell_type": "code",
   "execution_count": 21,
   "metadata": {},
   "outputs": [
    {
     "data": {
      "image/png": "[encoded data removed]",
      "text/plain": [
       "<Figure size 1440x432 with 3 Axes>"
      ]
     },
     "metadata": {
      "needs_background": "light"
     },
     "output_type": "display_data"
    }
   ],
   "source": [
    "fig = plt.figure(figsize=(20,6))\n",
    "plt.subplots_adjust(wspace=0, hspace=0)\n",
    "\n",
    "ax1 = plt.subplot(131)\n",
    "plot_r([c1,d1,e1], ['delta_R','delta_R','delta_R'], [r'$\\beta=0.0$',r'$\\beta=2.0$',r'$\\beta=\\infty$'], ['b','r','g'])\n",
    "plt.xlabel('$R_g$', fontsize=20)\n",
    "plt.ylabel('Normalized counts', fontsize=20)\n",
    "plt.xticks(fontsize=20)\n",
    "plt.yticks(fontsize=20)\n",
    "plt.text(0, 1.5, r'$\\langle x \\rangle = 0.04, \\langle \\nu \\rangle = 1.16 \\, \\mathrm{TeV}$',fontsize=20)\n",
    "plt.text(0, 1.7,'$\\sqrt{s} = 89 \\, \\mathrm{GeV}$ \\n $0.1 < y < 0.85$ \\n $p_T^{jet} > 4 \\, \\mathrm{GeV/c}$ \\n $|\\phi^{jet} - \\phi^e - \\pi| < 0.4$ \\n Soft drop: $z_{min} = 0.1$', fontsize=20)\n",
    "plt.legend(prop={'size': 20}, frameon=False, loc='best')\n",
    "plt.title('$5 < p_T^{electron} < 10 \\, \\mathrm{GeV/c}$', fontsize=20)\n",
    "\n",
    "ax2 = plt.subplot(132, sharey=ax1)\n",
    "plot_r([c2,d2,e2], ['delta_R','delta_R','delta_R'], [r'$\\beta=0.0$',r'$\\beta=2.0$',r'$\\beta=1000.0$'], ['b','r','g'])\n",
    "plt.xlabel('$R_g$', fontsize=20)\n",
    "plt.xticks(fontsize=20)\n",
    "plt.setp(ax2.get_yticklabels(), visible=False)\n",
    "plt.text(0, 1.8, r'$\\langle x \\rangle = 0.13, \\langle \\nu \\rangle = 1.18 \\, \\mathrm{TeV}$',fontsize=20)\n",
    "plt.title('$10 < p_T^{electron} < 20 \\, \\mathrm{GeV/c}$', fontsize=20)\n",
    "\n",
    "ax3 = plt.subplot(133, sharey=ax1)\n",
    "plot_r([c3,d3,e3], ['delta_R','delta_R','delta_R'], [r'$\\beta=0.0$',r'$\\beta=2.0$',r'$\\beta=1000.0$'], ['b','r','g'])\n",
    "plt.xlabel('$R_g$', fontsize=20)\n",
    "plt.xticks(fontsize=20)\n",
    "plt.setp(ax3.get_yticklabels(), visible=False)\n",
    "plt.text(0, 1.8, r'$\\langle x \\rangle = 0.35, \\langle \\nu \\rangle = 1.47 \\, \\mathrm{TeV}$',fontsize=20)\n",
    "plt.title('$20 < p_T^{electron} < 35 \\, \\mathrm{GeV/c}$', fontsize=20)\n",
    "\n",
    "plt.savefig('images/deltar_1.pdf', bbox_inches='tight')"
   ]
  },
  {
   "cell_type": "code",
   "execution_count": null,
   "metadata": {},
   "outputs": [],
   "source": []
  }
 ],
 "metadata": {
  "kernelspec": {
   "display_name": "Python 2",
   "language": "python",
   "name": "python2"
  },
  "language_info": {
   "codemirror_mode": {
    "name": "ipython",
    "version": 2
   },
   "file_extension": ".py",
   "mimetype": "text/x-python",
   "name": "python",
   "nbconvert_exporter": "python",
   "pygments_lexer": "ipython2",
   "version": "2.7.15rc1"
  }
 },
 "nbformat": 4,
 "nbformat_minor": 2
}
