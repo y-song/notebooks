{
 "cells": [
  {
   "cell_type": "code",
   "execution_count": 1,
   "metadata": {},
   "outputs": [
    {
     "name": "stdout",
     "output_type": "stream",
     "text": [
      "The history saving thread hit an unexpected error (DatabaseError('database disk image is malformed',)).History will not be written to the database.\n",
      "Welcome to JupyROOT 6.14/06\n"
     ]
    }
   ],
   "source": [
    "import time\n",
    "import ROOT\n",
    "import numpy as np\n",
    "import pandas as pd\n",
    "import root_pandas as rpd\n",
    "import matplotlib.pyplot as plt\n",
    "import matplotlib.ticker as mticker\n",
    "from matplotlib.colors import LogNorm\n",
    "from root_pandas import read_root\n",
    "%run functions.ipynb"
   ]
  },
  {
   "cell_type": "code",
   "execution_count": 2,
   "metadata": {},
   "outputs": [],
   "source": [
    "def getDataPart(inputFiles):\n",
    "    \n",
    "    cols = []\n",
    "    scalar = []\n",
    "    \n",
    "    scalar.append('xsec')\n",
    "    scalar.append('ntrials') \n",
    "    scalar.append('y')\n",
    "    scalar.append('Q2')\n",
    "    \n",
    "    cols.append('pt_jet')\n",
    "    cols.append('z')\n",
    "    \n",
    "    lists = scalar + cols\n",
    "    dataframes = []\n",
    "    for inputFilename in inputFiles:\n",
    "        start = time.time()\n",
    "        df = read_root(inputFilename, columns=lists,flatten=cols)\n",
    "        dataframes.append(df)\n",
    "        end = time.time()\n",
    "        print '\\n', 'Processed', inputFilename, 'in',  '%2.1f'%(end-start), 'seconds'\n",
    "    return pd.concat([x for x in dataframes])"
   ]
  },
  {
   "cell_type": "code",
   "execution_count": 3,
   "metadata": {},
   "outputs": [
    {
     "name": "stdout",
     "output_type": "stream",
     "text": [
      "\n",
      "Processed $HOME/EIC/output/1220.root in 1.8 seconds\n"
     ]
    }
   ],
   "source": [
    "file1 = ['$HOME/EIC/output/1220.root']\n",
    "a = getDataPart(file1)"
   ]
  },
  {
   "cell_type": "code",
   "execution_count": 4,
   "metadata": {},
   "outputs": [
    {
     "name": "stdout",
     "output_type": "stream",
     "text": [
      "0.1 < y < 0.85 72862  fraction kept: 17.6\n",
      "Q2 > 25 11013  fraction kept: 15.1\n",
      "4 < pt_jet < 5 907  fraction kept: 8.2\n",
      "5 < pt_jet < 10 2497  fraction kept: 22.7\n",
      "10 < pt_jet < 15 628  fraction kept: 5.7\n"
     ]
    }
   ],
   "source": [
    "b = applyCut(a, 'y > 0.1 and y < 0.85', '0.1 < y < 0.85')\n",
    "b = applyCut(b, 'Q2 > 25', 'Q2 > 25')\n",
    "b1 = applyCut(b, '4 < pt_jet < 5', '4 < pt_jet < 5')\n",
    "b2 = applyCut(b, '5 < pt_jet < 10', '5 < pt_jet < 10')\n",
    "b3 = applyCut(b, '10 < pt_jet < 15', '10 < pt_jet < 15')"
   ]
  },
  {
   "cell_type": "code",
   "execution_count": 5,
   "metadata": {},
   "outputs": [],
   "source": [
    "xvar_array = toArrayFloat(-2.3, 0, 0, log=True, logNum=15)\n",
    "xsec = np.mean(a['xsec'])\n",
    "ntrials = a['ntrials'][a.shape[0]-1]\n",
    "x1, y1, xerr = getHist(b1, 'z', xvar_array)\n",
    "x2, y2, xerr = getHist(b2, 'z', xvar_array)\n",
    "x3, y3, xerr = getHist(b3, 'z', xvar_array)"
   ]
  },
  {
   "cell_type": "code",
   "execution_count": 7,
   "metadata": {},
   "outputs": [
    {
     "data": {
      "image/png": "[encoded data removed]",
      "text/plain": [
       "<Figure size 576x432 with 1 Axes>"
      ]
     },
     "metadata": {
      "needs_background": "light"
     },
     "output_type": "display_data"
    }
   ],
   "source": [
    "fig = plt.figure(figsize=(8,6))\n",
    "plt.errorbar(x1, 10*y1*xsec*1e12/(2*ntrials*xerr), xerr = xerr, fmt='none', color='b', elinewidth=1)\n",
    "plt.plot(x1, 10*y1*xsec*1e12/(2*ntrials*xerr), 'bo', fillstyle='none', label='$4 < p_T^{jet} < 5 \\, \\mathrm{GeV}$')\n",
    "plt.errorbar(x2, 10*y2*xsec*1e12/(2*ntrials*xerr), xerr=xerr, fmt='none', color='r', elinewidth=1)\n",
    "plt.plot(x2, 10*y2*xsec*1e12/(2*ntrials*xerr), 'ro', fillstyle='none', label='$5 < p_T^{jet} < 10 \\, \\mathrm{GeV}$')\n",
    "plt.errorbar(x3, 10*y3*xsec*1e12/(2*ntrials*xerr), xerr=xerr, fmt='none', color='G', elinewidth=1)\n",
    "plt.plot(x3, 10*y3*xsec*1e12/(2*ntrials*xerr), 'go', fillstyle='none', label='$10 < p_T^{jet} < 15 \\, \\mathrm{GeV}$')\n",
    "plt.xticks(fontsize=15)\n",
    "plt.yticks(fontsize=15)\n",
    "plt.xscale('log')\n",
    "plt.yscale('log')\n",
    "plt.xlabel('$z$', fontsize=15)\n",
    "plt.ylabel(r'$(d\\sigma/dz) \\times 10 \\, fb^{-1}$', fontsize=15)\n",
    "plt.xlim(left=0.005, right=1)\n",
    "plt.legend(prop={'size': 15}, frameon=False, loc='best')\n",
    "plt.text(0.005,5e5,'$\\sqrt{s} = 89 \\, \\mathrm{GeV}$ \\n $0.1 < y < 0.85$ \\n $Q^2 > 25 \\, \\mathrm{GeV^2}$',\\\n",
    "        fontsize=15)\n",
    "plt.savefig('images/z.pdf', bbox_inches='tight')"
   ]
  },
  {
   "cell_type": "code",
   "execution_count": null,
   "metadata": {},
   "outputs": [],
   "source": []
  }
 ],
 "metadata": {
  "kernelspec": {
   "display_name": "Python 2",
   "language": "python",
   "name": "python2"
  },
  "language_info": {
   "codemirror_mode": {
    "name": "ipython",
    "version": 2
   },
   "file_extension": ".py",
   "mimetype": "text/x-python",
   "name": "python",
   "nbconvert_exporter": "python",
   "pygments_lexer": "ipython2",
   "version": "2.7.15rc1"
  }
 },
 "nbformat": 4,
 "nbformat_minor": 2
}
