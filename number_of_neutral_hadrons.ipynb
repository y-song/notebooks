{
 "cells": [
  {
   "cell_type": "code",
   "execution_count": 1,
   "metadata": {},
   "outputs": [
    {
     "name": "stdout",
     "output_type": "stream",
     "text": [
      "The history saving thread hit an unexpected error (DatabaseError('database disk image is malformed',)).History will not be written to the database.\n",
      "Welcome to JupyROOT 6.14/06\n"
     ]
    }
   ],
   "source": [
    "import time\n",
    "import ROOT\n",
    "import numpy as np\n",
    "import pandas as pd\n",
    "import root_pandas as rpd\n",
    "import matplotlib.pyplot as plt\n",
    "from matplotlib.colors import LogNorm\n",
    "from root_pandas import read_root\n",
    "%run functions.ipynb"
   ]
  },
  {
   "cell_type": "code",
   "execution_count": 2,
   "metadata": {},
   "outputs": [],
   "source": [
    "def getData(inputFiles):\n",
    "    cols = []\n",
    "    scalar = []\n",
    "    scalar.append('evid')\n",
    "    scalar.append('ncharged')\n",
    "    scalar.append('nneutral')\n",
    "    scalar.append('nnh')\n",
    "    scalar.append('pt_jet')\n",
    "    scalar.append('p_jet')\n",
    "    scalar.append('eta_jet')\n",
    "    scalar.append('pt_electron')\n",
    "    scalar.append('Q2')\n",
    "    scalar.append('W2')\n",
    "    scalar.append('x')\n",
    "    scalar.append('y')\n",
    "    scalar.append('xsec')\n",
    "    scalar.append('ntrials')\n",
    "    lists = scalar\n",
    "    dataframes = []\n",
    "    for inputFilename in inputFiles:\n",
    "        start = time.time()\n",
    "        df = read_root(inputFilename, columns=lists,flatten=cols)\n",
    "        dataframes.append(df)\n",
    "        end = time.time()\n",
    "        print 'Processed', inputFilename, 'in',  end-start, 'seconds'\n",
    "    return pd.concat([x for x in dataframes])"
   ]
  },
  {
   "cell_type": "code",
   "execution_count": 3,
   "metadata": {},
   "outputs": [
    {
     "name": "stdout",
     "output_type": "stream",
     "text": [
      "Processed $HOME/EIC/output/116.root in 45.3402810097 seconds\n"
     ]
    }
   ],
   "source": [
    "files=['$HOME/EIC/output/116.root']\n",
    "a = getData(files)"
   ]
  },
  {
   "cell_type": "code",
   "execution_count": 4,
   "metadata": {},
   "outputs": [
    {
     "name": "stdout",
     "output_type": "stream",
     "text": [
      "0.1 < y < 0.85 6783540  fraction kept: 18.7\n",
      "W2 > 4 6783540  fraction kept: 100.0\n"
     ]
    }
   ],
   "source": [
    "b = applyCut(a, '0.1 < y < 0.85', '0.1 < y < 0.85')\n",
    "b = applyCut(b, 'W2 > 4', 'W2 > 4')\n",
    "b.eval('mult = nneutral + ncharged', inplace=True)"
   ]
  },
  {
   "cell_type": "code",
   "execution_count": 10,
   "metadata": {},
   "outputs": [
    {
     "name": "stdout",
     "output_type": "stream",
     "text": [
      "\n",
      "-4.5 < eta_jet < 4.5 \n",
      "\n",
      "-4.5 < eta_jet < 4.5 6783540  fraction kept: 100.0\n",
      "1.0 < pt_jet < 1.3463769461724673 585922  fraction kept: 8.6\n",
      "1.3463769461724673 < pt_jet < 1.812730881184699 413156  fraction kept: 6.1\n",
      "1.812730881184699 < pt_jet < 2.440619068041981 320441  fraction kept: 4.7\n",
      "2.440619068041981 < pt_jet < 3.285993247600655 251405  fraction kept: 3.7\n",
      "3.285993247600655 < pt_jet < 4.424185553847917 172699  fraction kept: 2.5\n",
      "4.424185553847917 < pt_jet < 5.956621435290106 104289  fraction kept: 1.5\n",
      "5.956621435290106 < pt_jet < 8.019857777551351 57693  fraction kept: 0.9\n",
      "8.019857777551351 < pt_jet < 10.7977516232771 28637  fraction kept: 0.4\n",
      "10.7977516232771 < pt_jet < 14.537843856076622 12820  fraction kept: 0.2\n",
      "14.537843856076622 < pt_jet < 19.573417814876606 4907  fraction kept: 0.1\n",
      "19.573417814876606 < pt_jet < 26.353198503751333 1293  fraction kept: 0.0\n",
      "26.353198503751333 < pt_jet < 35.48133892335755 147  fraction kept: 0.0\n"
     ]
    }
   ],
   "source": [
    "etaedges = [-4.5, 4.5]\n",
    "ptedges = toArrayFloat(0, 1.55, 0, log=True, logNum=13)\n",
    "d = partitionEtaPt(b, etaedges, ptedges)"
   ]
  },
  {
   "cell_type": "code",
   "execution_count": 16,
   "metadata": {},
   "outputs": [
    {
     "data": {
      "image/png": "[encoded data removed]",
      "text/plain": [
       "<Figure size 720x576 with 1 Axes>"
      ]
     },
     "metadata": {
      "needs_background": "light"
     },
     "output_type": "display_data"
    }
   ],
   "source": [
    "fig = plt.figure(figsize=(10,8))\n",
    "for i in range(len(etaedges)-1):\n",
    "    x = []*(len(ptedges)-1)\n",
    "    y = []*(len(ptedges)-1)\n",
    "    ynh = []*(len(ptedges)-1)\n",
    "    yerr = []*(len(ptedges)-1)\n",
    "    ynherr = []*(len(ptedges)-1)\n",
    "    for j in range(len(ptedges)-1):\n",
    "        df = d[i][j]\n",
    "        x.append((((float)(ptedges[j])) + ptedges[j+1])/2)\n",
    "        y.append(np.mean(df['mult']))\n",
    "        ynh.append(np.mean(df['nnh']))\n",
    "        xerr = getInterval(ptedges)/2\n",
    "        yerr.append(np.std(df['mult'])/2)\n",
    "        ynherr.append(np.std(df['nnh']/2))\n",
    "    plt.errorbar(x, y, xerr = xerr, yerr = yerr, color='r', elinewidth=1, label='All particles')\n",
    "    plt.errorbar(x, ynh, xerr = xerr, yerr = ynherr, color='b', elinewidth=1, label='Neutral hadrons')\n",
    "plt.xticks(fontsize=15)\n",
    "plt.yticks(fontsize=15)\n",
    "plt.xlabel('$p_T^{jet} / GeV$', fontsize=15)\n",
    "plt.ylabel('Number of Jet Constituents', fontsize=15)\n",
    "plt.legend(prop={'size': 15}, frameon=False, loc='best')\n",
    "plt.title('$ Q^2 > 1 GeV^2, 0.1 < y < 0.85 $', fontsize=15)\n",
    "plt.savefig('images/neutral.pdf', bbox_inches='tight')"
   ]
  }
 ],
 "metadata": {
  "kernelspec": {
   "display_name": "Python 2",
   "language": "python",
   "name": "python2"
  },
  "language_info": {
   "codemirror_mode": {
    "name": "ipython",
    "version": 2
   },
   "file_extension": ".py",
   "mimetype": "text/x-python",
   "name": "python",
   "nbconvert_exporter": "python",
   "pygments_lexer": "ipython2",
   "version": "2.7.15rc1"
  }
 },
 "nbformat": 4,
 "nbformat_minor": 2
}
