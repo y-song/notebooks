{
 "cells": [
  {
   "cell_type": "code",
   "execution_count": 1,
   "metadata": {},
   "outputs": [
    {
     "name": "stdout",
     "output_type": "stream",
     "text": [
      "The history saving thread hit an unexpected error (DatabaseError('database disk image is malformed',)).History will not be written to the database.\n",
      "Welcome to JupyROOT 6.14/06\n"
     ]
    }
   ],
   "source": [
    "import time\n",
    "import ROOT\n",
    "import numpy as np\n",
    "import pandas as pd\n",
    "import root_pandas as rpd\n",
    "import matplotlib.pyplot as plt\n",
    "from matplotlib.colors import LogNorm\n",
    "from root_pandas import read_root\n",
    "% run functions.ipynb\n",
    "\n",
    "# 625 == 723"
   ]
  },
  {
   "cell_type": "code",
   "execution_count": 2,
   "metadata": {},
   "outputs": [],
   "source": [
    "def keepOneJet(inputDataframe):    \n",
    "    dataframe = inputDataframe\n",
    "    nbeforecut = dataframe.shape[0]\n",
    "    cutDataframe = dataframe.loc[~dataframe['evid'].duplicated(keep='first')]\n",
    "    print 'Remove extra jets', cutDataframe.shape[0], ' fraction kept: %2.1f'%(100.0*float(cutDataframe.shape[0])/nbeforecut)\n",
    "    return cutDataframe"
   ]
  },
  {
   "cell_type": "code",
   "execution_count": 13,
   "metadata": {},
   "outputs": [
    {
     "name": "stdout",
     "output_type": "stream",
     "text": [
      "\n",
      "Processed $HOME/fjpythia/output/check_if_this_matches_723.root in 52.4209191799 seconds\n",
      "0.01 < y < 0.85 28989288  fraction kept: 66.1\n",
      "W2 > 4 28989288  fraction kept: 100.0\n",
      "pt_jet > 5 635803  fraction kept: 2.2\n",
      "Remove extra jets 471837  fraction kept: 74.2\n",
      "\n",
      "Processed $HOME/fjpythia/output/723.root in 52.247382164 seconds\n",
      "0.01 < y < 0.85 28989288  fraction kept: 66.1\n",
      "W2 > 4 28989288  fraction kept: 100.0\n",
      "pt_jet > 5 635803  fraction kept: 2.2\n",
      "Remove extra jets 471837  fraction kept: 74.2\n"
     ]
    }
   ],
   "source": [
    "def getData(inputFiles):\n",
    "    cols = []\n",
    "    scalar = []\n",
    "    scalar.append('evid')\n",
    "    scalar.append('xsec')\n",
    "    scalar.append('ntrials')    \n",
    "    scalar.append('x')\n",
    "    scalar.append('y')\n",
    "    scalar.append('Q2')\n",
    "    scalar.append('W2')\n",
    "    scalar.append('pt_jet')\n",
    "    lists = scalar\n",
    "    dataframes = []\n",
    "    for inputFilename in inputFiles:\n",
    "        start = time.time()\n",
    "        df = read_root(inputFilename, columns=lists,flatten=cols)\n",
    "        dataframes.append(df)\n",
    "        end = time.time()\n",
    "        print '\\n', 'Processed', inputFilename, 'in',  end-start, 'seconds'\n",
    "    return pd.concat([x for x in dataframes])\n",
    "\n",
    "files = [\"$HOME/fjpythia/output/check_if_this_matches_723.root\"]\n",
    "df = getData(files)\n",
    "#df.eval('Q2 = Q*Q', inplace=True)\n",
    "d = applyCut(df, 'y > 0.01 and y < 0.85', '0.01 < y < 0.85')\n",
    "d = applyCut(d, 'W2 > 4', 'W2 > 4')\n",
    "d = applyCut(d, 'pt_jet > 5', 'pt_jet > 5')\n",
    "d = keepOneJet(d)\n",
    "\n",
    "def getData(inputFiles):\n",
    "    cols = []\n",
    "    scalar = []\n",
    "    scalar.append('evid')\n",
    "    scalar.append('xsec')\n",
    "    scalar.append('ntrials')    \n",
    "    scalar.append('x')\n",
    "    scalar.append('y')\n",
    "    scalar.append('Q2')\n",
    "    scalar.append('W2')\n",
    "    scalar.append('pt_jet')\n",
    "    lists = scalar\n",
    "    dataframes = []\n",
    "    for inputFilename in inputFiles:\n",
    "        start = time.time()\n",
    "        df = read_root(inputFilename, columns=lists,flatten=cols)\n",
    "        dataframes.append(df)\n",
    "        end = time.time()\n",
    "        print '\\n', 'Processed', inputFilename, 'in',  end-start, 'seconds'\n",
    "    return pd.concat([x for x in dataframes])\n",
    "\n",
    "files = [\"$HOME/fjpythia/output/723.root\"]\n",
    "ef = getData(files)\n",
    "e = applyCut(ef, 'y > 0.01 and y < 0.85', '0.01 < y < 0.85')\n",
    "e = applyCut(e, 'W2 > 4', 'W2 > 4')\n",
    "e = applyCut(e, 'pt_jet > 5', 'pt_jet > 5')\n",
    "e = keepOneJet(e)"
   ]
  },
  {
   "cell_type": "code",
   "execution_count": 14,
   "metadata": {},
   "outputs": [
    {
     "name": "stdout",
     "output_type": "stream",
     "text": [
      "1.00013959408 2.52315345506e-07 1.00013959408 2.52315345506e-07\n"
     ]
    }
   ],
   "source": [
    "print min(df['Q2']), min(df['pt_jet']), min(ef['Q2']), min(ef['pt_jet'])"
   ]
  },
  {
   "cell_type": "code",
   "execution_count": 15,
   "metadata": {},
   "outputs": [],
   "source": [
    "def normalize(counts, dataframeBeforeCut):\n",
    "    xsec = np.mean(dataframeBeforeCut['xsec'])\n",
    "    ntrials = dataframeBeforeCut['ntrials'][dataframeBeforeCut.shape[0]-1]\n",
    "    return 10 * (counts * xsec * 1e12) / ntrials\n",
    "\n",
    "def applyCut(inputDataframe, cut, text=None):\n",
    "    dataframe = inputDataframe\n",
    "    nbeforecut = dataframe.shape[0]\n",
    "    cutDataframe = dataframe.query(cut)\n",
    "    if text:\n",
    "        print text, cutDataframe.shape[0], ' fraction kept: %2.1f'%(100.0*float(cutDataframe.shape[0])/nbeforecut)\n",
    "    return cutDataframe\n",
    "\n",
    "def bins(inputDataframe, variable, array):  \n",
    "    ds=[]\n",
    "    for i in range(0,len(array)-1):\n",
    "        ds.append(inputDataframe.query('' + str(variable) + ' > ' + str(array[i]) + ' and ' + str(variable) + ' < ' + str(array[i+1]) + ''))\n",
    "    return ds\n",
    "\n",
    "def toStr(inputArray):\n",
    "    length = inputArray.size\n",
    "    array = []\n",
    "    for i in range(0,length):\n",
    "        array.append(str(inputArray[i])) \n",
    "    return array\n",
    "\n",
    "def keepOneJet(inputDataframe):    \n",
    "    dataframe = inputDataframe\n",
    "    nbeforecut = dataframe.shape[0]\n",
    "    cutDataframe = dataframe.loc[~dataframe['evid'].duplicated(keep='first')]\n",
    "    print 'Remove extra jets', cutDataframe.shape[0], ' fraction kept: %2.1f'%(100.0*float(cutDataframe.shape[0])/nbeforecut)\n",
    "    return cutDataframe"
   ]
  },
  {
   "cell_type": "code",
   "execution_count": 16,
   "metadata": {},
   "outputs": [],
   "source": [
    "x_array_float = np.logspace(-2.4, 0.0, num=21)\n",
    "x_array = toStr(x_array_float)    \n",
    "x_interval = np.zeros(len(x_array)-1)\n",
    "for i in range(0,len(x_array)-1):\n",
    "    x_interval[i] = x_array_float[i+1] - x_array_float[i]\n",
    "zeros = np.zeros(len(x_interval))\n",
    "d_x_array = bins(d,'x',x_array)\n",
    "e_x_array = bins(e,'x',x_array)\n",
    "\n",
    "counts_d = np.zeros(len(d_x_array))\n",
    "for i in range(0,len(d_x_array)):\n",
    "    counts_d[i] = normalize(len(d_x_array[i]),df)\n",
    "    \n",
    "counts_e = np.zeros(len(e_x_array))\n",
    "for i in range(0,len(e_x_array)):\n",
    "    counts_e[i] = normalize(len(e_x_array[i]),ef)"
   ]
  },
  {
   "cell_type": "code",
   "execution_count": 17,
   "metadata": {},
   "outputs": [
    {
     "name": "stdout",
     "output_type": "stream",
     "text": [
      "Cuts: Q2 > 1 GeV^2, 0.01 < y < 0.85, W2 > 4 GeV^2, pt_jet > 4 GeV\n"
     ]
    },
    {
     "data": {
      "image/png": "[encoded data removed]",
      "text/plain": [
       "<Figure size 1152x1296 with 2 Axes>"
      ]
     },
     "metadata": {
      "needs_background": "light"
     },
     "output_type": "display_data"
    }
   ],
   "source": [
    "fig = plt.figure(figsize=(16,18))\n",
    "plt.subplots_adjust(hspace=0.2)\n",
    "\n",
    "plt.subplot(3,2,1)\n",
    "plt.errorbar(x_array_float[:-1], counts_d, xerr=[zeros, x_interval], fmt='none', label='Without nPDF',ecolor='b', elinewidth=1, capsize=1.5)\n",
    "plt.errorbar(x_array_float[:-1], counts_e, xerr=[zeros, x_interval], fmt='none', label='With nPDF',ecolor='r', elinewidth=1, capsize=1.5)\n",
    "plt.xticks(fontsize=15)\n",
    "plt.yticks(fontsize=15)\n",
    "plt.xlabel('x', fontsize = 15)\n",
    "plt.ylabel('$d\\sigma*10fb^{-1}$', fontsize = 15)\n",
    "plt.yscale('log')\n",
    "plt.xscale('log')\n",
    "plt.legend(prop={'size': 12.5},frameon=True)\n",
    "plt.xlim(left=0.003, right=1)\n",
    "\n",
    "plt.subplot(3,2,2)\n",
    "plt.errorbar(x_array_float[:-1], counts_e/counts_d, xerr=[zeros, x_interval], fmt='none',ecolor='b', elinewidth=1, capsize=1.5)\n",
    "plt.xticks(fontsize=15)\n",
    "plt.yticks(fontsize=15)\n",
    "plt.xlabel('x', fontsize = 15)\n",
    "plt.ylabel('$d\\sigma$ with nPDF / $d\\sigma$ without nPDF', fontsize = 15)\n",
    "plt.xscale('log')\n",
    "plt.xlim(left=0.003, right=1)\n",
    "\n",
    "print 'Cuts: Q2 > 1 GeV^2, 0.01 < y < 0.85, W2 > 4 GeV^2, pt_jet > 4 GeV'"
   ]
  },
  {
   "cell_type": "code",
   "execution_count": null,
   "metadata": {},
   "outputs": [],
   "source": []
  }
 ],
 "metadata": {
  "kernelspec": {
   "display_name": "Python 2",
   "language": "python",
   "name": "python2"
  },
  "language_info": {
   "codemirror_mode": {
    "name": "ipython",
    "version": 2
   },
   "file_extension": ".py",
   "mimetype": "text/x-python",
   "name": "python",
   "nbconvert_exporter": "python",
   "pygments_lexer": "ipython2",
   "version": "2.7.15rc1"
  }
 },
 "nbformat": 4,
 "nbformat_minor": 2
}
