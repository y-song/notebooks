{
 "cells": [
  {
   "cell_type": "code",
   "execution_count": 1,
   "metadata": {},
   "outputs": [
    {
     "name": "stdout",
     "output_type": "stream",
     "text": [
      "The history saving thread hit an unexpected error (DatabaseError('database disk image is malformed',)).History will not be written to the database.\n"
     ]
    }
   ],
   "source": [
    "def getParticle(array):\n",
    "    particle_array = []\n",
    "    for array_element in array:\n",
    "        if (array_element == -2212):\n",
    "            particle_array.append('$\\overline{p}$')\n",
    "        elif (array_element == -2112):\n",
    "            particle_array.append('$\\overline{n}$')\n",
    "        elif (array_element == -321):\n",
    "            particle_array.append('$K^{-}$')\n",
    "        elif (array_element == -211):\n",
    "            particle_array.append('$\\pi^{-}$')\n",
    "        elif (array_element == -16):\n",
    "            particle_array.append('$\\overline{\\nu}_T$')\n",
    "        elif (array_element == -14):\n",
    "            particle_array.append('$\\overline{\\nu}_{\\mu}$')\n",
    "        elif (array_element == -13):\n",
    "            particle_array.append('$\\mu^{+}$')\n",
    "        elif (array_element == -12):\n",
    "            particle_array.append('$\\overline{\\nu}_e$')\n",
    "        elif (array_element == -11):\n",
    "            particle_array.append('$e^{+}$')\n",
    "        elif (array_element == 11):\n",
    "            particle_array.append('$e^{-}$')\n",
    "        elif (array_element == 12):\n",
    "            particle_array.append('$\\nu_e$')\n",
    "        elif (array_element == 13):\n",
    "            particle_array.append('$\\mu^{-}$')\n",
    "        elif (array_element == 14):\n",
    "            particle_array.append('$\\nu_{\\mu}$')\n",
    "        elif (array_element == 16):\n",
    "            particle_array.append('$\\nu_T$')\n",
    "        elif (array_element == 22):\n",
    "            particle_array.append('$\\gamma$')\n",
    "        elif (array_element == 130):\n",
    "            particle_array.append('$K^0_L$')\n",
    "        elif (array_element == 211):\n",
    "            particle_array.append('$\\pi^{+}$')\n",
    "        elif (array_element == 321):\n",
    "            particle_array.append('$K^{+}$')\n",
    "        elif (array_element == 2112):\n",
    "            particle_array.append('$n$')\n",
    "        elif (array_element == 2212):\n",
    "            particle_array.append('$p$')\n",
    "        else:\n",
    "            particle_array.append(str(array_element))\n",
    "    return particle_array"
   ]
  },
  {
   "cell_type": "code",
   "execution_count": null,
   "metadata": {},
   "outputs": [],
   "source": []
  }
 ],
 "metadata": {
  "kernelspec": {
   "display_name": "Python 2",
   "language": "python",
   "name": "python2"
  },
  "language_info": {
   "codemirror_mode": {
    "name": "ipython",
    "version": 2
   },
   "file_extension": ".py",
   "mimetype": "text/x-python",
   "name": "python",
   "nbconvert_exporter": "python",
   "pygments_lexer": "ipython2",
   "version": "2.7.15rc1"
  }
 },
 "nbformat": 4,
 "nbformat_minor": 2
}
