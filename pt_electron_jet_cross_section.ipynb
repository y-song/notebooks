{
 "cells": [
  {
   "cell_type": "code",
   "execution_count": 1,
   "metadata": {},
   "outputs": [
    {
     "name": "stdout",
     "output_type": "stream",
     "text": [
      "The history saving thread hit an unexpected error (DatabaseError('database disk image is malformed',)).History will not be written to the database.\n",
      "Welcome to JupyROOT 6.14/06\n"
     ]
    }
   ],
   "source": [
    "import time\n",
    "import ROOT\n",
    "import numpy as np\n",
    "import pandas as pd\n",
    "import root_pandas as rpd\n",
    "import matplotlib.pyplot as plt\n",
    "from matplotlib.colors import LogNorm\n",
    "from root_pandas import read_root\n",
    "%run functions.ipynb\n",
    "%run constants.ipynb"
   ]
  },
  {
   "cell_type": "code",
   "execution_count": 2,
   "metadata": {},
   "outputs": [],
   "source": [
    "def getData(inputFiles):\n",
    "    cols = []\n",
    "    scalar = []\n",
    "    scalar.append('evid')\n",
    "    scalar.append('xsec')\n",
    "    scalar.append('ntrials')    \n",
    "    scalar.append('x')\n",
    "    scalar.append('y')\n",
    "    scalar.append('Q2')\n",
    "    scalar.append('W2')\n",
    "    scalar.append('pt_jet')\n",
    "    scalar.append('pt_jet_g')\n",
    "    scalar.append('phi_jet')\n",
    "    scalar.append('pt_quark')\n",
    "    scalar.append('eta_quark')\n",
    "    scalar.append('phi_quark')\n",
    "    scalar.append('pt_photon')\n",
    "    scalar.append('phi_photon')\n",
    "    scalar.append('pt_electron')\n",
    "    scalar.append('eta_electron')\n",
    "    lists = scalar\n",
    "    dataframes = []\n",
    "    for inputFilename in inputFiles:\n",
    "        start = time.time()\n",
    "        df = read_root(inputFilename, columns=lists,flatten=cols)\n",
    "        dataframes.append(df)\n",
    "        end = time.time()\n",
    "        print '\\n', 'Processed', inputFilename, 'in',  '%2.1f'%(end-start), 'seconds'\n",
    "    return pd.concat([x for x in dataframes])"
   ]
  },
  {
   "cell_type": "code",
   "execution_count": 3,
   "metadata": {},
   "outputs": [
    {
     "name": "stdout",
     "output_type": "stream",
     "text": [
      "\n",
      "Processed $HOME/EIC/output/102.root in 55.8 seconds\n"
     ]
    }
   ],
   "source": [
    "dataFiles = [\"$HOME/EIC/output/102.root\"]\n",
    "a = getData(dataFiles)"
   ]
  },
  {
   "cell_type": "code",
   "execution_count": 4,
   "metadata": {},
   "outputs": [
    {
     "name": "stdout",
     "output_type": "stream",
     "text": [
      "0.1 < y < 0.85 6783540  fraction kept: 18.7\n",
      "Q2 > 25 785883  fraction kept: 11.6\n",
      "Fixed photon phi range\n",
      "Fixed photon delta phi range\n",
      "delta_phi_photon_abs < 0.4 220056  fraction kept: 28.0\n",
      "\n",
      "Remove extra jets 146644  fraction kept: 66.6\n"
     ]
    }
   ],
   "source": [
    "b = applyCut(a, 'y > 0.1 and y < 0.85', '0.1 < y < 0.85')\n",
    "b = applyCut(b, 'Q2 > 25', 'Q2 > 25')\n",
    "b = fixPhi(b, 'photon')\n",
    "b = applyCut(b, 'delta_phi_photon_abs < 0.4', 'delta_phi_photon_abs < 0.4')\n",
    "b1 = keepOneJet(b)"
   ]
  },
  {
   "cell_type": "code",
   "execution_count": 5,
   "metadata": {},
   "outputs": [
    {
     "name": "stdout",
     "output_type": "stream",
     "text": [
      "38.4096260071 36.9280471802\n"
     ]
    }
   ],
   "source": [
    "print max(b1['pt_electron']), max(b['pt_jet'])"
   ]
  },
  {
   "cell_type": "code",
   "execution_count": 6,
   "metadata": {},
   "outputs": [
    {
     "data": {
      "image/png": "[encoded data removed]",
      "text/plain": [
       "<Figure size 432x288 with 1 Axes>"
      ]
     },
     "metadata": {
      "needs_background": "light"
     },
     "output_type": "display_data"
    }
   ],
   "source": [
    "xvar_array = toArrayFloat(0.69, 1.60, 0, log=True, logNum=11)\n",
    "xsec = np.mean(a['xsec'])\n",
    "ntrials = a['ntrials'][a.shape[0]-1]\n",
    "    \n",
    "x1, y1, xerr = getHist(b1, 'pt_electron', xvar_array)\n",
    "x2, y2, xerr = getHist(b, 'pt_jet', xvar_array)\n",
    "\n",
    "plt.errorbar(x1, 10*y1*xsec*1e12/ntrials, xerr = xerr, fmt='none', color='b', elinewidth=1)\n",
    "plt.plot(x1, 10*y1*xsec*1e12/ntrials, 'bo', fillstyle='none', label='$p_T^{electron}$')\n",
    "plt.errorbar(x2, 10*y2*xsec*1e12/ntrials, xerr=xerr, fmt='none', color='r', elinewidth=1)\n",
    "plt.plot(x2, 10*y2*xsec*1e12/ntrials, 'ro', fillstyle='none', label='$p_T^{jet}$')\n",
    "plt.xticks(fontsize=15)\n",
    "plt.yticks(fontsize=15)\n",
    "plt.yscale('log')\n",
    "plt.xlabel('$p_T/GeV$', fontsize=15)\n",
    "plt.ylabel(r'$\\frac{d\\sigma}{dp_T} \\times 10fb^{-1}$', fontsize=15)\n",
    "plt.xlim(left=5, right=40)\n",
    "plt.legend(prop={'size': 15}, frameon=False, loc='best')\n",
    "plt.text(5,2e3,'$\\sqrt{s} = 89 GeV$ \\n $0.1 < y < 0.85$ \\n $Q^2 > 25 GeV^2$ \\n $|\\Delta\\phi|<0.4$',\\\n",
    "        fontsize=15)\n",
    "plt.savefig('images/pt_electron_jet.pdf', bbox_inches='tight')"
   ]
  },
  {
   "cell_type": "code",
   "execution_count": 7,
   "metadata": {},
   "outputs": [
    {
     "name": "stdout",
     "output_type": "stream",
     "text": [
      "\n",
      "Processed $HOME/EIC/output/1010.root in 61.0 seconds\n"
     ]
    }
   ],
   "source": [
    "dataFiles = [\"$HOME/EIC/output/1010.root\"]\n",
    "b = getData(dataFiles)"
   ]
  },
  {
   "cell_type": "code",
   "execution_count": 8,
   "metadata": {},
   "outputs": [
    {
     "name": "stdout",
     "output_type": "stream",
     "text": [
      "0.1 < y < 0.85 6783540  fraction kept: 18.7\n",
      "Q2 > 25 785883  fraction kept: 11.6\n",
      "Fixed photon phi range\n",
      "Fixed photon delta phi range\n",
      "delta_phi_photon_abs < 0.4 220056  fraction kept: 28.0\n"
     ]
    }
   ],
   "source": [
    "a1 = applyCut(a, 'y > 0.1 and y < 0.85', '0.1 < y < 0.85')\n",
    "a1 = applyCut(a1, 'Q2 > 25', 'Q2 > 25')\n",
    "a1 = fixPhi(a1, 'photon')\n",
    "a1 = applyCut(a1, 'delta_phi_photon_abs < 0.4', 'delta_phi_photon_abs < 0.4')"
   ]
  },
  {
   "cell_type": "code",
   "execution_count": 9,
   "metadata": {},
   "outputs": [
    {
     "name": "stdout",
     "output_type": "stream",
     "text": [
      "0.1 < y < 0.85 6870983  fraction kept: 18.6\n",
      "Q2 > 25 800080  fraction kept: 11.6\n",
      "Fixed photon phi range\n",
      "Fixed photon delta phi range\n",
      "delta_phi_photon_abs < 0.4 218504  fraction kept: 27.3\n"
     ]
    }
   ],
   "source": [
    "b1 = applyCut(b, 'y > 0.1 and y < 0.85', '0.1 < y < 0.85')\n",
    "b1 = applyCut(b1, 'Q2 > 25', 'Q2 > 25')\n",
    "b1 = fixPhi(b1, 'photon')\n",
    "b1 = applyCut(b1, 'delta_phi_photon_abs < 0.4', 'delta_phi_photon_abs < 0.4')"
   ]
  },
  {
   "cell_type": "code",
   "execution_count": 10,
   "metadata": {},
   "outputs": [
    {
     "data": {
      "image/png": "[encoded data removed]",
      "text/plain": [
       "<Figure size 432x288 with 1 Axes>"
      ]
     },
     "metadata": {
      "needs_background": "light"
     },
     "output_type": "display_data"
    }
   ],
   "source": [
    "xvar_array = toArrayFloat(0.69, 1.60, 0, log=True, logNum=11)\n",
    "xseca = np.mean(a['xsec'])\n",
    "xsecb = np.mean(b['xsec'])\n",
    "ntrials = b['ntrials'][b.shape[0]-1]\n",
    "    \n",
    "x1, y1, xerr = getHist(a1, 'pt_jet', xvar_array)\n",
    "x2, y2, xerr = getHist(b1, 'pt_jet', xvar_array)\n",
    "\n",
    "plt.errorbar(x1, 10*y1*xsec*1e12/ntrials, xerr = xerr, fmt='none', color='b', elinewidth=1)\n",
    "plt.plot(x1, 10*y1*xseca*1e12/ntrials, 'bo', fillstyle='none', label='E scheme')\n",
    "plt.errorbar(x2, 10*y2*xsec*1e12/ntrials, xerr=xerr, fmt='none', color='r', elinewidth=1)\n",
    "plt.plot(x2, 10*y2*xsecb*1e12/ntrials, 'ro', fillstyle='none', label='WTA scheme')\n",
    "plt.xticks(fontsize=15)\n",
    "plt.yticks(fontsize=15)\n",
    "plt.yscale('log')\n",
    "plt.xlabel('$p_T^{jet}/GeV$', fontsize=15)\n",
    "plt.ylabel(r'$\\frac{d\\sigma}{dp_T} \\times 10fb^{-1}$', fontsize=15)\n",
    "plt.xlim(left=5, right=40)\n",
    "plt.legend(prop={'size': 15}, frameon=True, loc='best')\n",
    "plt.text(5,2e3,'$\\sqrt{s} = 89 \\, GeV$ \\n $0.1 < y < 0.85$ \\n $Q^2 > 25 GeV^2$ \\n $|\\Delta\\phi|<0.4$',\\\n",
    "        fontsize=15)\n",
    "plt.savefig('images/pt_electron_jet_e_wta.pdf', bbox_inches='tight')"
   ]
  },
  {
   "cell_type": "code",
   "execution_count": null,
   "metadata": {},
   "outputs": [],
   "source": []
  }
 ],
 "metadata": {
  "kernelspec": {
   "display_name": "Python 2",
   "language": "python",
   "name": "python2"
  },
  "language_info": {
   "codemirror_mode": {
    "name": "ipython",
    "version": 2
   },
   "file_extension": ".py",
   "mimetype": "text/x-python",
   "name": "python",
   "nbconvert_exporter": "python",
   "pygments_lexer": "ipython2",
   "version": "2.7.15rc1"
  }
 },
 "nbformat": 4,
 "nbformat_minor": 2
}
