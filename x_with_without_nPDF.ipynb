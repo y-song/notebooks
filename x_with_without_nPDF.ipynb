{
 "cells": [
  {
   "cell_type": "code",
   "execution_count": 1,
   "metadata": {},
   "outputs": [
    {
     "name": "stdout",
     "output_type": "stream",
     "text": [
      "The history saving thread hit an unexpected error (DatabaseError('database disk image is malformed',)).History will not be written to the database.\n",
      "Welcome to JupyROOT 6.14/06\n"
     ]
    }
   ],
   "source": [
    "import time\n",
    "import ROOT\n",
    "import numpy as np\n",
    "import pandas as pd\n",
    "import root_pandas as rpd\n",
    "import matplotlib.pyplot as plt\n",
    "from matplotlib.colors import LogNorm\n",
    "from root_pandas import read_root\n",
    "\n",
    "def getData(inputFiles):\n",
    "    cols = []\n",
    "    scalar = []\n",
    "    scalar.append('evid')\n",
    "    #scalar.append('ncharged')\n",
    "    #scalar.append('nneutral')\n",
    "    scalar.append('xsec')\n",
    "    scalar.append('ntrials')    \n",
    "    scalar.append('x')\n",
    "    scalar.append('y')\n",
    "    scalar.append('Q2')\n",
    "    scalar.append('W2')\n",
    "    #scalar.append('e_jet')\n",
    "    scalar.append('pt_jet')\n",
    "    #scalar.append('eta_jet')\n",
    "    #scalar.append('phi_jet')\n",
    "    #scalar.append('p_jet')\n",
    "    #scalar.append('theta_jet')\n",
    "    #scalar.append('e_quark')\n",
    "    #scalar.append('pt_quark')\n",
    "    #scalar.append('eta_quark')\n",
    "    #scalar.append('phi_quark')\n",
    "    #scalar.append('p_quark')\n",
    "    #scalar.append('theta_quark')\n",
    "    #scalar.append('e_electron')\n",
    "    #scalar.append('pt_electron')\n",
    "    #scalar.append('eta_electron')\n",
    "    #scalar.append('phi_electron')\n",
    "    #scalar.append('p_electron')\n",
    "    #scalar.append('theta_electron')\n",
    "    #scalar.append('e_photon')\n",
    "    lists = scalar\n",
    "    dataframes = []\n",
    "    for inputFilename in inputFiles:\n",
    "        start = time.time()\n",
    "        df = read_root(inputFilename, columns=lists,flatten=cols)\n",
    "        dataframes.append(df)\n",
    "        end = time.time()\n",
    "        print '\\n', 'Processed', inputFilename, 'in',  end-start, 'seconds'\n",
    "    return pd.concat([x for x in dataframes])\n",
    "\n",
    "def normalize(counts, dataframeBeforeCut):\n",
    "    xsec = np.mean(dataframeBeforeCut['xsec'])\n",
    "    ntrials = dataframeBeforeCut['ntrials'][dataframeBeforeCut.shape[0]-1]\n",
    "    return 10 * (counts * xsec * 1e12) / ntrials\n",
    "\n",
    "def applyCut(inputDataframe, cut, text=None):\n",
    "    dataframe = inputDataframe\n",
    "    nbeforecut = dataframe.shape[0]\n",
    "    cutDataframe = dataframe.query(cut)\n",
    "    if text:\n",
    "        print text, cutDataframe.shape[0], ' fraction kept: %2.1f'%(100.0*float(cutDataframe.shape[0])/nbeforecut)\n",
    "    return cutDataframe\n",
    "\n",
    "def bins(inputDataframe, variable, array):  \n",
    "    ds=[]\n",
    "    for i in range(0,len(array)-1):\n",
    "        ds.append(inputDataframe.query('' + str(variable) + ' > ' + str(array[i]) + ' and ' + str(variable) + ' < ' + str(array[i+1]) + ''))\n",
    "    return ds\n",
    "\n",
    "def toStr(inputArray):\n",
    "    length = inputArray.size\n",
    "    array = []\n",
    "    for i in range(0,length):\n",
    "        array.append(str(inputArray[i])) \n",
    "    return array\n",
    "\n",
    "def keepOneJet(inputDataframe):    \n",
    "    dataframe = inputDataframe\n",
    "    nbeforecut = dataframe.shape[0]\n",
    "    cutDataframe = dataframe.loc[~dataframe['evid'].duplicated(keep='first')]\n",
    "    print 'Remove extra jets', cutDataframe.shape[0], ' fraction kept: %2.1f'%(100.0*float(cutDataframe.shape[0])/nbeforecut)\n",
    "    return cutDataframe"
   ]
  },
  {
   "cell_type": "code",
   "execution_count": 2,
   "metadata": {},
   "outputs": [
    {
     "name": "stdout",
     "output_type": "stream",
     "text": [
      "\n",
      "Processed $HOME/fjpythia/output/723.root in 29.2036850452 seconds\n",
      "\n",
      "Cuts: 0.01 < y < 0.85, W2 > 4 GeV2, pt_jet > 4 GeV \n",
      "\n",
      "0.01 < y < 0.85 28989288  fraction kept: 66.1\n",
      "W2 > 4 28989288  fraction kept: 100.0\n",
      "pt_jet > 5 635803  fraction kept: 2.2\n",
      "Remove extra jets 471837  fraction kept: 74.2\n",
      "1 < Q2 < 5 179086  fraction kept: 38.0\n",
      "5 < Q2 < 10 58434  fraction kept: 12.4\n",
      "Q2 > 10 234317  fraction kept: 49.7\n",
      "\n",
      "Processed $HOME/fjpythia/june_july/100/polar/715.root in 29.4697380066 seconds\n",
      "\n",
      "Cuts: 0.01 < y < 0.85, W2 > 4 GeV2, pt_jet > 4 GeV \n",
      "\n",
      "0.01 < y < 0.85 26935356  fraction kept: 61.9\n",
      "W2 > 4 26935356  fraction kept: 100.0\n",
      "pt_jet > 5 712052  fraction kept: 2.6\n",
      "Remove extra jets 537919  fraction kept: 75.5\n",
      "1 < Q2 < 5 188003  fraction kept: 35.0\n",
      "5 < Q2 < 10 71645  fraction kept: 13.3\n",
      "Q2 > 10 278271  fraction kept: 51.7\n"
     ]
    }
   ],
   "source": [
    "dataFiles = [\"$HOME/fjpythia/output/723.root\"]\n",
    "df = getData(dataFiles)\n",
    "\n",
    "print '\\n', 'Cuts: 0.01 < y < 0.85, W2 > 4 GeV2, pt_jet > 4 GeV', '\\n'\n",
    "d = applyCut(df, 'y > 0.01 and y < 0.85', '0.01 < y < 0.85')\n",
    "d = applyCut(d, 'W2 > 4', 'W2 > 4')\n",
    "d = applyCut(d, 'pt_jet > 5', 'pt_jet > 5')\n",
    "d = keepOneJet(d)\n",
    "d1 = applyCut(d, 'Q2 > 1 and Q2 < 5', '1 < Q2 < 5')\n",
    "d2 = applyCut(d, 'Q2 > 5 and Q2 < 10', '5 < Q2 < 10')\n",
    "d3 = applyCut(d, 'Q2 > 10', 'Q2 > 10')\n",
    "\n",
    "def getData(inputFiles):\n",
    "    cols = []\n",
    "    scalar = []\n",
    "    scalar.append('evid')\n",
    "    scalar.append('xsec')\n",
    "    scalar.append('ntrials')    \n",
    "    scalar.append('x')\n",
    "    scalar.append('y')\n",
    "    scalar.append('Q')\n",
    "    scalar.append('W2')\n",
    "    scalar.append('pt_jet')\n",
    "    lists = scalar\n",
    "    dataframes = []\n",
    "    for inputFilename in inputFiles:\n",
    "        start = time.time()\n",
    "        df = read_root(inputFilename, columns=lists,flatten=cols)\n",
    "        dataframes.append(df)\n",
    "        end = time.time()\n",
    "        print '\\n', 'Processed', inputFilename, 'in',  end-start, 'seconds'\n",
    "    return pd.concat([x for x in dataframes])\n",
    "\n",
    "eataFiles = [\"$HOME/fjpythia/june_july/100/polar/715.root\"]\n",
    "ef = getData(eataFiles)\n",
    "\n",
    "ef.eval('Q2 = Q*Q', inplace = True)\n",
    "\n",
    "print '\\n', 'Cuts: 0.01 < y < 0.85, W2 > 4 GeV2, pt_jet > 4 GeV', '\\n'\n",
    "e = applyCut(ef, 'y > 0.01 and y < 0.85', '0.01 < y < 0.85')\n",
    "e = applyCut(e, 'W2 > 4', 'W2 > 4')\n",
    "e = applyCut(e, 'pt_jet > 5', 'pt_jet > 5')\n",
    "e = keepOneJet(e)\n",
    "e1 = applyCut(e, 'Q2 > 1 and Q2 < 5', '1 < Q2 < 5')\n",
    "e2 = applyCut(e, 'Q2 > 5 and Q2 < 10', '5 < Q2 < 10')\n",
    "e3 = applyCut(e, 'Q2 > 10', 'Q2 > 10')"
   ]
  },
  {
   "cell_type": "code",
   "execution_count": 3,
   "metadata": {},
   "outputs": [],
   "source": [
    "x_array_float = np.logspace(-2.4, 0.0, num=21)\n",
    "x_array = toStr(x_array_float)    \n",
    "x_interval = np.zeros(len(x_array)-1)\n",
    "for i in range(0,len(x_array)-1):\n",
    "    x_interval[i] = x_array_float[i+1] - x_array_float[i]\n",
    "zeros = np.zeros(len(x_interval))\n",
    "d_x_array = bins(d,'x',x_array)\n",
    "e_x_array = bins(e,'x',x_array)\n",
    "\n",
    "counts_d = np.zeros(len(d_x_array))\n",
    "for i in range(0,len(d_x_array)):\n",
    "    counts_d[i] = normalize(len(d_x_array[i]),df)\n",
    "    \n",
    "counts_e = np.zeros(len(e_x_array))\n",
    "for i in range(0,len(e_x_array)):\n",
    "    counts_e[i] = normalize(len(e_x_array[i]),ef)"
   ]
  },
  {
   "cell_type": "code",
   "execution_count": 4,
   "metadata": {},
   "outputs": [
    {
     "name": "stdout",
     "output_type": "stream",
     "text": [
      "Cuts: Q2 > 1 GeV^2, 0.01 < y < 0.85, W2 > 4 GeV^2, pt_jet > 4 GeV\n"
     ]
    },
    {
     "data": {
      "image/png": "[encoded data removed]",
      "text/plain": [
       "<Figure size 1152x1296 with 2 Axes>"
      ]
     },
     "metadata": {
      "needs_background": "light"
     },
     "output_type": "display_data"
    }
   ],
   "source": [
    "fig = plt.figure(figsize=(16,18))\n",
    "plt.subplots_adjust(hspace=0.2)\n",
    "\n",
    "plt.subplot(3,2,1)\n",
    "plt.errorbar(x_array_float[:-1], counts_d, xerr=[zeros, x_interval], fmt='none', label='Without nPDF',ecolor='b', elinewidth=1, capsize=1.5)\n",
    "plt.errorbar(x_array_float[:-1], counts_e, xerr=[zeros, x_interval], fmt='none', label='With nPDF',ecolor='r', elinewidth=1, capsize=1.5)\n",
    "plt.xticks(fontsize=15)\n",
    "plt.yticks(fontsize=15)\n",
    "plt.xlabel('x', fontsize = 15)\n",
    "plt.ylabel('$d\\sigma*10fb^{-1}$', fontsize = 15)\n",
    "plt.yscale('log')\n",
    "plt.xscale('log')\n",
    "plt.legend(prop={'size': 12.5},frameon=True)\n",
    "plt.xlim(left=0.003, right=1)\n",
    "\n",
    "plt.subplot(3,2,2)\n",
    "plt.errorbar(x_array_float[:-1], counts_e/counts_d, xerr=[zeros, x_interval], fmt='none',ecolor='b', elinewidth=1, capsize=1.5)\n",
    "plt.xticks(fontsize=15)\n",
    "plt.yticks(fontsize=15)\n",
    "plt.xlabel('x', fontsize = 15)\n",
    "plt.ylabel('$d\\sigma$ with nPDF / $d\\sigma$ without nPDF', fontsize = 15)\n",
    "plt.xscale('log')\n",
    "plt.xlim(left=0.003, right=1)\n",
    "\n",
    "print 'Cuts: Q2 > 1 GeV^2, 0.01 < y < 0.85, W2 > 4 GeV^2, pt_jet > 4 GeV'"
   ]
  },
  {
   "cell_type": "code",
   "execution_count": 5,
   "metadata": {},
   "outputs": [
    {
     "name": "stdout",
     "output_type": "stream",
     "text": [
      "1.00694131851 1.00748646259\n"
     ]
    }
   ],
   "source": [
    "print min(d['Q2']), min(e['Q2'])"
   ]
  },
  {
   "cell_type": "code",
   "execution_count": 20,
   "metadata": {},
   "outputs": [],
   "source": [
    "x_array_float = np.logspace(-2.4, 0.0, num=21)\n",
    "x_array = toStr(x_array_float)    \n",
    "x_interval = np.zeros(len(x_array)-1)\n",
    "for i in range(0,len(x_array)-1):\n",
    "    x_interval[i] = x_array_float[i+1] - x_array_float[i]\n",
    "zeros = np.zeros(len(x_interval))\n",
    "d2_x_array = bins(d2,'x',x_array)\n",
    "e2_x_array = bins(e2,'x',x_array)\n",
    "\n",
    "counts_d = np.zeros(len(d2_x_array))\n",
    "for i in range(0,len(d2_x_array)):\n",
    "    counts_d[i] = normalize(len(d2_x_array[i]),df)\n",
    "    \n",
    "counts_e = np.zeros(len(e2_x_array))\n",
    "for i in range(0,len(e2_x_array)):\n",
    "    counts_e[i] = normalize(len(e2_x_array[i]),ef)"
   ]
  },
  {
   "cell_type": "code",
   "execution_count": 22,
   "metadata": {},
   "outputs": [
    {
     "name": "stderr",
     "output_type": "stream",
     "text": [
      "/home/youqi/.local/lib/python2.7/site-packages/ipykernel_launcher.py:17: RuntimeWarning: invalid value encountered in divide\n"
     ]
    },
    {
     "name": "stdout",
     "output_type": "stream",
     "text": [
      "Cuts: 5 < Q2 < 10 GeV^2, 0.01 < y < 0.85, W2 > 4 GeV^2, pt_jet > 5 GeV\n"
     ]
    },
    {
     "data": {
      "image/png": "[encoded data removed]",
      "text/plain": [
       "<Figure size 1152x1296 with 2 Axes>"
      ]
     },
     "metadata": {
      "needs_background": "light"
     },
     "output_type": "display_data"
    }
   ],
   "source": [
    "fig = plt.figure(figsize=(16,18))\n",
    "plt.subplots_adjust(hspace=0.2)\n",
    "\n",
    "plt.subplot(3,2,1)\n",
    "plt.errorbar(x_array_float[:-1], counts_d, xerr=[zeros, x_interval], fmt='none', label='Without nPDF',ecolor='b', elinewidth=1, capsize=1.5)\n",
    "plt.errorbar(x_array_float[:-1], counts_e, xerr=[zeros, x_interval], fmt='none', label='With nPDF',ecolor='r', elinewidth=1, capsize=1.5)\n",
    "plt.xticks(fontsize=15)\n",
    "plt.yticks(fontsize=15)\n",
    "plt.xlabel('x', fontsize = 15)\n",
    "plt.ylabel('$d\\sigma*10fb^{-1}$', fontsize = 15)\n",
    "plt.yscale('log')\n",
    "plt.xscale('log')\n",
    "plt.legend(prop={'size': 12.5},frameon=True)\n",
    "plt.xlim(left=0.003, right=1)\n",
    "\n",
    "plt.subplot(3,2,2)\n",
    "plt.errorbar(x_array_float[:-1], counts_e/counts_d, xerr=[zeros, x_interval], fmt='none',ecolor='b', elinewidth=1, capsize=1.5)\n",
    "plt.xticks(fontsize=15)\n",
    "plt.yticks(fontsize=15)\n",
    "plt.xlabel('x', fontsize = 15)\n",
    "plt.ylabel('$d\\sigma$ with nPDF / $d\\sigma$ without nPDF', fontsize = 15)\n",
    "plt.xscale('log')\n",
    "plt.xlim(left=0.003, right=1)\n",
    "\n",
    "print 'Cuts: 5 < Q2 < 10 GeV^2, 0.01 < y < 0.85, W2 > 4 GeV^2, pt_jet > 5 GeV'"
   ]
  },
  {
   "cell_type": "code",
   "execution_count": 18,
   "metadata": {},
   "outputs": [],
   "source": [
    "x_array_float = np.logspace(-2.4, 0.0, num=21)\n",
    "x_array = toStr(x_array_float)    \n",
    "x_interval = np.zeros(len(x_array)-1)\n",
    "for i in range(0,len(x_array)-1):\n",
    "    x_interval[i] = x_array_float[i+1] - x_array_float[i]\n",
    "zeros = np.zeros(len(x_interval))\n",
    "d3_x_array = bins(d3,'x',x_array)\n",
    "e3_x_array = bins(e3,'x',x_array)\n",
    "\n",
    "counts_d = np.zeros(len(d3_x_array))\n",
    "for i in range(0,len(d3_x_array)):\n",
    "    counts_d[i] = normalize(len(d3_x_array[i]),df)\n",
    "    \n",
    "counts_e = np.zeros(len(e3_x_array))\n",
    "for i in range(0,len(e3_x_array)):\n",
    "    counts_e[i] = normalize(len(e3_x_array[i]),ef)"
   ]
  },
  {
   "cell_type": "code",
   "execution_count": 19,
   "metadata": {},
   "outputs": [
    {
     "name": "stdout",
     "output_type": "stream",
     "text": [
      "Cuts: Q2 > 10 GeV^2, 0.01 < y < 0.85, W2 > 4 GeV^2, pt_jet > 5 GeV\n"
     ]
    },
    {
     "data": {
      "image/png": "[encoded data removed]",
      "text/plain": [
       "<Figure size 1152x1296 with 2 Axes>"
      ]
     },
     "metadata": {
      "needs_background": "light"
     },
     "output_type": "display_data"
    }
   ],
   "source": [
    "fig = plt.figure(figsize=(16,18))\n",
    "plt.subplots_adjust(hspace=0.2)\n",
    "\n",
    "plt.subplot(3,2,1)\n",
    "plt.errorbar(x_array_float[:-1], counts_d, xerr=[zeros, x_interval], fmt='none', label='Without nPDF',ecolor='b', elinewidth=1, capsize=1.5)\n",
    "plt.errorbar(x_array_float[:-1], counts_e, xerr=[zeros, x_interval], fmt='none', label='With nPDF',ecolor='r', elinewidth=1, capsize=1.5)\n",
    "plt.xticks(fontsize=15)\n",
    "plt.yticks(fontsize=15)\n",
    "plt.xlabel('x', fontsize = 15)\n",
    "plt.ylabel('$d\\sigma*10fb^{-1}$', fontsize = 15)\n",
    "plt.yscale('log')\n",
    "plt.xscale('log')\n",
    "plt.legend(prop={'size': 12.5},frameon=True)\n",
    "plt.xlim(left=0.003, right=1)\n",
    "\n",
    "plt.subplot(3,2,2)\n",
    "plt.errorbar(x_array_float[:-1], counts_e/counts_d, xerr=[zeros, x_interval], fmt='none',ecolor='b', elinewidth=1, capsize=1.5)\n",
    "plt.xticks(fontsize=15)\n",
    "plt.yticks(fontsize=15)\n",
    "plt.xlabel('x', fontsize = 15)\n",
    "plt.ylabel('$d\\sigma$ with nPDF / $d\\sigma$ without nPDF', fontsize = 15)\n",
    "plt.xscale('log')\n",
    "plt.xlim(left=0.003, right=1)\n",
    "\n",
    "print 'Cuts: Q2 > 10 GeV^2, 0.01 < y < 0.85, W2 > 4 GeV^2, pt_jet > 5 GeV'"
   ]
  },
  {
   "cell_type": "code",
   "execution_count": null,
   "metadata": {},
   "outputs": [],
   "source": []
  }
 ],
 "metadata": {
  "kernelspec": {
   "display_name": "Python 2",
   "language": "python",
   "name": "python2"
  },
  "language_info": {
   "codemirror_mode": {
    "name": "ipython",
    "version": 2
   },
   "file_extension": ".py",
   "mimetype": "text/x-python",
   "name": "python",
   "nbconvert_exporter": "python",
   "pygments_lexer": "ipython2",
   "version": "2.7.15rc1"
  }
 },
 "nbformat": 4,
 "nbformat_minor": 2
}
