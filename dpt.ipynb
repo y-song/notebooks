{
 "cells": [
  {
   "cell_type": "code",
   "execution_count": 1,
   "metadata": {},
   "outputs": [
    {
     "name": "stdout",
     "output_type": "stream",
     "text": [
      "The history saving thread hit an unexpected error (DatabaseError('database disk image is malformed',)).History will not be written to the database.\n",
      "Welcome to JupyROOT 6.14/06\n"
     ]
    }
   ],
   "source": [
    "import time\n",
    "import ROOT\n",
    "import numpy as np\n",
    "import pandas as pd\n",
    "import root_pandas as rpd\n",
    "import matplotlib.pyplot as plt\n",
    "from matplotlib.colors import LogNorm\n",
    "from root_pandas import read_root\n",
    "%run functions.ipynb\n",
    "%run constants.ipynb"
   ]
  },
  {
   "cell_type": "code",
   "execution_count": 8,
   "metadata": {},
   "outputs": [],
   "source": [
    "def getData(inputFiles):\n",
    "    cols = []\n",
    "    scalar = []\n",
    "    scalar.append('evid')\n",
    "    scalar.append('xsec')\n",
    "    scalar.append('ntrials')    \n",
    "    scalar.append('x')\n",
    "    scalar.append('y')\n",
    "    scalar.append('Q2')\n",
    "    scalar.append('W2')\n",
    "    scalar.append('pt_jet')\n",
    "    scalar.append('eta_jet')\n",
    "    scalar.append('phi_jet')\n",
    "    scalar.append('p_jet')\n",
    "    scalar.append('pt_jet_g')\n",
    "    scalar.append('pt_quark')\n",
    "    scalar.append('eta_quark')\n",
    "    scalar.append('phi_quark')\n",
    "    scalar.append('pt_photon')\n",
    "    scalar.append('phi_photon')\n",
    "    scalar.append('eta_electron')\n",
    "    scalar.append('pt_electron')\n",
    "    scalar.append('zg')\n",
    "    lists = scalar\n",
    "    dataframes = []\n",
    "    for inputFilename in inputFiles:\n",
    "        start = time.time()\n",
    "        df = read_root(inputFilename, columns=lists,flatten=cols)\n",
    "        dataframes.append(df)\n",
    "        end = time.time()\n",
    "        print '\\n', 'Processed', inputFilename, 'in',  '%2.1f'%(end-start), 'seconds'\n",
    "    return pd.concat([x for x in dataframes])"
   ]
  },
  {
   "cell_type": "code",
   "execution_count": 9,
   "metadata": {},
   "outputs": [
    {
     "name": "stdout",
     "output_type": "stream",
     "text": [
      "\n",
      "Processed $HOME/EIC/output/102.root in 80.5 seconds\n"
     ]
    }
   ],
   "source": [
    "files = [\"$HOME/EIC/output/102.root\"]\n",
    "a = getData(files)"
   ]
  },
  {
   "cell_type": "code",
   "execution_count": 10,
   "metadata": {},
   "outputs": [
    {
     "name": "stdout",
     "output_type": "stream",
     "text": [
      "\n",
      "Processed $HOME/EIC/output/105.root in 72.7 seconds\n"
     ]
    }
   ],
   "source": [
    "files = [\"$HOME/EIC/output/105.root\"]\n",
    "a2 = getData(files)"
   ]
  },
  {
   "cell_type": "code",
   "execution_count": 11,
   "metadata": {},
   "outputs": [],
   "source": [
    "def applyCuts(df_array):\n",
    "    new_df_array = []\n",
    "    for i in range(0,len(df_array)):\n",
    "        print \"\\n\" + \"dataframe \" + str(i) + \"\\n\"\n",
    "        d = df_array[i]\n",
    "        d = applyCut(d, 'Q2 > 10', 'Q2 > 10')\n",
    "        d = applyCut(d, 'y > 0.1 and y < 0.85', '0.1 < y < 0.85')\n",
    "        d = applyCut(d, 'p_jet > 5', 'p_jet > 5')\n",
    "        d = applyCut(d, 'W2 > 4', 'W2 > 4')\n",
    "        d = fixPhi(d, 'photon')\n",
    "        d = applyCut(d, 'delta_phi_photon_abs < 0.4', 'delta_phi_photon_abs < 0.4')\n",
    "        d.eval('dpt = pt_jet - pt_jet_g', inplace=True)\n",
    "        new_df_array.append(d)\n",
    "    return new_df_array"
   ]
  },
  {
   "cell_type": "code",
   "execution_count": 12,
   "metadata": {},
   "outputs": [
    {
     "name": "stdout",
     "output_type": "stream",
     "text": [
      "\n",
      "dataframe 0\n",
      "\n",
      "Q2 > 10 3982888  fraction kept: 11.0\n",
      "0.1 < y < 0.85 2277556  fraction kept: 57.2\n",
      "p_jet > 5 558256  fraction kept: 24.5\n",
      "W2 > 4 558256  fraction kept: 100.0\n",
      "Fixed photon phi range\n",
      "Fixed photon delta phi range\n",
      "delta_phi_photon_abs < 0.4 235790  fraction kept: 42.2\n",
      "\n",
      "dataframe 1\n",
      "\n",
      "Q2 > 10 3982888  fraction kept: 11.0\n",
      "0.1 < y < 0.85 2277556  fraction kept: 57.2\n",
      "p_jet > 5 558256  fraction kept: 24.5\n",
      "W2 > 4 558256  fraction kept: 100.0\n",
      "Fixed photon phi range\n",
      "Fixed photon delta phi range\n",
      "delta_phi_photon_abs < 0.4 235790  fraction kept: 42.2\n"
     ]
    }
   ],
   "source": [
    "new_df = applyCuts([a,a2])"
   ]
  },
  {
   "cell_type": "code",
   "execution_count": 13,
   "metadata": {},
   "outputs": [
    {
     "name": "stdout",
     "output_type": "stream",
     "text": [
      "\n",
      "-4.5 < eta_jet < 4.5 \n",
      "\n",
      "-4.5 < eta_jet < 4.5 235790  fraction kept: 100.0\n",
      "1.0 < pt_jet < 1.4866961686809572 14297  fraction kept: 6.1\n",
      "1.4866961686809572 < pt_jet < 2.2102654979706373 17897  fraction kept: 7.6\n",
      "2.2102654979706373 < pt_jet < 3.285993247600654 32736  fraction kept: 13.9\n",
      "3.285993247600654 < pt_jet < 4.885273571519389 47905  fraction kept: 20.3\n",
      "4.885273571519389 < pt_jet < 7.262917501736213 57167  fraction kept: 24.2\n",
      "7.262917501736213 < pt_jet < 10.797751623277094 25858  fraction kept: 11.0\n",
      "10.797751623277094 < pt_jet < 16.052975968694643 9845  fraction kept: 4.2\n",
      "16.052975968694643 < pt_jet < 23.865897868585808 2681  fraction kept: 1.1\n",
      "23.865897868585808 < pt_jet < 35.48133892335755 290  fraction kept: 0.1\n",
      "\n",
      "-4.5 < eta_jet < 4.5 \n",
      "\n",
      "-4.5 < eta_jet < 4.5 235790  fraction kept: 100.0\n",
      "1.0 < pt_jet < 1.4866961686809572 14297  fraction kept: 6.1\n",
      "1.4866961686809572 < pt_jet < 2.2102654979706373 17897  fraction kept: 7.6\n",
      "2.2102654979706373 < pt_jet < 3.285993247600654 32736  fraction kept: 13.9\n",
      "3.285993247600654 < pt_jet < 4.885273571519389 47905  fraction kept: 20.3\n",
      "4.885273571519389 < pt_jet < 7.262917501736213 57167  fraction kept: 24.2\n",
      "7.262917501736213 < pt_jet < 10.797751623277094 25858  fraction kept: 11.0\n",
      "10.797751623277094 < pt_jet < 16.052975968694643 9845  fraction kept: 4.2\n",
      "16.052975968694643 < pt_jet < 23.865897868585808 2681  fraction kept: 1.1\n",
      "23.865897868585808 < pt_jet < 35.48133892335755 290  fraction kept: 0.1\n"
     ]
    }
   ],
   "source": [
    "ptedges = toArrayFloat(0, 1.55, 0, log=True, logNum=10)\n",
    "new_ds = []\n",
    "for new_d in new_df:\n",
    "    new_ds.append(partitionEtaPt(new_d, [-4.5, 4.5], ptedges))"
   ]
  },
  {
   "cell_type": "code",
   "execution_count": 14,
   "metadata": {},
   "outputs": [],
   "source": [
    "ds1, ds2 = new_ds"
   ]
  },
  {
   "cell_type": "code",
   "execution_count": 20,
   "metadata": {
    "scrolled": false
   },
   "outputs": [
    {
     "data": {
      "image/png": "[encoded data removed]",
      "text/plain": [
       "<Figure size 720x576 with 1 Axes>"
      ]
     },
     "metadata": {
      "needs_background": "light"
     },
     "output_type": "display_data"
    }
   ],
   "source": [
    "df_array = [ds1, ds2]\n",
    "var_array = ['dpt','dpt']\n",
    "color_array = ['r','g']\n",
    "label_array = [r'$\\beta=0.0$',r'$\\beta=2.0$']\n",
    "\n",
    "fig = plt.figure(figsize=(10,8))\n",
    "x = []*(len(ptedges)-1)\n",
    "xerr = getInterval(ptedges)/2\n",
    "for i in range(0,len(var_array)):\n",
    "    y = []*(len(ptedges)-1)\n",
    "    yerr = []*(len(ptedges)-1)\n",
    "    for j in range(len(ptedges)-1):\n",
    "        var = df_array[i][0][j][var_array[i]]\n",
    "        if i == 0:\n",
    "            x.append((((float)(ptedges[j])) + ptedges[j+1])/2)\n",
    "        y.append(np.mean(var))\n",
    "        yerr.append(np.std(var)/2)\n",
    "    plt.plot(x, y, color=color_array[i], linewidth=3)\n",
    "    plt.fill_between(x, np.array(y)+np.array(yerr), np.array(y)-np.array(yerr), color=color_array[i],\\\n",
    "                     alpha=0.15, label=label_array[i])\n",
    "plt.xticks(fontsize=15)\n",
    "plt.yticks(fontsize=15)\n",
    "plt.xlabel('$p_T^{jet} / GeV$', fontsize=15)\n",
    "plt.ylabel('$p_T^{jet} - p_T^{jet,groomed} / GeV$', fontsize=15)\n",
    "plt.xlim(left=1, right=30)\n",
    "plt.legend(prop={'size': 15}, frameon=False, loc='upper left')\n",
    "plt.text(20, 2.3, '$\\sqrt{s} = 89 \\, GeV$ \\n $0.1 < y < 0.85$ \\n $Q^2 > 10 \\, GeV^2$ \\n $p^{jet} > 5 \\, GeV$', fontsize=15)\n",
    "plt.savefig('images/dpt.pdf', bbox_inches='tight')"
   ]
  },
  {
   "cell_type": "code",
   "execution_count": null,
   "metadata": {},
   "outputs": [],
   "source": []
  }
 ],
 "metadata": {
  "kernelspec": {
   "display_name": "Python 2",
   "language": "python",
   "name": "python2"
  },
  "language_info": {
   "codemirror_mode": {
    "name": "ipython",
    "version": 2
   },
   "file_extension": ".py",
   "mimetype": "text/x-python",
   "name": "python",
   "nbconvert_exporter": "python",
   "pygments_lexer": "ipython2",
   "version": "2.7.15rc1"
  }
 },
 "nbformat": 4,
 "nbformat_minor": 2
}
