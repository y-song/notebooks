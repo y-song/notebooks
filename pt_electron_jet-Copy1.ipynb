{
 "cells": [
  {
   "cell_type": "code",
   "execution_count": 1,
   "metadata": {},
   "outputs": [
    {
     "name": "stdout",
     "output_type": "stream",
     "text": [
      "The history saving thread hit an unexpected error (DatabaseError('database disk image is malformed',)).History will not be written to the database.\n",
      "Welcome to JupyROOT 6.14/06\n"
     ]
    }
   ],
   "source": [
    "import time\n",
    "import ROOT\n",
    "import numpy as np\n",
    "import pandas as pd\n",
    "import root_pandas as rpd\n",
    "import matplotlib.pyplot as plt\n",
    "from matplotlib.colors import LogNorm\n",
    "from root_pandas import read_root\n",
    "%run functions.ipynb\n",
    "%run constants.ipynb"
   ]
  },
  {
   "cell_type": "code",
   "execution_count": 2,
   "metadata": {},
   "outputs": [
    {
     "name": "stdout",
     "output_type": "stream",
     "text": [
      "\n",
      "Processed $HOME/fjpythia/output/103.root in 125.7 seconds\n"
     ]
    }
   ],
   "source": [
    "dataFiles = [\"$HOME/fjpythia/output/103.root\"]\n",
    "a = getData(dataFiles)"
   ]
  },
  {
   "cell_type": "code",
   "execution_count": 3,
   "metadata": {},
   "outputs": [
    {
     "name": "stdout",
     "output_type": "stream",
     "text": [
      "          pt_photon         Q2  eta_electron     evid  pt_electron  \\\n",
      "0          3.700133  15.330631     -2.267397        0     3.700133   \n",
      "1          3.700133  15.330631     -2.267397        0     3.700133   \n",
      "2          3.700133  15.330631     -2.267397        0     3.700133   \n",
      "3          3.748714  14.286182     -2.351012        1     3.748714   \n",
      "4          3.748714  14.286182     -2.351012        1     3.748714   \n",
      "5          2.140949   5.350154     -2.773004        2     2.140949   \n",
      "6          2.140949   5.350154     -2.773004        2     2.140949   \n",
      "7          2.140949   5.350154     -2.773004        2     2.140949   \n",
      "8          2.140949   5.350154     -2.773004        2     2.140949   \n",
      "9          2.140949   5.350154     -2.773004        2     2.140949   \n",
      "10         2.140949   5.350154     -2.773004        2     2.140949   \n",
      "11         2.140949   5.350154     -2.773004        2     2.140949   \n",
      "12         2.140949   5.350154     -2.773004        2     2.140949   \n",
      "13         2.796645  13.718385     -2.098563        3     2.796645   \n",
      "14         2.796645  13.718385     -2.098563        3     2.796645   \n",
      "15         2.796645  13.718385     -2.098563        3     2.796645   \n",
      "16         2.796645  13.718385     -2.098563        3     2.796645   \n",
      "17         2.796645  13.718385     -2.098563        3     2.796645   \n",
      "18         3.389729  13.038748     -2.341706        4     3.389729   \n",
      "19         3.389729  13.038748     -2.341706        4     3.389729   \n",
      "20         3.389729  13.038748     -2.341706        4     3.389729   \n",
      "21         3.389729  13.038748     -2.341706        4     3.389729   \n",
      "22         2.570165   7.912149     -2.564451        5     2.570165   \n",
      "23         2.570165   7.912149     -2.564451        5     2.570165   \n",
      "24         2.570165   7.912149     -2.564451        5     2.570165   \n",
      "25         2.515557   7.229280     -2.633235        6     2.515557   \n",
      "26         2.515557   7.229280     -2.633235        6     2.515557   \n",
      "27         2.515557   7.229280     -2.633235        6     2.515557   \n",
      "28         2.515557   7.229280     -2.633235        6     2.515557   \n",
      "29         2.515557   7.229280     -2.633235        6     2.515557   \n",
      "...             ...        ...           ...      ...          ...   \n",
      "47209715   2.649712  12.586504     -2.130706  9999992     2.649712   \n",
      "47209716   2.649712  12.586504     -2.130706  9999992     2.649712   \n",
      "47209717   2.649712  12.586504     -2.130706  9999992     2.649712   \n",
      "47209718   2.992162   9.089543     -2.577759  9999993     2.992162   \n",
      "47209719   2.992162   9.089543     -2.577759  9999993     2.992162   \n",
      "47209720   2.992162   9.089543     -2.577759  9999993     2.992162   \n",
      "47209721   2.992162   9.089543     -2.577759  9999993     2.992162   \n",
      "47209722   2.532231   6.684243     -2.718230  9999994     2.532231   \n",
      "47209723   2.532231   6.684243     -2.718230  9999994     2.532231   \n",
      "47209724   2.532231   6.684243     -2.718230  9999994     2.532231   \n",
      "47209725   2.532231   6.684243     -2.718230  9999994     2.532231   \n",
      "47209726   4.591139  26.244694     -1.945546  9999995     4.591139   \n",
      "47209727   4.591139  26.244694     -1.945546  9999995     4.591139   \n",
      "47209728   4.591139  26.244694     -1.945546  9999995     4.591139   \n",
      "47209729   2.913485   9.503884     -2.506530  9999996     2.913485   \n",
      "47209730   2.913485   9.503884     -2.506530  9999996     2.913485   \n",
      "47209731   2.913485   9.503884     -2.506530  9999996     2.913485   \n",
      "47209732   2.913485   9.503884     -2.506530  9999996     2.913485   \n",
      "47209733   2.913485   9.503884     -2.506530  9999996     2.913485   \n",
      "47209734   2.913485   9.503884     -2.506530  9999996     2.913485   \n",
      "47209735   2.913485   9.503884     -2.506530  9999996     2.913485   \n",
      "47209736   2.913485   9.503884     -2.506530  9999996     2.913485   \n",
      "47209737   2.913485   9.503884     -2.506530  9999996     2.913485   \n",
      "47209738   2.913485   9.503884     -2.506530  9999996     2.913485   \n",
      "47209739   3.912108  15.575225     -2.307287  9999997     3.912108   \n",
      "47209740   3.912108  15.575225     -2.307287  9999997     3.912108   \n",
      "47209741   3.912108  15.575225     -2.307287  9999997     3.912108   \n",
      "47209742   3.208690  10.744749     -2.480329  9999998     3.208690   \n",
      "47209743   3.208690  10.744749     -2.480329  9999998     3.208690   \n",
      "47209744   3.208690  10.744749     -2.480329  9999998     3.208690   \n",
      "\n",
      "          phi_photon   phi_jet         y   eta_jet           W2    pt_jet  \\\n",
      "0          -2.257319  5.027707  0.106952  0.345042   841.150391  0.574987   \n",
      "1          -2.257319  3.079528  0.106952  2.680533   841.150391  0.638149   \n",
      "2          -2.257319  3.880943  0.106952 -0.070306   841.150391  2.549067   \n",
      "3          -1.044896  3.966079  0.016332  3.019255   117.248833  0.417834   \n",
      "4          -1.044896  5.727319  0.016332  2.047759   117.248833  4.276511   \n",
      "5           1.045821  4.006375  0.143265  0.760933  1141.628174  0.298395   \n",
      "6           1.045821  2.683568  0.143265 -2.043298  1141.628174  0.315379   \n",
      "7           1.045821  1.154488  0.143265 -2.318496  1141.628174  0.389059   \n",
      "8           1.045821  5.709521  0.143265 -1.960771  1141.628174  0.900473   \n",
      "9           1.045821  3.336411  0.143265  1.942450  1141.628174  0.717649   \n",
      "10          1.045821  0.866995  0.143265  2.232939  1141.628174  1.143441   \n",
      "11          1.045821  1.951791  0.143265  0.622256  1141.628174  0.875912   \n",
      "12          1.045821  4.116414  0.143265 -2.285392  1141.628174  2.385891   \n",
      "13         -0.398644  3.683543  0.429873  2.293217  3426.069092  0.724144   \n",
      "14         -0.398644  5.545285  0.429873  0.310695  3426.069092  0.969012   \n",
      "15         -0.398644  0.761060  0.429873 -0.926561  3426.069092  1.072539   \n",
      "16         -0.398644  5.958066  0.429873 -1.846719  3426.069092  2.081172   \n",
      "17         -0.398644  2.752150  0.429873 -2.074190  3426.069092  2.913051   \n",
      "18         -2.585027  4.841044  0.118760  3.010931   937.900940  0.298676   \n",
      "19         -2.585027  4.135543  0.118760  1.560842   937.900940  0.390994   \n",
      "20         -2.585027  1.897920  0.118760  0.486462   937.900940  0.396250   \n",
      "21         -2.585027  3.948650  0.118760  0.155820   937.900940  3.821042   \n",
      "22         -1.534729  3.532915  0.165113  3.176081  1313.845581  0.366771   \n",
      "23         -1.534729  5.433981  0.165113  0.392534  1313.845581  0.862971   \n",
      "24         -1.534729  4.697403  0.165113 -0.644746  1313.845581  2.459002   \n",
      "25          2.908600  2.892857  0.124667 -1.883968   990.968140  0.276149   \n",
      "26          2.908600  4.970160  0.124667  0.350236   990.968140  0.286259   \n",
      "27          2.908600  0.169264  0.124667 -0.415823   990.968140  0.320512   \n",
      "28          2.908600  4.368181  0.124667  1.394570   990.968140  0.343270   \n",
      "29          2.908600  2.471388  0.124667  0.637649   990.968140  0.468153   \n",
      "...              ...       ...       ...       ...          ...       ...   \n",
      "47209715   -1.952054  2.644899  0.442182  3.241763  3525.675781  0.662359   \n",
      "47209716   -1.952054  6.055578  0.442182  0.065034  3525.675781  1.059356   \n",
      "47209717   -1.952054  4.458393  0.442182 -1.462318  3525.675781  2.040887   \n",
      "47209718   -2.027446  3.468796  0.015018  3.444427   111.936356  0.745493   \n",
      "47209719   -2.027446  3.008830  0.015018  2.376782   111.936356  2.708053   \n",
      "47209720   -2.027446  1.095107  0.015018 -2.548488   111.936356  3.002384   \n",
      "47209721   -2.027446  5.227078  0.015018  1.561690   111.936356  4.388468   \n",
      "47209722    0.348246  2.728315  0.040700  1.381321   319.790070  0.288819   \n",
      "47209723    0.348246  0.900500  0.040700  0.174740   319.790070  0.885121   \n",
      "47209724    0.348246  5.918333  0.040700  0.599843   319.790070  1.832679   \n",
      "47209725    0.348246  3.493643  0.040700 -2.643360   319.790070  2.542567   \n",
      "47209726   -0.304023  4.190011  0.196845  3.271600  1549.361572  0.382037   \n",
      "47209727   -0.304023  6.104150  0.196845  1.671402  1549.361572  0.389707   \n",
      "47209728   -0.304023  6.066912  0.196845 -0.877631  1549.361572  2.715425   \n",
      "47209729   -2.470247  1.948714  0.106850  0.878423   846.155212  0.305184   \n",
      "47209730   -2.470247  4.375957  0.106850  2.565410   846.155212  0.370483   \n",
      "47209731   -2.470247  1.141080  0.106850  3.143203   846.155212  0.418855   \n",
      "47209732   -2.470247  4.691847  0.106850  0.535099   846.155212  0.425008   \n",
      "47209733   -2.470247  0.905585  0.106850  2.350960   846.155212  0.877819   \n",
      "47209734   -2.470247  4.473884  0.106850 -1.261467   846.155212  0.930454   \n",
      "47209735   -2.470247  5.462492  0.106850  2.915674   846.155212  1.370386   \n",
      "47209736   -2.470247  0.699861  0.106850 -0.180261   846.155212  3.588159   \n",
      "47209737   -2.470247  5.831956  0.106850 -1.798037   846.155212  3.795810   \n",
      "47209738   -2.470247  2.931557  0.106850  1.417663   846.155212  7.982472   \n",
      "47209739    1.627371  2.091611  0.017376  1.612498   124.310493  0.410222   \n",
      "47209740    1.627371  0.950254  0.017376  1.075801   124.310493  0.727965   \n",
      "47209741    1.627371  1.247504  0.017376  2.381826   124.310493  1.451484   \n",
      "47209742    1.951728  2.970650  0.041793  0.019468   324.475006  0.904715   \n",
      "47209743    1.951728  1.568281  0.041793  0.879416   324.475006  3.091424   \n",
      "47209744    1.951728  5.094911  0.041793 -2.456807   324.475006  3.212842   \n",
      "\n",
      "                 x   ntrials      xsec  pt_quark  phi_electron  eta_quark  \\\n",
      "0         0.017918         1  0.000232  3.700133      0.884274  -0.142751   \n",
      "1         0.017918         1  0.000232  3.700133      0.884274  -0.142751   \n",
      "2         0.017918         1  0.000232  3.700133      0.884274  -0.142751   \n",
      "3         0.109343         2  0.000245  3.748714      2.096697   1.748648   \n",
      "4         0.109343         2  0.000245  3.748714      2.096697   1.748648   \n",
      "5         0.004668         6  0.000145  2.140949     -2.095772  -0.982429   \n",
      "6         0.004668         6  0.000145  2.140949     -2.095772  -0.982429   \n",
      "7         0.004668         6  0.000145  2.140949     -2.095772  -0.982429   \n",
      "8         0.004668         6  0.000145  2.140949     -2.095772  -0.982429   \n",
      "9         0.004668         6  0.000145  2.140949     -2.095772  -0.982429   \n",
      "10        0.004668         6  0.000145  2.140949     -2.095772  -0.982429   \n",
      "11        0.004668         6  0.000145  2.140949     -2.095772  -0.982429   \n",
      "12        0.004668         6  0.000145  2.140949     -2.095772  -0.982429   \n",
      "13        0.003989        11  0.000113  2.796645      2.742949  -1.816090   \n",
      "14        0.003989        11  0.000113  2.796645      2.742949  -1.816090   \n",
      "15        0.003989        11  0.000113  2.796645      2.742949  -1.816090   \n",
      "16        0.003989        11  0.000113  2.796645      2.742949  -1.816090   \n",
      "17        0.003989        11  0.000113  2.796645      2.742949  -1.816090   \n",
      "18        0.013724        16  0.000099  3.389729      0.556566  -0.335198   \n",
      "19        0.013724        16  0.000099  3.389729      0.556566  -0.335198   \n",
      "20        0.013724        16  0.000099  3.389729      0.556566  -0.335198   \n",
      "21        0.013724        16  0.000099  3.389729      0.556566  -0.335198   \n",
      "22        0.005990        19  0.000098  2.570165      1.606863  -0.942281   \n",
      "23        0.005990        19  0.000098  2.570165      1.606863  -0.942281   \n",
      "24        0.005990        19  0.000098  2.570165      1.606863  -0.942281   \n",
      "25        0.007249        23  0.000105  2.515557     -0.232993  -0.681666   \n",
      "26        0.007249        23  0.000105  2.515557     -0.232993  -0.681666   \n",
      "27        0.007249        23  0.000105  2.515557     -0.232993  -0.681666   \n",
      "28        0.007249        23  0.000105  2.515557     -0.232993  -0.681666   \n",
      "29        0.007249        23  0.000105  2.515557     -0.232993  -0.681666   \n",
      "...            ...       ...       ...       ...           ...        ...   \n",
      "47209715  0.003558  25485067  0.000112  2.649712      1.189539  -1.898304   \n",
      "47209716  0.003558  25485067  0.000112  2.649712      1.189539  -1.898304   \n",
      "47209717  0.003558  25485067  0.000112  2.649712      1.189539  -1.898304   \n",
      "47209718  0.075654  25485072  0.000112  2.992162      1.114147   1.610456   \n",
      "47209719  0.075654  25485072  0.000112  2.992162      1.114147   1.610456   \n",
      "47209720  0.075654  25485072  0.000112  2.992162      1.114147   1.610456   \n",
      "47209721  0.075654  25485072  0.000112  2.992162      1.114147   1.610456   \n",
      "47209722  0.020529  25485073  0.000112  2.532231     -2.793346   0.451067   \n",
      "47209723  0.020529  25485073  0.000112  2.532231     -2.793346   0.451067   \n",
      "47209724  0.020529  25485073  0.000112  2.532231     -2.793346   0.451067   \n",
      "47209725  0.020529  25485073  0.000112  2.532231     -2.793346   0.451067   \n",
      "47209726  0.016666  25485076  0.000112  4.591139      2.837570  -0.538654   \n",
      "47209727  0.016666  25485076  0.000112  4.591139      2.837570  -0.538654   \n",
      "47209728  0.016666  25485076  0.000112  4.591139      2.837570  -0.538654   \n",
      "47209729  0.011119  25485081  0.000112  2.913485      0.671346  -0.380149   \n",
      "47209730  0.011119  25485081  0.000112  2.913485      0.671346  -0.380149   \n",
      "47209731  0.011119  25485081  0.000112  2.913485      0.671346  -0.380149   \n",
      "47209732  0.011119  25485081  0.000112  2.913485      0.671346  -0.380149   \n",
      "47209733  0.011119  25485081  0.000112  2.913485      0.671346  -0.380149   \n",
      "47209734  0.011119  25485081  0.000112  2.913485      0.671346  -0.380149   \n",
      "47209735  0.011119  25485081  0.000112  2.913485      0.671346  -0.380149   \n",
      "47209736  0.011119  25485081  0.000112  2.913485      0.671346  -0.380149   \n",
      "47209737  0.011119  25485081  0.000112  2.913485      0.671346  -0.380149   \n",
      "47209738  0.011119  25485081  0.000112  2.913485      0.671346  -0.380149   \n",
      "47209739  0.112048  25485082  0.000112  3.912108     -1.514221   1.729113   \n",
      "47209740  0.112048  25485082  0.000112  3.912108     -1.514221   1.729113   \n",
      "47209741  0.112048  25485082  0.000112  3.912108     -1.514221   1.729113   \n",
      "47209742  0.032137  25485090  0.000112  3.208690     -1.189865   0.657744   \n",
      "47209743  0.032137  25485090  0.000112  3.208690     -1.189865   0.657744   \n",
      "47209744  0.032137  25485090  0.000112  3.208690     -1.189865   0.657744   \n",
      "\n",
      "          phi_quark  \n",
      "0         -2.257319  \n",
      "1         -2.257319  \n",
      "2         -2.257319  \n",
      "3         -1.044896  \n",
      "4         -1.044896  \n",
      "5          1.045821  \n",
      "6          1.045821  \n",
      "7          1.045821  \n",
      "8          1.045821  \n",
      "9          1.045821  \n",
      "10         1.045821  \n",
      "11         1.045821  \n",
      "12         1.045821  \n",
      "13        -0.398644  \n",
      "14        -0.398644  \n",
      "15        -0.398644  \n",
      "16        -0.398644  \n",
      "17        -0.398644  \n",
      "18        -2.585027  \n",
      "19        -2.585027  \n",
      "20        -2.585027  \n",
      "21        -2.585027  \n",
      "22        -1.534729  \n",
      "23        -1.534729  \n",
      "24        -1.534729  \n",
      "25         2.908600  \n",
      "26         2.908600  \n",
      "27         2.908600  \n",
      "28         2.908600  \n",
      "29         2.908600  \n",
      "...             ...  \n",
      "47209715  -1.952054  \n",
      "47209716  -1.952054  \n",
      "47209717  -1.952054  \n",
      "47209718  -2.027446  \n",
      "47209719  -2.027446  \n",
      "47209720  -2.027446  \n",
      "47209721  -2.027446  \n",
      "47209722   0.348246  \n",
      "47209723   0.348246  \n",
      "47209724   0.348246  \n",
      "47209725   0.348246  \n",
      "47209726  -0.304023  \n",
      "47209727  -0.304023  \n",
      "47209728  -0.304023  \n",
      "47209729  -2.470247  \n",
      "47209730  -2.470247  \n",
      "47209731  -2.470247  \n",
      "47209732  -2.470247  \n",
      "47209733  -2.470247  \n",
      "47209734  -2.470247  \n",
      "47209735  -2.470247  \n",
      "47209736  -2.470247  \n",
      "47209737  -2.470247  \n",
      "47209738  -2.470247  \n",
      "47209739   1.627371  \n",
      "47209740   1.627371  \n",
      "47209741   1.627371  \n",
      "47209742   1.951728  \n",
      "47209743   1.951728  \n",
      "47209744   1.951728  \n",
      "\n",
      "[47209745 rows x 18 columns]\n"
     ]
    }
   ],
   "source": [
    "print a"
   ]
  },
  {
   "cell_type": "code",
   "execution_count": 26,
   "metadata": {},
   "outputs": [
    {
     "name": "stdout",
     "output_type": "stream",
     "text": [
      "47209745\n"
     ]
    }
   ],
   "source": [
    "print a.shape[0]"
   ]
  },
  {
   "cell_type": "code",
   "execution_count": 24,
   "metadata": {},
   "outputs": [
    {
     "name": "stdout",
     "output_type": "stream",
     "text": [
      "4.30186891556 0.250000059605\n"
     ]
    }
   ],
   "source": [
    "print min(a['Q2']), min(a['pt_jet'])"
   ]
  },
  {
   "cell_type": "code",
   "execution_count": 25,
   "metadata": {},
   "outputs": [
    {
     "name": "stdout",
     "output_type": "stream",
     "text": [
      "pt_jet > 4 4272036  fraction kept: 9.0\n"
     ]
    }
   ],
   "source": [
    "#d = applyCut(a, 'pt_electron > 4', 'pt_electron > 4')\n",
    "d = applyCut(a, 'pt_jet > 4', 'pt_jet > 4')\n",
    "#d = applyCut(a, 'y > 0.01 and y < 0.85', '0.01 < y < 0.85')\n",
    "#d = applyCut(d, '0.05 < x < 0.1', '0.05 < x < 0.1')\n",
    "#d = applyCut(a, '10 < pt_electron < 15', '10 < pt_electron < 15')\n",
    "\n",
    "#d = getDelta(d, 'electron')\n",
    "#d = getDelta(d, 'quark')\n",
    "#d = fixPhi(d, 'photon')\n",
    "#d.eval('pt_ratio = pt_jet/pt_electron', inplace = True)"
   ]
  },
  {
   "cell_type": "code",
   "execution_count": 23,
   "metadata": {},
   "outputs": [
    {
     "data": {
      "text/plain": [
       "(array([4.1840388e+07, 4.5295130e+06, 6.2482200e+05, 1.4927400e+05,\n",
       "        4.4022000e+04, 1.4956000e+04, 4.8250000e+03, 1.4530000e+03,\n",
       "        3.9800000e+02, 9.4000000e+01]),\n",
       " array([ 0.9868654,  4.7016892,  8.416513 , 12.131337 , 15.846161 ,\n",
       "        19.560986 , 23.275808 , 26.990633 , 30.705458 , 34.42028  ,\n",
       "        38.135105 ], dtype=float32),\n",
       " <a list of 10 Patch objects>)"
      ]
     },
     "execution_count": 23,
     "metadata": {},
     "output_type": "execute_result"
    },
    {
     "data": {
      "image/png": "[encoded data removed]",
      "text/plain": [
       "<Figure size 432x288 with 1 Axes>"
      ]
     },
     "metadata": {
      "needs_background": "light"
     },
     "output_type": "display_data"
    }
   ],
   "source": [
    "plt.hist(a['pt_electron'])"
   ]
  },
  {
   "cell_type": "code",
   "execution_count": 4,
   "metadata": {},
   "outputs": [
    {
     "name": "stdout",
     "output_type": "stream",
     "text": [
      "delta_phi_photon_abs < 0.4 26184  fraction kept: 60.9\n"
     ]
    }
   ],
   "source": [
    "d1 = applyCut(d, 'delta_phi_photon_abs < 0.4', 'delta_phi_photon_abs < 0.4')"
   ]
  },
  {
   "cell_type": "code",
   "execution_count": 5,
   "metadata": {},
   "outputs": [],
   "source": [
    "def plotRatio1dnvar(txt):\n",
    "    fig = plt.figure(figsize = (10,8))\n",
    "    plot1dnvar([d, d1], ['pt_ratio']*2,\\\n",
    "               ['$p_T^{jet} > 4 GeV$',\\\n",
    "                '$p_T^{jet} > 4 GeV$ \\n $|\\Delta \\phi|< 0.4$'],\\\n",
    "               0, 2, 0, 7e6, 0.05, '$p_T^{jet}/p_T^{electron}$', 'linear', txt)"
   ]
  },
  {
   "cell_type": "code",
   "execution_count": 6,
   "metadata": {},
   "outputs": [
    {
     "data": {
      "image/png": "[encoded data removed]",
      "text/plain": [
       "<Figure size 720x576 with 1 Axes>"
      ]
     },
     "metadata": {
      "needs_background": "light"
     },
     "output_type": "display_data"
    }
   ],
   "source": [
    "fig = plotRatio1dnvar('pt_ratio')\n",
    "plt.text(1.4,240000,'$\\sqrt{s}=89 GeV$ \\n $0.05 < x < 0.1$', fontsize = 20)\n",
    "plt.savefig('images/pt_ratio.pdf', bbox_inches='tight')"
   ]
  },
  {
   "cell_type": "code",
   "execution_count": 7,
   "metadata": {},
   "outputs": [
    {
     "name": "stdout",
     "output_type": "stream",
     "text": [
      "0.986865401268\n"
     ]
    }
   ],
   "source": [
    "print min(a['pt_electron'])"
   ]
  },
  {
   "cell_type": "code",
   "execution_count": 8,
   "metadata": {},
   "outputs": [
    {
     "name": "stdout",
     "output_type": "stream",
     "text": [
      "Q2 > 25 6604763  fraction kept: 14.0\n",
      "0.01 < y < 0.85 6312668  fraction kept: 95.6\n",
      "Fixed photon phi range\n",
      "Fixed photon delta phi range\n",
      "delta_phi_photon_abs < 0.4 1712981  fraction kept: 27.1\n",
      "\n",
      "Remove extra jets 1233474  fraction kept: 72.0\n"
     ]
    }
   ],
   "source": [
    "b = applyCut(a, 'Q2 > 25', 'Q2 > 25')\n",
    "b = applyCut(b, 'y > 0.01 and y < 0.85', '0.01 < y < 0.85')\n",
    "b = fixPhi(b, 'photon')\n",
    "b = applyCut(b, 'delta_phi_photon_abs < 0.4', 'delta_phi_photon_abs < 0.4')\n",
    "b1 = keepOneJet(b)"
   ]
  },
  {
   "cell_type": "code",
   "execution_count": 9,
   "metadata": {
    "scrolled": true
   },
   "outputs": [
    {
     "data": {
      "image/png": "[encoded data removed]",
      "text/plain": [
       "<Figure size 432x288 with 1 Axes>"
      ]
     },
     "metadata": {
      "needs_background": "light"
     },
     "output_type": "display_data"
    }
   ],
   "source": [
    "xvar_array = toArrayFloat(0.69, 1.55, 0, log=True, logNum=10)\n",
    "xsec = np.mean(a['xsec'])\n",
    "ntrials = a['ntrials'][a.shape[0]-1]\n",
    "    \n",
    "x1, y1, xerr = getHist(b1, 'pt_electron', xvar_array)\n",
    "x2, y2, xerr = getHist(b, 'pt_jet', xvar_array)\n",
    "\n",
    "plt.errorbar(x1, 10*y1*xsec*1e12/ntrials, xerr = xerr, fmt='none', color='b', elinewidth=1)\n",
    "plt.plot(x1, 10*y1*xsec*1e12/ntrials, 'bo', fillstyle='none', label='$p_T^{electron}$')\n",
    "plt.errorbar(x2, 10*y2*xsec*1e12/ntrials, xerr=xerr, fmt='none', color='r', elinewidth=1)\n",
    "plt.plot(x2, 10*y2*xsec*1e12/ntrials, 'ro', fillstyle='none', label='$p_T^{jet}$')\n",
    "plt.xticks(fontsize=15)\n",
    "plt.yticks(fontsize=15)\n",
    "plt.yscale('log')\n",
    "plt.xlabel('$p_T/GeV$', fontsize=15)\n",
    "plt.ylabel('$d\\sigma*10fb^{-1}$', fontsize=15)\n",
    "plt.xlim(left=5, right=35)\n",
    "plt.legend(prop={'size': 15}, frameon=True, loc='best')\n",
    "plt.text(5,1e4,'$\\sqrt{s} = 89 GeV$ \\n $0.01 < y < 0.85$ \\n $Q^2 > 25 GeV^2$ \\n $|\\Delta\\phi|<0.4$',\\\n",
    "        fontsize=15)\n",
    "plt.savefig('images/pt_electron_jet.pdf', bbox_inches='tight')"
   ]
  },
  {
   "cell_type": "code",
   "execution_count": 10,
   "metadata": {},
   "outputs": [],
   "source": [
    "def getData(inputFiles):\n",
    "    cols = []\n",
    "    scalar = []\n",
    "    scalar.append('evid')\n",
    "    scalar.append('xsec')\n",
    "    scalar.append('ntrials')    \n",
    "    scalar.append('x')\n",
    "    scalar.append('y')\n",
    "    scalar.append('Q2')\n",
    "    scalar.append('W2')\n",
    "    scalar.append('pt_jet')\n",
    "    scalar.append('pt_jet_g')\n",
    "    scalar.append('phi_jet')\n",
    "    scalar.append('pt_quark')\n",
    "    scalar.append('eta_quark')\n",
    "    scalar.append('phi_quark')\n",
    "    scalar.append('pt_photon')\n",
    "    scalar.append('phi_photon')\n",
    "    scalar.append('pt_electron')\n",
    "    lists = scalar\n",
    "    dataframes = []\n",
    "    for inputFilename in inputFiles:\n",
    "        start = time.time()\n",
    "        df = read_root(inputFilename, columns=lists,flatten=cols)\n",
    "        dataframes.append(df)\n",
    "        end = time.time()\n",
    "        print '\\n', 'Processed', inputFilename, 'in',  '%2.1f'%(end-start), 'seconds'\n",
    "    return pd.concat([x for x in dataframes])"
   ]
  },
  {
   "cell_type": "code",
   "execution_count": 11,
   "metadata": {},
   "outputs": [
    {
     "name": "stdout",
     "output_type": "stream",
     "text": [
      "\n",
      "Processed $HOME/fjpythia/output/925.root in 79.5 seconds\n"
     ]
    }
   ],
   "source": [
    "files = [\"$HOME/fjpythia/output/925.root\"]\n",
    "a = getData(files)"
   ]
  },
  {
   "cell_type": "code",
   "execution_count": 12,
   "metadata": {},
   "outputs": [
    {
     "name": "stdout",
     "output_type": "stream",
     "text": [
      "pt_electron > 4 1926302  fraction kept: 4.4\n",
      "0.01 < y < 0.85 1841645  fraction kept: 95.6\n",
      "Fixed photon phi range\n",
      "Fixed photon delta phi range\n"
     ]
    }
   ],
   "source": [
    "d = applyCut(a, 'pt_electron > 4', 'pt_electron > 4')\n",
    "d = applyCut(d, '0.01 < y < 0.85', '0.01 < y < 0.85')\n",
    "d = fixPhi(d, 'photon')"
   ]
  },
  {
   "cell_type": "code",
   "execution_count": 13,
   "metadata": {},
   "outputs": [
    {
     "name": "stdout",
     "output_type": "stream",
     "text": [
      "delta_phi_photon_abs < 0.4 452115  fraction kept: 24.5\n",
      "pt_jet > 4 233933  fraction kept: 51.7\n",
      "5 < pt_electron < 10 143296  fraction kept: 61.3\n",
      "10 < pt_electron < 15 17233  fraction kept: 7.4\n",
      "20 < pt_electron < 30 950  fraction kept: 0.4\n"
     ]
    }
   ],
   "source": [
    "d = applyCut(d, 'delta_phi_photon_abs < 0.4', 'delta_phi_photon_abs < 0.4')\n",
    "d = applyCut(d, 'pt_jet > 4', 'pt_jet > 4')\n",
    "d.eval('pt_ratio = pt_jet / pt_electron', inplace=True)\n",
    "d.eval('pt_ratio_g = pt_jet_g / pt_electron', inplace=True)\n",
    "d1 = applyCut(d, '5 < pt_electron < 10', '5 < pt_electron < 10')\n",
    "d2 = applyCut(d, '10 < pt_electron < 15', '10 < pt_electron < 15')\n",
    "d3 = applyCut(d, '20 < pt_electron < 30', '20 < pt_electron < 30')"
   ]
  },
  {
   "cell_type": "code",
   "execution_count": 14,
   "metadata": {},
   "outputs": [],
   "source": [
    "def plot_ratio(df, var_array, label_array, color_array):\n",
    "    for i in range(0,len(var_array)):\n",
    "        fig = plt.hist(df[var_array[i]], label=label_array[i], range=(0,2.0), bins=40, histtype='step', fill=True, stacked=True, normed=True, alpha=0.5, color=color_array[i], linewidth=2)\n",
    "    return fig"
   ]
  },
  {
   "cell_type": "code",
   "execution_count": 17,
   "metadata": {},
   "outputs": [
    {
     "data": {
      "image/png": "[encoded data removed]",
      "text/plain": [
       "<Figure size 1440x432 with 3 Axes>"
      ]
     },
     "metadata": {
      "needs_background": "light"
     },
     "output_type": "display_data"
    }
   ],
   "source": [
    "fig = plt.figure(figsize=(20,6))\n",
    "plt.subplots_adjust(wspace=0, hspace=0)\n",
    "\n",
    "ax1 = plt.subplot(131)\n",
    "plot_ratio(d1, ['pt_ratio', 'pt_ratio_g'], ['Jets', 'Groomed jets'], ['b', 'r'])\n",
    "plt.xlabel('$p_T^{jet}/p_T^{electron}$', fontsize=15)\n",
    "plt.ylabel('Normalized counts', fontsize=15)\n",
    "plt.xticks(fontsize=15)\n",
    "plt.yticks(fontsize=15)\n",
    "plt.legend(prop={'size': 15}, frameon=False, loc='best')\n",
    "plt.title('$5 < p_T^{electron} < 10 GeV$', fontsize=15)\n",
    "\n",
    "ax2 = plt.subplot(132, sharey=ax1)\n",
    "plot_ratio(d2, ['pt_ratio', 'pt_ratio_g'], ['Jets', 'Groomed jets'], ['b', 'r'])\n",
    "plt.xlabel('$p_T^{jet}/p_T^{electron}$', fontsize=15)\n",
    "plt.xticks(fontsize=15)\n",
    "plt.setp(ax2.get_yticklabels(), visible=False)\n",
    "plt.text(0.4, 5, '$\\sqrt{s} = 89 GeV$ \\n $0.01 < y < 0.85$ \\n $p_T^{jet} > 4 GeV$ \\n $|\\Delta \\phi| < 0.4$ \\n Soft drop: $z_{min}=0.1,$'+r'$\\beta=0.0$', fontsize=15)\n",
    "plt.legend(prop={'size': 15}, frameon=False, loc='best')\n",
    "plt.title('$10 < p_T^{electron} < 15 GeV$', fontsize=15)\n",
    "\n",
    "ax3 = plt.subplot(133, sharey=ax1)\n",
    "plot_ratio(d3, ['pt_ratio', 'pt_ratio_g'], ['Jets', 'Groomed jets'], ['b', 'r'])\n",
    "plt.xlabel('$p_T^{jet}/p_T^{electron}$', fontsize=15)\n",
    "plt.xticks(fontsize=15)\n",
    "plt.setp(ax3.get_yticklabels(), visible=False)\n",
    "plt.legend(prop={'size': 15}, frameon=False, loc='best')\n",
    "plt.title('$20 < p_T^{electron} < 30 GeV$', fontsize=15)\n",
    "\n",
    "plt.savefig('images/pt_ratio_beta0.pdf', bbox_inches='tight')"
   ]
  },
  {
   "cell_type": "code",
   "execution_count": null,
   "metadata": {},
   "outputs": [],
   "source": []
  }
 ],
 "metadata": {
  "kernelspec": {
   "display_name": "Python 2",
   "language": "python",
   "name": "python2"
  },
  "language_info": {
   "codemirror_mode": {
    "name": "ipython",
    "version": 2
   },
   "file_extension": ".py",
   "mimetype": "text/x-python",
   "name": "python",
   "nbconvert_exporter": "python",
   "pygments_lexer": "ipython2",
   "version": "2.7.15rc1"
  }
 },
 "nbformat": 4,
 "nbformat_minor": 2
}
