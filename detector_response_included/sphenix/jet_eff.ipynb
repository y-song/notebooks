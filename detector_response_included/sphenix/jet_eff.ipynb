{
 "cells": [
  {
   "cell_type": "code",
   "execution_count": 1,
   "metadata": {},
   "outputs": [
    {
     "name": "stdout",
     "output_type": "stream",
     "text": [
      "The history saving thread hit an unexpected error (DatabaseError('database disk image is malformed',)).History will not be written to the database.\n",
      "Welcome to JupyROOT 6.14/06\n"
     ]
    }
   ],
   "source": [
    "import time\n",
    "import ROOT\n",
    "import math\n",
    "import numpy as np\n",
    "import pandas as pd\n",
    "import root_pandas as rpd\n",
    "import matplotlib.pyplot as plt\n",
    "import matplotlib.ticker as mticker\n",
    "from matplotlib.colors import LogNorm\n",
    "from root_pandas import read_root\n",
    "from __future__ import division\n",
    "from statsmodels.stats.proportion import proportion_confint\n",
    "%run functions.ipynb"
   ]
  },
  {
   "cell_type": "code",
   "execution_count": 2,
   "metadata": {},
   "outputs": [],
   "source": [
    "def geteff(nRec, nEvt):\n",
    "    y = []\n",
    "    yerr = []\n",
    "    for i in range(0, len(nEvt)):\n",
    "        if nEvt[i] == 0:\n",
    "            y.append(0)\n",
    "            yerr.append([0,0])\n",
    "        else:\n",
    "            y.append(nRec[i] / nEvt[i])\n",
    "            a = abs(proportion_confint(nRec[i], nEvt[i], 1 - 0.68, 'jeffreys') - nRec[i] / nEvt[i])\n",
    "            yerr.append(a)\n",
    "    return y, np.asarray(yerr).T"
   ]
  },
  {
   "cell_type": "code",
   "execution_count": 3,
   "metadata": {},
   "outputs": [],
   "source": [
    "def getDataAll(inputFiles):\n",
    "    cols = []\n",
    "    scalar = []\n",
    "    scalar.append('event')\n",
    "    cols.append('all_truthNComponent')\n",
    "    cols.append('all_truthE')\n",
    "    cols.append('all_truthEta')\n",
    "\n",
    "    lists = scalar\n",
    "    dataframes = []\n",
    "    for inputFilename in inputFiles:\n",
    "        start = time.time()\n",
    "        df = read_root(inputFilename, columns=lists+cols,flatten=cols)\n",
    "        dataframes.append(df)\n",
    "        end = time.time()\n",
    "        print '\\n', 'Processed', inputFilename, 'in',  '%2.1f'%(end-start), 'seconds'\n",
    "    return pd.concat([x for x in dataframes])"
   ]
  },
  {
   "cell_type": "code",
   "execution_count": 4,
   "metadata": {},
   "outputs": [],
   "source": [
    "def getDataMatched(inputFiles):\n",
    "    cols = []\n",
    "    scalar = []\n",
    "    scalar.append('event')\n",
    "    cols.append('matched_truthNComponent')\n",
    "    cols.append('matched_truthE')\n",
    "    cols.append('matched_truthEta')\n",
    "\n",
    "    lists = scalar\n",
    "    dataframes = []\n",
    "    for inputFilename in inputFiles:\n",
    "        start = time.time()\n",
    "        df = read_root(inputFilename, columns=lists+cols,flatten=cols)\n",
    "        dataframes.append(df)\n",
    "        end = time.time()\n",
    "        print '\\n', 'Processed', inputFilename, 'in',  '%2.1f'%(end-start), 'seconds'\n",
    "    return pd.concat([x for x in dataframes])"
   ]
  },
  {
   "cell_type": "code",
   "execution_count": 5,
   "metadata": {},
   "outputs": [],
   "source": [
    "file1 = [\"$HOME/EIC/output/sphenix/619.root\"]"
   ]
  },
  {
   "cell_type": "code",
   "execution_count": 6,
   "metadata": {},
   "outputs": [
    {
     "name": "stdout",
     "output_type": "stream",
     "text": [
      "\n",
      "Processed $HOME/EIC/output/sphenix/619.root in 1.5 seconds\n",
      "\n",
      "Processed $HOME/EIC/output/sphenix/619.root in 1.2 seconds\n"
     ]
    }
   ],
   "source": [
    "a = getDataAll(file1)\n",
    "b = getDataMatched(file1)"
   ]
  },
  {
   "cell_type": "code",
   "execution_count": 7,
   "metadata": {},
   "outputs": [
    {
     "name": "stdout",
     "output_type": "stream",
     "text": [
      "checked 100 jets\n"
     ]
    }
   ],
   "source": [
    "# check if there is any jet in \"matched\" but not in \"all\"\n",
    "for i in range(0, 101):\n",
    "    match = np.asarray(b['matched_truthEta'])[i]\n",
    "    if i != 0 and i % 100 == 0:\n",
    "        print \"checked\", i, \"jets\"\n",
    "    if math.isnan(match) == False:\n",
    "        for j in range(i, len(a)):\n",
    "            alll = np.asarray(a['all_truthEta'])[j]\n",
    "            if match == alll:\n",
    "                break\n",
    "            if j == len(a)-1:\n",
    "                print b.loc[[i]]"
   ]
  },
  {
   "cell_type": "code",
   "execution_count": 8,
   "metadata": {},
   "outputs": [
    {
     "name": "stdout",
     "output_type": "stream",
     "text": [
      "2323 pairs of duplicated matched jets found\n"
     ]
    }
   ],
   "source": [
    "# check if there is any duplicated \"matched\" jet\n",
    "row_dup = []\n",
    "for i in range(0, len(b)):\n",
    "    match = np.asarray(b['matched_truthEta'])[i]\n",
    "    if i < len(b)-30:\n",
    "        end = i + 31\n",
    "    else:\n",
    "        end = len(b)\n",
    "    for j in range(i+1, end):\n",
    "        match2 = np.asarray(b['matched_truthEta'])[j]\n",
    "        if match == match2:\n",
    "            #print b.loc[[i]]\n",
    "            #print b.loc[[j]]\n",
    "            row_dup.append(i)\n",
    "#print row_dup\n",
    "print len(row_dup), \"pairs of duplicated matched jets found\""
   ]
  },
  {
   "cell_type": "code",
   "execution_count": 9,
   "metadata": {},
   "outputs": [],
   "source": [
    "# remove rows that correspond to the duplicated \"matched\" jets\n",
    "b0 = b.drop(row_dup)"
   ]
  },
  {
   "cell_type": "code",
   "execution_count": 22,
   "metadata": {},
   "outputs": [
    {
     "name": "stdout",
     "output_type": "stream",
     "text": [
      "all_truthNComponent 303052  fraction kept: 83.2\n",
      "all_truthE 180883  fraction kept: 59.7\n"
     ]
    }
   ],
   "source": [
    "a1 = applyCut(a, 'all_truthNComponent > 1', 'all_truthNComponent')\n",
    "a1 = applyCut(a1, 'all_truthE > 5', 'all_truthE')"
   ]
  },
  {
   "cell_type": "code",
   "execution_count": 23,
   "metadata": {},
   "outputs": [
    {
     "name": "stdout",
     "output_type": "stream",
     "text": [
      "matched_truthNComponent 81151  fraction kept: 88.3\n",
      "matched_truthE 49032  fraction kept: 60.4\n"
     ]
    }
   ],
   "source": [
    "b1 = applyCut(b0, 'matched_truthNComponent > 1', 'matched_truthNComponent')\n",
    "b1 = applyCut(b1, 'matched_truthE > 5', 'matched_truthE')"
   ]
  },
  {
   "cell_type": "code",
   "execution_count": 12,
   "metadata": {},
   "outputs": [],
   "source": [
    "etaedges = np.arange(-1.1, 1.2, 0.1)"
   ]
  },
  {
   "cell_type": "code",
   "execution_count": 13,
   "metadata": {},
   "outputs": [
    {
     "name": "stdout",
     "output_type": "stream",
     "text": [
      "-1.1 < all_truthEta < -1.0 3169  fraction kept: 0.9\n",
      "-1.0 < all_truthEta < -0.8999999999999999 3302  fraction kept: 0.9\n",
      "-0.8999999999999999 < all_truthEta < -0.7999999999999998 3464  fraction kept: 1.0\n",
      "-0.7999999999999998 < all_truthEta < -0.6999999999999997 3749  fraction kept: 1.0\n",
      "-0.6999999999999997 < all_truthEta < -0.5999999999999996 3984  fraction kept: 1.1\n",
      "-0.5999999999999996 < all_truthEta < -0.49999999999999956 4153  fraction kept: 1.1\n",
      "-0.49999999999999956 < all_truthEta < -0.39999999999999947 4383  fraction kept: 1.2\n",
      "-0.39999999999999947 < all_truthEta < -0.2999999999999994 4518  fraction kept: 1.2\n",
      "-0.2999999999999994 < all_truthEta < -0.1999999999999993 4873  fraction kept: 1.3\n",
      "-0.1999999999999993 < all_truthEta < -0.0999999999999992 5030  fraction kept: 1.4\n",
      "-0.0999999999999992 < all_truthEta < 8.881784197001252e-16 5299  fraction kept: 1.5\n",
      "8.881784197001252e-16 < all_truthEta < 0.10000000000000098 5397  fraction kept: 1.5\n",
      "0.10000000000000098 < all_truthEta < 0.20000000000000107 5616  fraction kept: 1.5\n",
      "0.20000000000000107 < all_truthEta < 0.30000000000000115 5853  fraction kept: 1.6\n",
      "0.30000000000000115 < all_truthEta < 0.40000000000000124 5902  fraction kept: 1.6\n",
      "0.40000000000000124 < all_truthEta < 0.5000000000000013 6104  fraction kept: 1.7\n",
      "0.5000000000000013 < all_truthEta < 0.6000000000000014 6417  fraction kept: 1.8\n",
      "0.6000000000000014 < all_truthEta < 0.7000000000000015 6723  fraction kept: 1.8\n",
      "0.7000000000000015 < all_truthEta < 0.8000000000000016 6690  fraction kept: 1.8\n",
      "0.8000000000000016 < all_truthEta < 0.9000000000000017 6852  fraction kept: 1.9\n",
      "0.9000000000000017 < all_truthEta < 1.0000000000000018 7060  fraction kept: 1.9\n",
      "1.0000000000000018 < all_truthEta < 1.1000000000000019 7144  fraction kept: 2.0\n",
      "-1.1 < matched_truthEta < -1.0 1923  fraction kept: 2.1\n",
      "-1.0 < matched_truthEta < -0.8999999999999999 2179  fraction kept: 2.4\n",
      "-0.8999999999999999 < matched_truthEta < -0.7999999999999998 2339  fraction kept: 2.5\n",
      "-0.7999999999999998 < matched_truthEta < -0.6999999999999997 2535  fraction kept: 2.8\n",
      "-0.6999999999999997 < matched_truthEta < -0.5999999999999996 2694  fraction kept: 2.9\n",
      "-0.5999999999999996 < matched_truthEta < -0.49999999999999956 2787  fraction kept: 3.0\n",
      "-0.49999999999999956 < matched_truthEta < -0.39999999999999947 2964  fraction kept: 3.2\n",
      "-0.39999999999999947 < matched_truthEta < -0.2999999999999994 3064  fraction kept: 3.3\n",
      "-0.2999999999999994 < matched_truthEta < -0.1999999999999993 3255  fraction kept: 3.5\n",
      "-0.1999999999999993 < matched_truthEta < -0.0999999999999992 3360  fraction kept: 3.7\n",
      "-0.0999999999999992 < matched_truthEta < 8.881784197001252e-16 3485  fraction kept: 3.8\n",
      "8.881784197001252e-16 < matched_truthEta < 0.10000000000000098 3468  fraction kept: 3.8\n",
      "0.10000000000000098 < matched_truthEta < 0.20000000000000107 3696  fraction kept: 4.0\n",
      "0.20000000000000107 < matched_truthEta < 0.30000000000000115 3866  fraction kept: 4.2\n",
      "0.30000000000000115 < matched_truthEta < 0.40000000000000124 3842  fraction kept: 4.2\n",
      "0.40000000000000124 < matched_truthEta < 0.5000000000000013 3902  fraction kept: 4.2\n",
      "0.5000000000000013 < matched_truthEta < 0.6000000000000014 4073  fraction kept: 4.4\n",
      "0.6000000000000014 < matched_truthEta < 0.7000000000000015 4211  fraction kept: 4.6\n",
      "0.7000000000000015 < matched_truthEta < 0.8000000000000016 4115  fraction kept: 4.5\n",
      "0.8000000000000016 < matched_truthEta < 0.9000000000000017 4186  fraction kept: 4.6\n",
      "0.9000000000000017 < matched_truthEta < 1.0000000000000018 4159  fraction kept: 4.5\n",
      "1.0000000000000018 < matched_truthEta < 1.1000000000000019 3921  fraction kept: 4.3\n"
     ]
    }
   ],
   "source": [
    "a_arr = partitionEta(a, etaedges, etaname = 'all_truthEta')\n",
    "b_arr = partitionEta(b0, etaedges, etaname = 'matched_truthEta')"
   ]
  },
  {
   "cell_type": "code",
   "execution_count": 24,
   "metadata": {},
   "outputs": [
    {
     "name": "stdout",
     "output_type": "stream",
     "text": [
      "-1.1 < all_truthEta < -1.0 1489  fraction kept: 0.8\n",
      "-1.0 < all_truthEta < -0.8999999999999999 1584  fraction kept: 0.9\n",
      "-0.8999999999999999 < all_truthEta < -0.7999999999999998 1534  fraction kept: 0.8\n",
      "-0.7999999999999998 < all_truthEta < -0.6999999999999997 1551  fraction kept: 0.9\n",
      "-0.6999999999999997 < all_truthEta < -0.5999999999999996 1569  fraction kept: 0.9\n",
      "-0.5999999999999996 < all_truthEta < -0.49999999999999956 1517  fraction kept: 0.8\n",
      "-0.49999999999999956 < all_truthEta < -0.39999999999999947 1490  fraction kept: 0.8\n",
      "-0.39999999999999947 < all_truthEta < -0.2999999999999994 1514  fraction kept: 0.8\n",
      "-0.2999999999999994 < all_truthEta < -0.1999999999999993 1571  fraction kept: 0.9\n",
      "-0.1999999999999993 < all_truthEta < -0.0999999999999992 1650  fraction kept: 0.9\n",
      "-0.0999999999999992 < all_truthEta < 8.881784197001252e-16 1659  fraction kept: 0.9\n",
      "8.881784197001252e-16 < all_truthEta < 0.10000000000000098 1667  fraction kept: 0.9\n",
      "0.10000000000000098 < all_truthEta < 0.20000000000000107 1799  fraction kept: 1.0\n",
      "0.20000000000000107 < all_truthEta < 0.30000000000000115 1866  fraction kept: 1.0\n",
      "0.30000000000000115 < all_truthEta < 0.40000000000000124 1869  fraction kept: 1.0\n",
      "0.40000000000000124 < all_truthEta < 0.5000000000000013 2002  fraction kept: 1.1\n",
      "0.5000000000000013 < all_truthEta < 0.6000000000000014 2149  fraction kept: 1.2\n",
      "0.6000000000000014 < all_truthEta < 0.7000000000000015 2206  fraction kept: 1.2\n",
      "0.7000000000000015 < all_truthEta < 0.8000000000000016 2265  fraction kept: 1.3\n",
      "0.8000000000000016 < all_truthEta < 0.9000000000000017 2422  fraction kept: 1.3\n",
      "0.9000000000000017 < all_truthEta < 1.0000000000000018 2494  fraction kept: 1.4\n",
      "1.0000000000000018 < all_truthEta < 1.1000000000000019 2460  fraction kept: 1.4\n",
      "-1.1 < matched_truthEta < -1.0 1208  fraction kept: 2.5\n",
      "-1.0 < matched_truthEta < -0.8999999999999999 1351  fraction kept: 2.8\n",
      "-0.8999999999999999 < matched_truthEta < -0.7999999999999998 1360  fraction kept: 2.8\n",
      "-0.7999999999999998 < matched_truthEta < -0.6999999999999997 1389  fraction kept: 2.8\n",
      "-0.6999999999999997 < matched_truthEta < -0.5999999999999996 1423  fraction kept: 2.9\n",
      "-0.5999999999999996 < matched_truthEta < -0.49999999999999956 1393  fraction kept: 2.8\n",
      "-0.49999999999999956 < matched_truthEta < -0.39999999999999947 1361  fraction kept: 2.8\n",
      "-0.39999999999999947 < matched_truthEta < -0.2999999999999994 1393  fraction kept: 2.8\n",
      "-0.2999999999999994 < matched_truthEta < -0.1999999999999993 1453  fraction kept: 3.0\n",
      "-0.1999999999999993 < matched_truthEta < -0.0999999999999992 1522  fraction kept: 3.1\n",
      "-0.0999999999999992 < matched_truthEta < 8.881784197001252e-16 1552  fraction kept: 3.2\n",
      "8.881784197001252e-16 < matched_truthEta < 0.10000000000000098 1552  fraction kept: 3.2\n",
      "0.10000000000000098 < matched_truthEta < 0.20000000000000107 1667  fraction kept: 3.4\n",
      "0.20000000000000107 < matched_truthEta < 0.30000000000000115 1744  fraction kept: 3.6\n",
      "0.30000000000000115 < matched_truthEta < 0.40000000000000124 1745  fraction kept: 3.6\n",
      "0.40000000000000124 < matched_truthEta < 0.5000000000000013 1840  fraction kept: 3.8\n",
      "0.5000000000000013 < matched_truthEta < 0.6000000000000014 1974  fraction kept: 4.0\n",
      "0.6000000000000014 < matched_truthEta < 0.7000000000000015 1978  fraction kept: 4.0\n",
      "0.7000000000000015 < matched_truthEta < 0.8000000000000016 2048  fraction kept: 4.2\n",
      "0.8000000000000016 < matched_truthEta < 0.9000000000000017 2159  fraction kept: 4.4\n",
      "0.9000000000000017 < matched_truthEta < 1.0000000000000018 2202  fraction kept: 4.5\n",
      "1.0000000000000018 < matched_truthEta < 1.1000000000000019 2081  fraction kept: 4.2\n"
     ]
    }
   ],
   "source": [
    "a1_arr = partitionEta(a1, etaedges, etaname = 'all_truthEta')\n",
    "b1_arr = partitionEta(b1, etaedges, etaname = 'matched_truthEta')"
   ]
  },
  {
   "cell_type": "code",
   "execution_count": 15,
   "metadata": {},
   "outputs": [],
   "source": [
    "x = np.arange(-1.05, 1.15, 0.1)"
   ]
  },
  {
   "cell_type": "code",
   "execution_count": 16,
   "metadata": {},
   "outputs": [],
   "source": [
    "nRec = []\n",
    "nEvt = []\n",
    "for i in range(0, len(etaedges)-1):\n",
    "    nRec.append(len(b_arr[i]))\n",
    "    nEvt.append(len(a_arr[i]))"
   ]
  },
  {
   "cell_type": "code",
   "execution_count": 25,
   "metadata": {},
   "outputs": [],
   "source": [
    "nRec_cut = []\n",
    "nEvt_cut = []\n",
    "for i in range(0, len(etaedges)-1):\n",
    "    nRec_cut.append(len(b1_arr[i]))\n",
    "    nEvt_cut.append(len(a1_arr[i]))"
   ]
  },
  {
   "cell_type": "code",
   "execution_count": 18,
   "metadata": {},
   "outputs": [],
   "source": [
    "y, yerr = geteff(np.asarray(nRec), np.asarray(nEvt))"
   ]
  },
  {
   "cell_type": "code",
   "execution_count": 20,
   "metadata": {},
   "outputs": [
    {
     "data": {
      "image/png": "[encoded data removed]",
      "text/plain": [
       "<Figure size 576x432 with 1 Axes>"
      ]
     },
     "metadata": {
      "needs_background": "light"
     },
     "output_type": "display_data"
    }
   ],
   "source": [
    "fig = plt.figure(figsize=(8,6))\n",
    "plt.errorbar(x, y, xerr=0.05, yerr=yerr, fmt='none')\n",
    "plt.xlim(left=-1.1, right=1.1)\n",
    "plt.ylim(bottom=0, top=1)\n",
    "plt.xlabel('$\\eta^{tru}_{jet}$', fontsize=15)\n",
    "plt.ylabel('efficiency', fontsize=15)\n",
    "plt.xticks(fontsize=15)\n",
    "plt.yticks(fontsize=15)\n",
    "plt.text(-1, 0.1, '$Q^2 > 16 \\, \\mathrm{GeV^2}$', fontsize=15)\n",
    "plt.savefig('images/eff_no_cut.png', bbox_inches='tight')"
   ]
  },
  {
   "cell_type": "code",
   "execution_count": 26,
   "metadata": {},
   "outputs": [],
   "source": [
    "y, yerr = geteff(np.asarray(nRec_cut), np.asarray(nEvt_cut))"
   ]
  },
  {
   "cell_type": "code",
   "execution_count": null,
   "metadata": {},
   "outputs": [],
   "source": [
    "fig = plt.figure(figsize=(8,6))\n",
    "plt.errorbar(x, y, xerr=0.05, yerr=yerr, fmt='none')\n",
    "plt.xlim(left=-1.1, right=1.1)\n",
    "plt.ylim(bottom=0, top=1)\n",
    "plt.xlabel('$\\eta^{tru}_{jet}$', fontsize=15)\n",
    "plt.ylabel('efficiency', fontsize=15)\n",
    "plt.xticks(fontsize=15)\n",
    "plt.yticks(fontsize=15)\n",
    "plt.text(-1, 0.1, '$Q^2 > 16 \\, \\mathrm{GeV^2}$ \\n $N^{tru}_{jet} \\geq 2$ \\n $E^{tru}_{jet} > 5 \\, \\mathrm{GeV}$', fontsize=15)\n",
    "plt.savefig('images/eff1.png', bbox_inches='tight')"
   ]
  },
  {
   "cell_type": "code",
   "execution_count": null,
   "metadata": {},
   "outputs": [],
   "source": []
  }
 ],
 "metadata": {
  "kernelspec": {
   "display_name": "Python 2",
   "language": "python",
   "name": "python2"
  },
  "language_info": {
   "codemirror_mode": {
    "name": "ipython",
    "version": 2
   },
   "file_extension": ".py",
   "mimetype": "text/x-python",
   "name": "python",
   "nbconvert_exporter": "python",
   "pygments_lexer": "ipython2",
   "version": "2.7.15rc1"
  }
 },
 "nbformat": 4,
 "nbformat_minor": 2
}
