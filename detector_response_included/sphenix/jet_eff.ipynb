{
 "cells": [
  {
   "cell_type": "code",
   "execution_count": 105,
   "metadata": {},
   "outputs": [],
   "source": [
    "import time\n",
    "import ROOT\n",
    "import numpy as np\n",
    "import pandas as pd\n",
    "import root_pandas as rpd\n",
    "import matplotlib.pyplot as plt\n",
    "import matplotlib.ticker as mticker\n",
    "from matplotlib.colors import LogNorm\n",
    "from root_pandas import read_root\n",
    "from __future__ import division\n",
    "from statsmodels.stats.proportion import proportion_confint\n",
    "%run functions.ipynb"
   ]
  },
  {
   "cell_type": "code",
   "execution_count": 99,
   "metadata": {},
   "outputs": [],
   "source": [
    "def geteff(nRec, nEvt):\n",
    "    y = []\n",
    "    yerr = []\n",
    "    for i in range(0, len(nEvt)):\n",
    "        if nEvt[i] == 0:\n",
    "            y.append(0)\n",
    "            yerr.append([0,0])\n",
    "        else:\n",
    "            y.append(nRec[i] / nEvt[i])\n",
    "            a = abs(proportion_confint(nRec[i], nEvt[i], 1 - 0.68, 'jeffreys') - nRec[i] / nEvt[i])\n",
    "            yerr.append(a)\n",
    "    return y, np.asarray(yerr).T"
   ]
  },
  {
   "cell_type": "code",
   "execution_count": 117,
   "metadata": {},
   "outputs": [],
   "source": [
    "def getDataAll(inputFiles):\n",
    "    cols = []\n",
    "    scalar = []\n",
    "    scalar.append('event')\n",
    "    cols.append('all_truthNComponent')\n",
    "    cols.append('all_truthE')\n",
    "    cols.append('all_truthEta')\n",
    "\n",
    "    lists = scalar\n",
    "    dataframes = []\n",
    "    for inputFilename in inputFiles:\n",
    "        start = time.time()\n",
    "        df = read_root(inputFilename, columns=lists+cols,flatten=cols)\n",
    "        dataframes.append(df)\n",
    "        end = time.time()\n",
    "        print '\\n', 'Processed', inputFilename, 'in',  '%2.1f'%(end-start), 'seconds'\n",
    "    return pd.concat([x for x in dataframes])"
   ]
  },
  {
   "cell_type": "code",
   "execution_count": 123,
   "metadata": {},
   "outputs": [],
   "source": [
    "def getDataMatched(inputFiles):\n",
    "    cols = []\n",
    "    scalar = []\n",
    "    scalar.append('event')\n",
    "    cols.append('matched_truthNComponent')\n",
    "    cols.append('matched_truthE')\n",
    "    cols.append('matched_truthEta')\n",
    "\n",
    "    lists = scalar\n",
    "    dataframes = []\n",
    "    for inputFilename in inputFiles:\n",
    "        start = time.time()\n",
    "        df = read_root(inputFilename, columns=lists+cols,flatten=cols)\n",
    "        dataframes.append(df)\n",
    "        end = time.time()\n",
    "        print '\\n', 'Processed', inputFilename, 'in',  '%2.1f'%(end-start), 'seconds'\n",
    "    return pd.concat([x for x in dataframes])"
   ]
  },
  {
   "cell_type": "code",
   "execution_count": 4,
   "metadata": {},
   "outputs": [],
   "source": [
    "file1 = [\"$HOME/EIC/output/sphenix.root\"]"
   ]
  },
  {
   "cell_type": "code",
   "execution_count": 124,
   "metadata": {},
   "outputs": [
    {
     "name": "stdout",
     "output_type": "stream",
     "text": [
      "\n",
      "Processed $HOME/EIC/output/sphenix.root in 0.3 seconds\n",
      "\n",
      "Processed $HOME/EIC/output/sphenix.root in 0.5 seconds\n"
     ]
    }
   ],
   "source": [
    "a = getDataAll(file1)\n",
    "b = getDataMatched(file1)"
   ]
  },
  {
   "cell_type": "code",
   "execution_count": 150,
   "metadata": {},
   "outputs": [
    {
     "name": "stdout",
     "output_type": "stream",
     "text": [
      "   matched_truthNComponent  event  matched_truthEta  matched_truthE  \\\n",
      "5                        6      5         -1.253286        12.55087   \n",
      "\n",
      "   __array_index  \n",
      "5              1  \n",
      "    matched_truthNComponent  event  matched_truthEta  matched_truthE  \\\n",
      "31                       -1     38               NaN             NaN   \n",
      "\n",
      "    __array_index  \n",
      "31              0  \n",
      "    matched_truthNComponent  event  matched_truthEta  matched_truthE  \\\n",
      "36                        4     47         -1.306699        12.48312   \n",
      "\n",
      "    __array_index  \n",
      "36              0  \n",
      "    matched_truthNComponent  event  matched_truthEta  matched_truthE  \\\n",
      "57                        4     66         -1.456034        8.180066   \n",
      "\n",
      "    __array_index  \n",
      "57              1  \n",
      "    matched_truthNComponent  event  matched_truthEta  matched_truthE  \\\n",
      "85                        8     90         -0.997247       15.639508   \n",
      "\n",
      "    __array_index  \n",
      "85              2  \n",
      "     matched_truthNComponent  event  matched_truthEta  matched_truthE  \\\n",
      "117                       -1     27               NaN             NaN   \n",
      "\n",
      "     __array_index  \n",
      "117              0  \n",
      "     matched_truthNComponent  event  matched_truthEta  matched_truthE  \\\n",
      "160                       -1     79               NaN             NaN   \n",
      "\n",
      "     __array_index  \n",
      "160              0  \n",
      "     matched_truthNComponent  event  matched_truthEta  matched_truthE  \\\n",
      "303                        5     25         -1.181089         9.38874   \n",
      "\n",
      "     __array_index  \n",
      "303              1  \n",
      "     matched_truthNComponent  event  matched_truthEta  matched_truthE  \\\n",
      "394                        2     22          1.185265        0.857108   \n",
      "\n",
      "     __array_index  \n",
      "394              1  \n",
      "     matched_truthNComponent  event  matched_truthEta  matched_truthE  \\\n",
      "408                        2     37          1.344248        0.992614   \n",
      "\n",
      "     __array_index  \n",
      "408              0  \n",
      "     matched_truthNComponent  event  matched_truthEta  matched_truthE  \\\n",
      "435                        2     66         -0.244538          0.3877   \n",
      "\n",
      "     __array_index  \n",
      "435              0  \n",
      "     matched_truthNComponent  event  matched_truthEta  matched_truthE  \\\n",
      "441                        2     71         -0.224239        0.309755   \n",
      "\n",
      "     __array_index  \n",
      "441              0  \n",
      "     matched_truthNComponent  event  matched_truthEta  matched_truthE  \\\n",
      "495                        1     23          0.711034        0.513863   \n",
      "\n",
      "     __array_index  \n",
      "495              0  \n",
      "     matched_truthNComponent  event  matched_truthEta  matched_truthE  \\\n",
      "496                        2     23         -1.365036        17.39311   \n",
      "\n",
      "     __array_index  \n",
      "496              1  \n",
      "     matched_truthNComponent  event  matched_truthEta  matched_truthE  \\\n",
      "521                       -1     51               NaN             NaN   \n",
      "\n",
      "     __array_index  \n",
      "521              1  \n",
      "     matched_truthNComponent  event  matched_truthEta  matched_truthE  \\\n",
      "547                        4     74         -1.052932        9.948503   \n",
      "\n",
      "     __array_index  \n",
      "547              0  \n"
     ]
    },
    {
     "ename": "KeyboardInterrupt",
     "evalue": "",
     "output_type": "error",
     "traceback": [
      "\u001b[0;31m---------------------------------------------------------------------------\u001b[0m",
      "\u001b[0;31mKeyboardInterrupt\u001b[0m                         Traceback (most recent call last)",
      "\u001b[0;32m<ipython-input-150-2a3b6c91c651>\u001b[0m in \u001b[0;36m<module>\u001b[0;34m()\u001b[0m\n\u001b[1;32m      2\u001b[0m     \u001b[0mmatch\u001b[0m \u001b[0;34m=\u001b[0m \u001b[0mnp\u001b[0m\u001b[0;34m.\u001b[0m\u001b[0masarray\u001b[0m\u001b[0;34m(\u001b[0m\u001b[0mb\u001b[0m\u001b[0;34m[\u001b[0m\u001b[0;34m'matched_truthEta'\u001b[0m\u001b[0;34m]\u001b[0m\u001b[0;34m)\u001b[0m\u001b[0;34m[\u001b[0m\u001b[0mi\u001b[0m\u001b[0;34m]\u001b[0m\u001b[0;34m\u001b[0m\u001b[0m\n\u001b[1;32m      3\u001b[0m     \u001b[0;32mfor\u001b[0m \u001b[0mj\u001b[0m \u001b[0;32min\u001b[0m \u001b[0mrange\u001b[0m\u001b[0;34m(\u001b[0m\u001b[0;36m0\u001b[0m\u001b[0;34m,\u001b[0m \u001b[0mlen\u001b[0m\u001b[0;34m(\u001b[0m\u001b[0ma\u001b[0m\u001b[0;34m)\u001b[0m\u001b[0;34m)\u001b[0m\u001b[0;34m:\u001b[0m\u001b[0;34m\u001b[0m\u001b[0m\n\u001b[0;32m----> 4\u001b[0;31m         \u001b[0malll\u001b[0m \u001b[0;34m=\u001b[0m \u001b[0mnp\u001b[0m\u001b[0;34m.\u001b[0m\u001b[0masarray\u001b[0m\u001b[0;34m(\u001b[0m\u001b[0ma\u001b[0m\u001b[0;34m[\u001b[0m\u001b[0;34m'all_truthEta'\u001b[0m\u001b[0;34m]\u001b[0m\u001b[0;34m)\u001b[0m\u001b[0;34m[\u001b[0m\u001b[0mj\u001b[0m\u001b[0;34m]\u001b[0m\u001b[0;34m\u001b[0m\u001b[0m\n\u001b[0m\u001b[1;32m      5\u001b[0m         \u001b[0;32mif\u001b[0m \u001b[0mmatch\u001b[0m \u001b[0;34m==\u001b[0m \u001b[0malll\u001b[0m\u001b[0;34m:\u001b[0m\u001b[0;34m\u001b[0m\u001b[0m\n\u001b[1;32m      6\u001b[0m             \u001b[0;32mbreak\u001b[0m\u001b[0;34m\u001b[0m\u001b[0m\n",
      "\u001b[0;32m/home/youqi/.local/lib/python2.7/site-packages/numpy/core/numeric.pyc\u001b[0m in \u001b[0;36masarray\u001b[0;34m(a, dtype, order)\u001b[0m\n\u001b[1;32m    536\u001b[0m \u001b[0;34m\u001b[0m\u001b[0m\n\u001b[1;32m    537\u001b[0m     \"\"\"\n\u001b[0;32m--> 538\u001b[0;31m     \u001b[0;32mreturn\u001b[0m \u001b[0marray\u001b[0m\u001b[0;34m(\u001b[0m\u001b[0ma\u001b[0m\u001b[0;34m,\u001b[0m \u001b[0mdtype\u001b[0m\u001b[0;34m,\u001b[0m \u001b[0mcopy\u001b[0m\u001b[0;34m=\u001b[0m\u001b[0mFalse\u001b[0m\u001b[0;34m,\u001b[0m \u001b[0morder\u001b[0m\u001b[0;34m=\u001b[0m\u001b[0morder\u001b[0m\u001b[0;34m)\u001b[0m\u001b[0;34m\u001b[0m\u001b[0m\n\u001b[0m\u001b[1;32m    539\u001b[0m \u001b[0;34m\u001b[0m\u001b[0m\n\u001b[1;32m    540\u001b[0m \u001b[0;34m\u001b[0m\u001b[0m\n",
      "\u001b[0;32m/home/youqi/.local/lib/python2.7/site-packages/pandas/core/series.pyc\u001b[0m in \u001b[0;36m__array__\u001b[0;34m(self, dtype)\u001b[0m\n\u001b[1;32m    714\u001b[0m               dtype='datetime64[ns]')\n\u001b[1;32m    715\u001b[0m         \"\"\"\n\u001b[0;32m--> 716\u001b[0;31m         if (dtype is None and isinstance(self.array, ABCDatetimeArray)\n\u001b[0m\u001b[1;32m    717\u001b[0m                 and getattr(self.dtype, 'tz', None)):\n\u001b[1;32m    718\u001b[0m             msg = (\n",
      "\u001b[0;32m/home/youqi/.local/lib/python2.7/site-packages/pandas/core/base.pyc\u001b[0m in \u001b[0;36marray\u001b[0;34m(self)\u001b[0m\n\u001b[1;32m    860\u001b[0m         \u001b[0;32melif\u001b[0m \u001b[0;32mnot\u001b[0m \u001b[0mis_extension_array_dtype\u001b[0m\u001b[0;34m(\u001b[0m\u001b[0mresult\u001b[0m\u001b[0;34m.\u001b[0m\u001b[0mdtype\u001b[0m\u001b[0;34m)\u001b[0m\u001b[0;34m:\u001b[0m\u001b[0;34m\u001b[0m\u001b[0m\n\u001b[1;32m    861\u001b[0m             \u001b[0;32mfrom\u001b[0m \u001b[0mpandas\u001b[0m\u001b[0;34m.\u001b[0m\u001b[0mcore\u001b[0m\u001b[0;34m.\u001b[0m\u001b[0marrays\u001b[0m\u001b[0;34m.\u001b[0m\u001b[0mnumpy_\u001b[0m \u001b[0;32mimport\u001b[0m \u001b[0mPandasArray\u001b[0m\u001b[0;34m\u001b[0m\u001b[0m\n\u001b[0;32m--> 862\u001b[0;31m             \u001b[0mresult\u001b[0m \u001b[0;34m=\u001b[0m \u001b[0mPandasArray\u001b[0m\u001b[0;34m(\u001b[0m\u001b[0mresult\u001b[0m\u001b[0;34m)\u001b[0m\u001b[0;34m\u001b[0m\u001b[0m\n\u001b[0m\u001b[1;32m    863\u001b[0m \u001b[0;34m\u001b[0m\u001b[0m\n\u001b[1;32m    864\u001b[0m         \u001b[0;32mreturn\u001b[0m \u001b[0mresult\u001b[0m\u001b[0;34m\u001b[0m\u001b[0m\n",
      "\u001b[0;32m/home/youqi/.local/lib/python2.7/site-packages/pandas/core/arrays/numpy_.pyc\u001b[0m in \u001b[0;36m__init__\u001b[0;34m(self, values, copy)\u001b[0m\n",
      "\u001b[0;32m/home/youqi/.local/lib/python2.7/site-packages/pandas/core/arrays/numpy_.pyc\u001b[0m in \u001b[0;36m__init__\u001b[0;34m(self, dtype)\u001b[0m\n",
      "\u001b[0;32m/home/youqi/.local/lib/python2.7/site-packages/numpy/core/_dtype.pyc\u001b[0m in \u001b[0;36m_name_get\u001b[0;34m(dtype)\u001b[0m\n",
      "\u001b[0;32m/home/youqi/.local/lib/python2.7/site-packages/numpy/core/numerictypes.pyc\u001b[0m in \u001b[0;36missubdtype\u001b[0;34m(arg1, arg2)\u001b[0m\n",
      "\u001b[0;32m/home/youqi/.local/lib/python2.7/site-packages/numpy/core/numerictypes.pyc\u001b[0m in \u001b[0;36missubclass_\u001b[0;34m(arg1, arg2)\u001b[0m\n",
      "\u001b[0;31mKeyboardInterrupt\u001b[0m: "
     ]
    }
   ],
   "source": [
    "for i in range(0, 1000):\n",
    "    match = np.asarray(b['matched_truthEta'])[i]\n",
    "    for j in range(0, len(a)):\n",
    "        alll = np.asarray(a['all_truthEta'])[j]\n",
    "        if match == alll:\n",
    "            break\n",
    "        if j == len(a)-1:\n",
    "            print b.loc[[i]]"
   ]
  },
  {
   "cell_type": "code",
   "execution_count": 125,
   "metadata": {},
   "outputs": [
    {
     "name": "stdout",
     "output_type": "stream",
     "text": [
      "all_truthEta 22422  fraction kept: 20.4\n",
      "all_truthNComponent 12015  fraction kept: 53.6\n",
      "all_truthE 6915  fraction kept: 57.6\n"
     ]
    }
   ],
   "source": [
    "a1 = applyCut(a, 'abs(all_truthEta) < 0.7', 'all_truthEta')\n",
    "a1 = applyCut(a1, 'all_truthNComponent > 3', 'all_truthNComponent')\n",
    "a1 = applyCut(a1, 'all_truthE > 5', 'all_truthE')"
   ]
  },
  {
   "cell_type": "code",
   "execution_count": 126,
   "metadata": {},
   "outputs": [
    {
     "name": "stdout",
     "output_type": "stream",
     "text": [
      "matched_truthEta 15304  fraction kept: 53.1\n",
      "matched_truthNComponent 10083  fraction kept: 65.9\n",
      "matched_truthE 6834  fraction kept: 67.8\n"
     ]
    }
   ],
   "source": [
    "b1 = applyCut(b, 'abs(matched_truthEta) < 0.7', 'matched_truthEta')\n",
    "b1 = applyCut(b1, 'matched_truthNComponent > 3', 'matched_truthNComponent')\n",
    "b1 = applyCut(b1, 'matched_truthE > 5', 'matched_truthE')"
   ]
  },
  {
   "cell_type": "code",
   "execution_count": 15,
   "metadata": {},
   "outputs": [
    {
     "name": "stdout",
     "output_type": "stream",
     "text": [
      "[-1.1000000e+00 -1.0000000e+00 -9.0000000e-01 -8.0000000e-01\n",
      " -7.0000000e-01 -6.0000000e-01 -5.0000000e-01 -4.0000000e-01\n",
      " -3.0000000e-01 -2.0000000e-01 -1.0000000e-01  8.8817842e-16\n",
      "  1.0000000e-01  2.0000000e-01  3.0000000e-01  4.0000000e-01\n",
      "  5.0000000e-01  6.0000000e-01  7.0000000e-01  8.0000000e-01\n",
      "  9.0000000e-01  1.0000000e+00  1.1000000e+00]\n"
     ]
    }
   ],
   "source": [
    "etaedges = np.arange(-1.1, 1.2, 0.1)"
   ]
  },
  {
   "cell_type": "code",
   "execution_count": 106,
   "metadata": {},
   "outputs": [
    {
     "name": "stdout",
     "output_type": "stream",
     "text": [
      "-1.1 < all_truthEta < -1.0 900  fraction kept: 0.8\n",
      "-1.0 < all_truthEta < -0.8999999999999999 992  fraction kept: 0.9\n",
      "-0.8999999999999999 < all_truthEta < -0.7999999999999998 1052  fraction kept: 1.0\n",
      "-0.7999999999999998 < all_truthEta < -0.6999999999999997 1094  fraction kept: 1.0\n",
      "-0.6999999999999997 < all_truthEta < -0.5999999999999996 1285  fraction kept: 1.2\n",
      "-0.5999999999999996 < all_truthEta < -0.49999999999999956 1289  fraction kept: 1.2\n",
      "-0.49999999999999956 < all_truthEta < -0.39999999999999947 1355  fraction kept: 1.2\n",
      "-0.39999999999999947 < all_truthEta < -0.2999999999999994 1455  fraction kept: 1.3\n",
      "-0.2999999999999994 < all_truthEta < -0.1999999999999993 1436  fraction kept: 1.3\n",
      "-0.1999999999999993 < all_truthEta < -0.0999999999999992 1508  fraction kept: 1.4\n",
      "-0.0999999999999992 < all_truthEta < 8.881784197001252e-16 1509  fraction kept: 1.4\n",
      "8.881784197001252e-16 < all_truthEta < 0.10000000000000098 1602  fraction kept: 1.5\n",
      "0.10000000000000098 < all_truthEta < 0.20000000000000107 1684  fraction kept: 1.5\n",
      "0.20000000000000107 < all_truthEta < 0.30000000000000115 1682  fraction kept: 1.5\n",
      "0.30000000000000115 < all_truthEta < 0.40000000000000124 1832  fraction kept: 1.7\n",
      "0.40000000000000124 < all_truthEta < 0.5000000000000013 1895  fraction kept: 1.7\n",
      "0.5000000000000013 < all_truthEta < 0.6000000000000014 1895  fraction kept: 1.7\n",
      "0.6000000000000014 < all_truthEta < 0.7000000000000015 1995  fraction kept: 1.8\n",
      "0.7000000000000015 < all_truthEta < 0.8000000000000016 1977  fraction kept: 1.8\n",
      "0.8000000000000016 < all_truthEta < 0.9000000000000017 2053  fraction kept: 1.9\n",
      "0.9000000000000017 < all_truthEta < 1.0000000000000018 2256  fraction kept: 2.1\n",
      "1.0000000000000018 < all_truthEta < 1.1000000000000019 2148  fraction kept: 2.0\n",
      "-1.1 < matched_truthEta < -1.0 591  fraction kept: 2.1\n",
      "-1.0 < matched_truthEta < -0.8999999999999999 678  fraction kept: 2.4\n",
      "-0.8999999999999999 < matched_truthEta < -0.7999999999999998 754  fraction kept: 2.6\n",
      "-0.7999999999999998 < matched_truthEta < -0.6999999999999997 772  fraction kept: 2.7\n",
      "-0.6999999999999997 < matched_truthEta < -0.5999999999999996 946  fraction kept: 3.3\n",
      "-0.5999999999999996 < matched_truthEta < -0.49999999999999956 912  fraction kept: 3.2\n",
      "-0.49999999999999956 < matched_truthEta < -0.39999999999999947 935  fraction kept: 3.2\n",
      "-0.39999999999999947 < matched_truthEta < -0.2999999999999994 1013  fraction kept: 3.5\n",
      "-0.2999999999999994 < matched_truthEta < -0.1999999999999993 973  fraction kept: 3.4\n",
      "-0.1999999999999993 < matched_truthEta < -0.0999999999999992 1033  fraction kept: 3.6\n",
      "-0.0999999999999992 < matched_truthEta < 8.881784197001252e-16 1040  fraction kept: 3.6\n",
      "8.881784197001252e-16 < matched_truthEta < 0.10000000000000098 1064  fraction kept: 3.7\n",
      "0.10000000000000098 < matched_truthEta < 0.20000000000000107 1170  fraction kept: 4.1\n",
      "0.20000000000000107 < matched_truthEta < 0.30000000000000115 1168  fraction kept: 4.1\n",
      "0.30000000000000115 < matched_truthEta < 0.40000000000000124 1249  fraction kept: 4.3\n",
      "0.40000000000000124 < matched_truthEta < 0.5000000000000013 1262  fraction kept: 4.4\n",
      "0.5000000000000013 < matched_truthEta < 0.6000000000000014 1220  fraction kept: 4.2\n",
      "0.6000000000000014 < matched_truthEta < 0.7000000000000015 1319  fraction kept: 4.6\n",
      "0.7000000000000015 < matched_truthEta < 0.8000000000000016 1270  fraction kept: 4.4\n",
      "0.8000000000000016 < matched_truthEta < 0.9000000000000017 1299  fraction kept: 4.5\n",
      "0.9000000000000017 < matched_truthEta < 1.0000000000000018 1346  fraction kept: 4.7\n",
      "1.0000000000000018 < matched_truthEta < 1.1000000000000019 1247  fraction kept: 4.3\n"
     ]
    }
   ],
   "source": [
    "a_arr = partitionEta(a, etaedges, etaname = 'all_truthEta')\n",
    "b_arr = partitionEta(b, etaedges, etaname = 'matched_truthEta')"
   ]
  },
  {
   "cell_type": "code",
   "execution_count": 107,
   "metadata": {},
   "outputs": [
    {
     "name": "stdout",
     "output_type": "stream",
     "text": [
      "-1.1 < all_truthEta < -1.0 0  fraction kept: 0.0\n",
      "-1.0 < all_truthEta < -0.8999999999999999 0  fraction kept: 0.0\n",
      "-0.8999999999999999 < all_truthEta < -0.7999999999999998 0  fraction kept: 0.0\n",
      "-0.7999999999999998 < all_truthEta < -0.6999999999999997 0  fraction kept: 0.0\n",
      "-0.6999999999999997 < all_truthEta < -0.5999999999999996 485  fraction kept: 7.0\n",
      "-0.5999999999999996 < all_truthEta < -0.49999999999999956 438  fraction kept: 6.3\n",
      "-0.49999999999999956 < all_truthEta < -0.39999999999999947 434  fraction kept: 6.3\n",
      "-0.39999999999999947 < all_truthEta < -0.2999999999999994 452  fraction kept: 6.5\n",
      "-0.2999999999999994 < all_truthEta < -0.1999999999999993 432  fraction kept: 6.2\n",
      "-0.1999999999999993 < all_truthEta < -0.0999999999999992 424  fraction kept: 6.1\n",
      "-0.0999999999999992 < all_truthEta < 8.881784197001252e-16 441  fraction kept: 6.4\n",
      "8.881784197001252e-16 < all_truthEta < 0.10000000000000098 491  fraction kept: 7.1\n",
      "0.10000000000000098 < all_truthEta < 0.20000000000000107 493  fraction kept: 7.1\n",
      "0.20000000000000107 < all_truthEta < 0.30000000000000115 515  fraction kept: 7.4\n",
      "0.30000000000000115 < all_truthEta < 0.40000000000000124 535  fraction kept: 7.7\n",
      "0.40000000000000124 < all_truthEta < 0.5000000000000013 589  fraction kept: 8.5\n",
      "0.5000000000000013 < all_truthEta < 0.6000000000000014 575  fraction kept: 8.3\n",
      "0.6000000000000014 < all_truthEta < 0.7000000000000015 611  fraction kept: 8.8\n",
      "0.7000000000000015 < all_truthEta < 0.8000000000000016 0  fraction kept: 0.0\n",
      "0.8000000000000016 < all_truthEta < 0.9000000000000017 0  fraction kept: 0.0\n",
      "0.9000000000000017 < all_truthEta < 1.0000000000000018 0  fraction kept: 0.0\n",
      "1.0000000000000018 < all_truthEta < 1.1000000000000019 0  fraction kept: 0.0\n",
      "-1.1 < matched_truthEta < -1.0 0  fraction kept: 0.0\n",
      "-1.0 < matched_truthEta < -0.8999999999999999 0  fraction kept: 0.0\n",
      "-0.8999999999999999 < matched_truthEta < -0.7999999999999998 0  fraction kept: 0.0\n",
      "-0.7999999999999998 < matched_truthEta < -0.6999999999999997 0  fraction kept: 0.0\n",
      "-0.6999999999999997 < matched_truthEta < -0.5999999999999996 491  fraction kept: 7.2\n",
      "-0.5999999999999996 < matched_truthEta < -0.49999999999999956 433  fraction kept: 6.3\n",
      "-0.49999999999999956 < matched_truthEta < -0.39999999999999947 434  fraction kept: 6.4\n",
      "-0.39999999999999947 < matched_truthEta < -0.2999999999999994 438  fraction kept: 6.4\n",
      "-0.2999999999999994 < matched_truthEta < -0.1999999999999993 412  fraction kept: 6.0\n",
      "-0.1999999999999993 < matched_truthEta < -0.0999999999999992 421  fraction kept: 6.2\n",
      "-0.0999999999999992 < matched_truthEta < 8.881784197001252e-16 450  fraction kept: 6.6\n",
      "8.881784197001252e-16 < matched_truthEta < 0.10000000000000098 476  fraction kept: 7.0\n",
      "0.10000000000000098 < matched_truthEta < 0.20000000000000107 500  fraction kept: 7.3\n",
      "0.20000000000000107 < matched_truthEta < 0.30000000000000115 515  fraction kept: 7.5\n",
      "0.30000000000000115 < matched_truthEta < 0.40000000000000124 533  fraction kept: 7.8\n",
      "0.40000000000000124 < matched_truthEta < 0.5000000000000013 582  fraction kept: 8.5\n",
      "0.5000000000000013 < matched_truthEta < 0.6000000000000014 562  fraction kept: 8.2\n",
      "0.6000000000000014 < matched_truthEta < 0.7000000000000015 587  fraction kept: 8.6\n",
      "0.7000000000000015 < matched_truthEta < 0.8000000000000016 0  fraction kept: 0.0\n",
      "0.8000000000000016 < matched_truthEta < 0.9000000000000017 0  fraction kept: 0.0\n",
      "0.9000000000000017 < matched_truthEta < 1.0000000000000018 0  fraction kept: 0.0\n",
      "1.0000000000000018 < matched_truthEta < 1.1000000000000019 0  fraction kept: 0.0\n"
     ]
    }
   ],
   "source": [
    "a1_arr = partitionEta(a1, etaedges, etaname = 'all_truthEta')\n",
    "b1_arr = partitionEta(b1, etaedges, etaname = 'matched_truthEta')"
   ]
  },
  {
   "cell_type": "code",
   "execution_count": 53,
   "metadata": {},
   "outputs": [],
   "source": [
    "x = np.arange(-1.05, 1.15, 0.1)"
   ]
  },
  {
   "cell_type": "code",
   "execution_count": 68,
   "metadata": {},
   "outputs": [],
   "source": [
    "nRec = []\n",
    "nEvt = []\n",
    "for i in range(0, len(etaedges)-1):\n",
    "    nRec.append(len(b_arr[i]))\n",
    "    nEvt.append(len(a_arr[i]))"
   ]
  },
  {
   "cell_type": "code",
   "execution_count": 70,
   "metadata": {},
   "outputs": [],
   "source": [
    "nRec_cut = []\n",
    "nEvt_cut = []\n",
    "for i in range(0, len(etaedges)-1):\n",
    "    nRec_cut.append(len(b1_arr[i]))\n",
    "    nEvt_cut.append(len(a1_arr[i]))"
   ]
  },
  {
   "cell_type": "code",
   "execution_count": 94,
   "metadata": {},
   "outputs": [],
   "source": [
    "y, yerr = geteff(np.asarray(nRec), np.asarray(nEvt))"
   ]
  },
  {
   "cell_type": "code",
   "execution_count": 96,
   "metadata": {},
   "outputs": [
    {
     "data": {
      "text/plain": [
       "Text(-1,0.1,'$Q^2 > 16 \\\\, \\\\mathrm{GeV^2}$')"
      ]
     },
     "execution_count": 96,
     "metadata": {},
     "output_type": "execute_result"
    },
    {
     "data": {
      "image/png": "[encoded data removed]",
      "text/plain": [
       "<Figure size 576x432 with 1 Axes>"
      ]
     },
     "metadata": {
      "needs_background": "light"
     },
     "output_type": "display_data"
    }
   ],
   "source": [
    "fig = plt.figure(figsize=(8,6))\n",
    "plt.errorbar(x, y, xerr=0.05, yerr=yerr)\n",
    "plt.xlim(left=-1.1, right=1.1)\n",
    "plt.ylim(bottom=0, top=1)\n",
    "plt.xlabel('$\\eta^{tru}_{jet}$', fontsize=15)\n",
    "plt.ylabel('efficiency', fontsize=15)\n",
    "plt.xticks(fontsize=15)\n",
    "plt.yticks(fontsize=15)\n",
    "plt.text(-1, 0.1, '$Q^2 > 16 \\, \\mathrm{GeV^2}$', fontsize=15)"
   ]
  },
  {
   "cell_type": "code",
   "execution_count": 100,
   "metadata": {},
   "outputs": [],
   "source": [
    "y, yerr = geteff(np.asarray(nRec_cut), np.asarray(nEvt_cut))"
   ]
  },
  {
   "cell_type": "code",
   "execution_count": 101,
   "metadata": {},
   "outputs": [
    {
     "data": {
      "text/plain": [
       "Text(-1,0.1,'$Q^2 > 16 \\\\, \\\\mathrm{GeV^2}$ \\n $|\\\\eta^{rec}_{jet}| < 0.7$ \\n $N^{tru}_{jet}, N^{rec}_{jet} \\\\geq 4$ \\n $E^{tru}_{jet}, E^{rec}_{jet} > 5 \\\\, \\\\mathrm{GeV}$')"
      ]
     },
     "execution_count": 101,
     "metadata": {},
     "output_type": "execute_result"
    },
    {
     "data": {
      "image/png": "[encoded data removed]",
      "text/plain": [
       "<Figure size 576x432 with 1 Axes>"
      ]
     },
     "metadata": {
      "needs_background": "light"
     },
     "output_type": "display_data"
    }
   ],
   "source": [
    "fig = plt.figure(figsize=(8,6))\n",
    "plt.errorbar(x, y, xerr=0.05, yerr=yerr)\n",
    "plt.xlim(left=-1.1, right=1.1)\n",
    "plt.ylim(bottom=0, top=1)\n",
    "plt.xlabel('$\\eta^{tru}_{jet}$', fontsize=15)\n",
    "plt.ylabel('efficiency', fontsize=15)\n",
    "plt.xticks(fontsize=15)\n",
    "plt.yticks(fontsize=15)\n",
    "plt.text(-1, 0.1, '$Q^2 > 16 \\, \\mathrm{GeV^2}$ \\n $|\\eta^{rec}_{jet}| < 0.7$ \\n $N^{tru}_{jet}, N^{rec}_{jet} \\geq 4$ \\n $E^{tru}_{jet}, E^{rec}_{jet} > 5 \\, \\mathrm{GeV}$', fontsize=15)"
   ]
  },
  {
   "cell_type": "code",
   "execution_count": 104,
   "metadata": {},
   "outputs": [
    {
     "name": "stdout",
     "output_type": "stream",
     "text": [
      "[0, 0, 0, 0, 491, 433, 434, 438, 412, 421, 450, 476, 500, 515, 533, 582, 562, 587, 0, 0, 0, 0]\n",
      "[0, 0, 0, 0, 485, 438, 434, 452, 432, 424, 441, 491, 493, 515, 535, 589, 575, 611, 0, 0, 0, 0]\n"
     ]
    }
   ],
   "source": [
    "print nRec_cut\n",
    "print nEvt_cut"
   ]
  },
  {
   "cell_type": "code",
   "execution_count": null,
   "metadata": {},
   "outputs": [],
   "source": []
  }
 ],
 "metadata": {
  "kernelspec": {
   "display_name": "Python 2",
   "language": "python",
   "name": "python2"
  },
  "language_info": {
   "codemirror_mode": {
    "name": "ipython",
    "version": 2
   },
   "file_extension": ".py",
   "mimetype": "text/x-python",
   "name": "python",
   "nbconvert_exporter": "python",
   "pygments_lexer": "ipython2",
   "version": "2.7.15rc1"
  }
 },
 "nbformat": 4,
 "nbformat_minor": 2
}
