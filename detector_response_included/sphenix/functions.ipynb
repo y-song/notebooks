{
 "cells": [
  {
   "cell_type": "code",
   "execution_count": 1,
   "metadata": {},
   "outputs": [
    {
     "name": "stdout",
     "output_type": "stream",
     "text": [
      "The history saving thread hit an unexpected error (DatabaseError('database disk image is malformed',)).History will not be written to the database.\n"
     ]
    }
   ],
   "source": [
    "def applyCut(inputDataframe, cut, text=None):\n",
    "    dataframe = inputDataframe\n",
    "    nbeforecut = dataframe.shape[0]\n",
    "    cutDataframe = dataframe.query(cut)\n",
    "    if text:\n",
    "        print text, cutDataframe.shape[0], ' fraction kept: %2.1f'%(100.0*float(cutDataframe.shape[0])/nbeforecut)\n",
    "    return cutDataframe"
   ]
  },
  {
   "cell_type": "code",
   "execution_count": 2,
   "metadata": {},
   "outputs": [],
   "source": [
    "def fixPhi(df, particle, groomed=False):\n",
    "    if groomed == True:\n",
    "        string = 'phi_jet_g'\n",
    "    else:\n",
    "        string = 'phi_jet'\n",
    "    a = (df.loc[df['phi_' + particle] < 0]).index # a list of row indices (jet id) with negative phi_photon values\n",
    "    for i in range(0,len(a)):\n",
    "        df.at[a[i],'phi_' + particle] = df.at[a[i],'phi_' + particle] + 6.28318530718\n",
    "    print 'Fixed ' + particle + ' phi range'\n",
    "    df_new = df.eval('delta_phi_' + particle + ' = phi_' + particle + ' - ' + string)\n",
    "    b = (df_new.loc[df_new['delta_phi_' + particle] > np.pi]).index\n",
    "    for i in range(0,len(b)):\n",
    "        df_new.at[b[i],'delta_phi_' + particle] = -6.28318530718 + df_new.at[b[i],'delta_phi_' + particle]\n",
    "    c = (df_new.loc[df_new['delta_phi_' + particle] < (-1) * np.pi]).index\n",
    "    for i in range(0,len(c)):\n",
    "        df_new.at[c[i],'delta_phi_' + particle] = 6.28318530718 + df_new.at[c[i],'delta_phi_' + particle]\n",
    "    df_new_new = df_new.eval('delta_phi_' + particle + '_abs = abs(delta_phi_' + particle + ')')    \n",
    "    print 'Fixed ' + particle + ' delta phi range'\n",
    "    return df_new_new"
   ]
  },
  {
   "cell_type": "code",
   "execution_count": 1,
   "metadata": {},
   "outputs": [
    {
     "name": "stdout",
     "output_type": "stream",
     "text": [
      "The history saving thread hit an unexpected error (DatabaseError('database disk image is malformed',)).History will not be written to the database.\n"
     ]
    }
   ],
   "source": [
    "def fixPhiPart(df, particle):\n",
    "    string = 'phi_part'\n",
    "    a = (df.loc[df['phi_' + particle] < 0]).index # a list of row indices (jet id) with negative phi_photon values\n",
    "    for i in range(0,len(a)):\n",
    "        df.at[a[i],'phi_' + particle] = df.at[a[i],'phi_' + particle] + 6.28318530718\n",
    "    print 'Fixed ' + particle + ' phi range'\n",
    "    df_new = df.eval('delta_phi_' + particle + ' = phi_' + particle + ' - ' + string)\n",
    "    b = (df_new.loc[df_new['delta_phi_' + particle] > np.pi]).index\n",
    "    for i in range(0,len(b)):\n",
    "        df_new.at[b[i],'delta_phi_' + particle] = -6.28318530718 + df_new.at[b[i],'delta_phi_' + particle]\n",
    "    c = (df_new.loc[df_new['delta_phi_' + particle] < (-1) * np.pi]).index\n",
    "    for i in range(0,len(c)):\n",
    "        df_new.at[c[i],'delta_phi_' + particle] = 6.28318530718 + df_new.at[c[i],'delta_phi_' + particle]\n",
    "    df_new_new = df_new.eval('delta_phi_' + particle + '_abs = abs(delta_phi_' + particle + ')')    \n",
    "    print 'Fixed ' + particle + ' delta phi range'\n",
    "    return df_new_new"
   ]
  },
  {
   "cell_type": "code",
   "execution_count": 1,
   "metadata": {},
   "outputs": [
    {
     "name": "stdout",
     "output_type": "stream",
     "text": [
      "The history saving thread hit an unexpected error (DatabaseError('database disk image is malformed',)).History will not be written to the database.\n"
     ]
    }
   ],
   "source": [
    "def plot1dnvar(df_array, var_array, label_array, low, high, interval, xlabel, yscale):\n",
    "    \n",
    "    color_array = ['r', 'g', 'b', 'purple']\n",
    "    xvar_array = toArrayFloat(low, high, interval)\n",
    "    xsec = np.mean(a['xsec'])\n",
    "    ntrials = a['ntrials'][a.shape[0]-1]\n",
    "    \n",
    "    for i in range(0, len(df_array)):\n",
    "        x, y, xerr = getHist(df_array[i], var_array[i], xvar_array)\n",
    "        plt.errorbar(x, 10*y*xsec*1e12/ntrials, xerr = xerr, fmt='none', color=color_array[i],elinewidth=2,label=label_array[i])\n",
    "   \n",
    "    plt.xticks(fontsize=20)\n",
    "    plt.yticks(fontsize=20)\n",
    "    plt.yscale(yscale)\n",
    "    plt.xlabel(xlabel, fontsize=20)\n",
    "    plt.ylabel(r'$d\\sigma \\times 10 \\, \\mathrm{fb^{-1}}$', fontsize=20)\n",
    "    plt.xlim(left=low, right=high)\n",
    "    plt.yscale(yscale)\n",
    "    plt.legend(prop={'size': 20}, frameon=False, loc='upper right')"
   ]
  },
  {
   "cell_type": "code",
   "execution_count": 4,
   "metadata": {},
   "outputs": [],
   "source": [
    "def toArrayFloat(begin, end, interval=0, log=False, logNum=0):\n",
    "    array = []\n",
    "    if log==True:\n",
    "        array = np.logspace(begin, end, num=logNum)\n",
    "    else:\n",
    "        length = int((end - begin) / interval + 1)\n",
    "        for i in range(0,length):\n",
    "            array.append((float(begin + interval * i))) \n",
    "    return array"
   ]
  },
  {
   "cell_type": "code",
   "execution_count": 1,
   "metadata": {},
   "outputs": [
    {
     "name": "stdout",
     "output_type": "stream",
     "text": [
      "The history saving thread hit an unexpected error (DatabaseError('database disk image is malformed',)).History will not be written to the database.\n"
     ]
    }
   ],
   "source": [
    "def getHist(var, binEdges):\n",
    "        \n",
    "    x = []\n",
    "    for i in range(0,len(binEdges)-1):\n",
    "        x.append((binEdges[i] + binEdges[i+1]) / 2)\n",
    "    \n",
    "    y = np.histogram(var, bins=binEdges)[0]\n",
    "    \n",
    "    xerr = getInterval(binEdges)/2\n",
    "    \n",
    "    return x, y, xerr"
   ]
  },
  {
   "cell_type": "code",
   "execution_count": 6,
   "metadata": {},
   "outputs": [],
   "source": [
    "def getInterval(arrayFloat):\n",
    "    interval = np.zeros(len(arrayFloat)-1)\n",
    "    for i in range(0,len(arrayFloat)-1):\n",
    "        interval[i] = arrayFloat[i+1] - arrayFloat[i]\n",
    "    return interval"
   ]
  },
  {
   "cell_type": "code",
   "execution_count": 1,
   "metadata": {},
   "outputs": [
    {
     "name": "stdout",
     "output_type": "stream",
     "text": [
      "The history saving thread hit an unexpected error (DatabaseError('database disk image is malformed',)).History will not be written to the database.\n"
     ]
    }
   ],
   "source": [
    "def partitionEtaPt(df, etaedges, ptranges):\n",
    "    etaranges = getRanges(etaedges)\n",
    "    ptranges = getRanges(ptranges)\n",
    "    ds = [['' for j in range(0,len(ptranges))] for i in range(0,len(etaranges))]\n",
    "    for i in range(0,len(etaranges)):\n",
    "        etalow, etahigh = etaranges[i]\n",
    "        print '\\n', str(etalow) +' < eta_jet < '+ str(etahigh), '\\n'\n",
    "        ds_eta = applyCut(df, 'eta_jet> ' + str(etalow) + 'and eta_jet < ' + str(etahigh), str(etalow) + ' < eta_jet < ' + str(etahigh))\n",
    "        for j in range(0,len(ptranges)):\n",
    "            ptlow, pthigh = ptranges[j]\n",
    "            ds_eta_pt = applyCut(ds_eta, 'pt_jet > ' + str(ptlow) + 'and pt_jet < ' + str(pthigh), str(ptlow) + ' < pt_jet < ' + str(pthigh))\n",
    "            ds[i][j] = ds_eta_pt\n",
    "    return ds"
   ]
  },
  {
   "cell_type": "code",
   "execution_count": 11,
   "metadata": {},
   "outputs": [],
   "source": [
    "def partitionEta(df, etaedges, etaname='eta_jet'):\n",
    "    etaranges = getRanges(etaedges)\n",
    "    ds = ['' for i in range(0,len(etaranges))]\n",
    "    for i in range(0,len(etaranges)):\n",
    "        etalow, etahigh = etaranges[i]\n",
    "        ds_eta = applyCut(df, etaname + ' > ' + str(etalow) + ' and ' + etaname + ' < ' + str(etahigh), str(etalow) + ' < ' + etaname + ' < ' + str(etahigh))\n",
    "        ds[i] = ds_eta\n",
    "    return ds"
   ]
  },
  {
   "cell_type": "code",
   "execution_count": 9,
   "metadata": {},
   "outputs": [],
   "source": [
    "def getRanges(edges):\n",
    "    return zip(edges[:-1], edges[1:])"
   ]
  },
  {
   "cell_type": "code",
   "execution_count": 1,
   "metadata": {},
   "outputs": [
    {
     "name": "stdout",
     "output_type": "stream",
     "text": [
      "The history saving thread hit an unexpected error (DatabaseError('database disk image is malformed',)).History will not be written to the database.\n"
     ]
    }
   ],
   "source": [
    "def keepOneJet(inputDataframe):    \n",
    "    dataframe = inputDataframe\n",
    "    nbeforecut = dataframe.shape[0]\n",
    "    cutDataframe = dataframe.loc[~dataframe['event'].duplicated(keep='first')]\n",
    "    print '\\n','Remove extra jets',cutDataframe.shape[0],' fraction kept: %2.1f'%(100.0*float(cutDataframe.shape[0])/nbeforecut)\n",
    "    return cutDataframe"
   ]
  },
  {
   "cell_type": "code",
   "execution_count": 3,
   "metadata": {},
   "outputs": [],
   "source": [
    "def plot2d(df, xvar, yvar, xlabel, ylabel, title=None, lim=None, cmap='inferno'):\n",
    "\n",
    "    hist = plt.hexbin(df[xvar], df[yvar], gridsize=50, norm=LogNorm(), cmap=cmap, xscale = 'log', extent=lim)\n",
    "    plt.xlabel(xlabel, fontsize = 15)\n",
    "    plt.ylabel(ylabel, fontsize = 15)\n",
    "    plt.tick_params(labelsize='large')\n",
    "    plt.colorbar()\n",
    "    if title != None:\n",
    "        plt.title('$' + title + '$', fontsize=15)\n",
    "    return hist"
   ]
  },
  {
   "cell_type": "code",
   "execution_count": 1,
   "metadata": {},
   "outputs": [
    {
     "name": "stdout",
     "output_type": "stream",
     "text": [
      "The history saving thread hit an unexpected error (DatabaseError('database disk image is malformed',)).History will not be written to the database.\n"
     ]
    }
   ],
   "source": [
    "def integrate(binwidth, yarray, low, high):\n",
    "    s = 0\n",
    "    interval = (int)((high - low)/binwidth)\n",
    "    for i in range(0, interval):\n",
    "        s = s + binwidth * yarray[i]\n",
    "    return s"
   ]
  },
  {
   "cell_type": "code",
   "execution_count": null,
   "metadata": {},
   "outputs": [],
   "source": []
  }
 ],
 "metadata": {
  "kernelspec": {
   "display_name": "Python 2",
   "language": "python",
   "name": "python2"
  },
  "language_info": {
   "codemirror_mode": {
    "name": "ipython",
    "version": 2
   },
   "file_extension": ".py",
   "mimetype": "text/x-python",
   "name": "python",
   "nbconvert_exporter": "python",
   "pygments_lexer": "ipython2",
   "version": "2.7.15rc1"
  }
 },
 "nbformat": 4,
 "nbformat_minor": 2
}
