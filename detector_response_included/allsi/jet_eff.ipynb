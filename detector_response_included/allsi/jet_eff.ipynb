{
 "cells": [
  {
   "cell_type": "code",
   "execution_count": 1,
   "metadata": {},
   "outputs": [
    {
     "name": "stdout",
     "output_type": "stream",
     "text": [
      "The history saving thread hit an unexpected error (DatabaseError('database disk image is malformed',)).History will not be written to the database.\n",
      "Welcome to JupyROOT 6.14/06\n"
     ]
    }
   ],
   "source": [
    "import time\n",
    "import ROOT\n",
    "import math\n",
    "import numpy as np\n",
    "import pandas as pd\n",
    "import root_pandas as rpd\n",
    "import matplotlib.pyplot as plt\n",
    "import matplotlib.ticker as mticker\n",
    "from root_pandas import read_root\n",
    "from __future__ import division\n",
    "from statsmodels.stats.proportion import proportion_confint\n",
    "%run functions.ipynb"
   ]
  },
  {
   "cell_type": "code",
   "execution_count": 2,
   "metadata": {},
   "outputs": [],
   "source": [
    "def geteff(nRec, nEvt):\n",
    "    y = []\n",
    "    yerr = []\n",
    "    for i in range(0, len(nEvt)):\n",
    "        if nEvt[i] == 0:\n",
    "            y.append(0)\n",
    "            yerr.append([0,0])\n",
    "        else:\n",
    "            y.append(nRec[i] / nEvt[i])\n",
    "            a = abs(proportion_confint(nRec[i], nEvt[i], 1 - 0.68, 'jeffreys') - nRec[i] / nEvt[i])\n",
    "            yerr.append(a)\n",
    "    return y, np.asarray(yerr).T"
   ]
  },
  {
   "cell_type": "code",
   "execution_count": 3,
   "metadata": {},
   "outputs": [],
   "source": [
    "def getDataAll(inputFiles):\n",
    "    cols = []\n",
    "    scalar = []\n",
    "    scalar.append('event')\n",
    "    cols.append('all_truthNComponent')\n",
    "    cols.append('all_truthE')\n",
    "    cols.append('all_truthEta')\n",
    "\n",
    "    lists = scalar\n",
    "    dataframes = []\n",
    "    for inputFilename in inputFiles:\n",
    "        start = time.time()\n",
    "        df = read_root(inputFilename, columns=lists+cols,flatten=cols)\n",
    "        dataframes.append(df)\n",
    "        end = time.time()\n",
    "        print '\\n', 'Processed', inputFilename, 'in',  '%2.1f'%(end-start), 'seconds'\n",
    "    return pd.concat([x for x in dataframes])"
   ]
  },
  {
   "cell_type": "code",
   "execution_count": 4,
   "metadata": {},
   "outputs": [],
   "source": [
    "def getDataMatched(inputFiles):\n",
    "    cols = []\n",
    "    scalar = []\n",
    "    scalar.append('event')\n",
    "    cols.append('matched_truthNComponent')\n",
    "    cols.append('matched_truthE')\n",
    "    cols.append('matched_truthEta')\n",
    "\n",
    "    lists = scalar\n",
    "    dataframes = []\n",
    "    for inputFilename in inputFiles:\n",
    "        start = time.time()\n",
    "        df = read_root(inputFilename, columns=lists+cols,flatten=cols)\n",
    "        dataframes.append(df)\n",
    "        end = time.time()\n",
    "        print '\\n', 'Processed', inputFilename, 'in',  '%2.1f'%(end-start), 'seconds'\n",
    "    return pd.concat([x for x in dataframes])"
   ]
  },
  {
   "cell_type": "code",
   "execution_count": 27,
   "metadata": {},
   "outputs": [],
   "source": [
    "file1 = [\"$HOME/EIC/output/allsi/624.root\"]\n",
    "file2 = [\"$HOME/EIC/output/sphenix/619.root\"]"
   ]
  },
  {
   "cell_type": "code",
   "execution_count": 28,
   "metadata": {},
   "outputs": [
    {
     "name": "stdout",
     "output_type": "stream",
     "text": [
      "\n",
      "Processed $HOME/EIC/output/allsi/624.root in 5.3 seconds\n",
      "\n",
      "Processed $HOME/EIC/output/allsi/624.root in 5.0 seconds\n",
      "\n",
      "Processed $HOME/EIC/output/sphenix/619.root in 1.1 seconds\n",
      "\n",
      "Processed $HOME/EIC/output/sphenix/619.root in 0.9 seconds\n"
     ]
    }
   ],
   "source": [
    "a = getDataAll(file1)\n",
    "b = getDataMatched(file1)\n",
    "a2 = getDataAll(file2)\n",
    "b2 = getDataMatched(file2)"
   ]
  },
  {
   "cell_type": "code",
   "execution_count": 7,
   "metadata": {},
   "outputs": [
    {
     "name": "stdout",
     "output_type": "stream",
     "text": [
      "checked 1000 jets\n",
      "checked 2000 jets\n",
      "checked 3000 jets\n",
      "checked 4000 jets\n",
      "checked 5000 jets\n",
      "checked 6000 jets\n",
      "checked 7000 jets\n",
      "checked 8000 jets\n",
      "checked 9000 jets\n",
      "checked 10000 jets\n"
     ]
    }
   ],
   "source": [
    "# check if there is any jet in \"matched\" but not in \"all\"\n",
    "for i in range(0, 3001):\n",
    "    match = np.asarray(b['matched_truthEta'])[i]\n",
    "    if i != 0 and i % 1000 == 0:\n",
    "        print \"checked\", i, \"jets\"\n",
    "    if math.isnan(match) == False:\n",
    "        for j in range(i, len(a)):\n",
    "            alll = np.asarray(a['all_truthEta'])[j]\n",
    "            if match == alll:\n",
    "                break\n",
    "            if j == len(a)-1:\n",
    "                print b.loc[[i]]"
   ]
  },
  {
   "cell_type": "code",
   "execution_count": 29,
   "metadata": {},
   "outputs": [],
   "source": [
    "def drop(df): # drop rows with duplicated \"matched\" jets\n",
    "    row_dup = []\n",
    "    for i in range(0, len(df)):\n",
    "        match = np.asarray(df['matched_truthEta'])[i]\n",
    "        if i < len(df)-20:\n",
    "            end = i + 21\n",
    "        else:\n",
    "            end = len(df)\n",
    "        for j in range(i+1, end):\n",
    "            match2 = np.asarray(df['matched_truthEta'])[j]\n",
    "            if match == match2:\n",
    "                #print b.loc[[i]]\n",
    "                #print b.loc[[j]]\n",
    "                row_dup.append(i)\n",
    "    #print row_dup\n",
    "    print len(row_dup), \"pairs of duplicated matched jets found\"\n",
    "    df0 = df.drop(row_dup)\n",
    "    return df0"
   ]
  },
  {
   "cell_type": "code",
   "execution_count": 30,
   "metadata": {},
   "outputs": [
    {
     "name": "stdout",
     "output_type": "stream",
     "text": [
      "30840 pairs of duplicated matched jets found\n",
      "2323 pairs of duplicated matched jets found\n"
     ]
    }
   ],
   "source": [
    "b0 = drop(b)\n",
    "b20 = drop(b2)"
   ]
  },
  {
   "cell_type": "code",
   "execution_count": 31,
   "metadata": {},
   "outputs": [
    {
     "name": "stdout",
     "output_type": "stream",
     "text": [
      "all_truthNComponent 1512162  fraction kept: 83.2\n",
      "all_truthE 902129  fraction kept: 59.7\n"
     ]
    }
   ],
   "source": [
    "a1 = applyCut(a, 'all_truthNComponent > 1', 'all_truthNComponent')\n",
    "a1 = applyCut(a1, 'all_truthE > 5', 'all_truthE')"
   ]
  },
  {
   "cell_type": "code",
   "execution_count": 32,
   "metadata": {},
   "outputs": [
    {
     "name": "stdout",
     "output_type": "stream",
     "text": [
      "matched_truthNComponent 883192  fraction kept: 81.6\n",
      "matched_truthE 647586  fraction kept: 73.3\n"
     ]
    }
   ],
   "source": [
    "b1 = applyCut(b0, 'matched_truthNComponent > 1', 'matched_truthNComponent')\n",
    "b1 = applyCut(b1, 'matched_truthE > 5', 'matched_truthE')"
   ]
  },
  {
   "cell_type": "code",
   "execution_count": 33,
   "metadata": {},
   "outputs": [
    {
     "name": "stdout",
     "output_type": "stream",
     "text": [
      "all_truthNComponent 303052  fraction kept: 83.2\n",
      "all_truthE 180883  fraction kept: 59.7\n"
     ]
    }
   ],
   "source": [
    "a21 = applyCut(a2, 'all_truthNComponent > 1', 'all_truthNComponent')\n",
    "a21 = applyCut(a21, 'all_truthE > 5', 'all_truthE')"
   ]
  },
  {
   "cell_type": "code",
   "execution_count": 34,
   "metadata": {},
   "outputs": [
    {
     "name": "stdout",
     "output_type": "stream",
     "text": [
      "matched_truthNComponent 81151  fraction kept: 88.3\n",
      "matched_truthE 49032  fraction kept: 60.4\n"
     ]
    }
   ],
   "source": [
    "b21 = applyCut(b20, 'matched_truthNComponent > 1', 'matched_truthNComponent')\n",
    "b21 = applyCut(b21, 'matched_truthE > 5', 'matched_truthE')"
   ]
  },
  {
   "cell_type": "code",
   "execution_count": 35,
   "metadata": {},
   "outputs": [],
   "source": [
    "etaedges = np.arange(-4.0, 4.1, 0.1)\n",
    "etaedges2 = np.arange(-1.1, 1.2, 0.1)"
   ]
  },
  {
   "cell_type": "code",
   "execution_count": 36,
   "metadata": {},
   "outputs": [
    {
     "name": "stdout",
     "output_type": "stream",
     "text": [
      "-4.0 < all_truthEta < -3.9 3  fraction kept: 0.0\n",
      "-3.9 < all_truthEta < -3.8 14  fraction kept: 0.0\n",
      "-3.8 < all_truthEta < -3.6999999999999997 14  fraction kept: 0.0\n",
      "-3.6999999999999997 < all_truthEta < -3.5999999999999996 60  fraction kept: 0.0\n",
      "-3.5999999999999996 < all_truthEta < -3.4999999999999996 123  fraction kept: 0.0\n",
      "-3.4999999999999996 < all_truthEta < -3.3999999999999995 151  fraction kept: 0.0\n",
      "-3.3999999999999995 < all_truthEta < -3.2999999999999994 244  fraction kept: 0.0\n",
      "-3.2999999999999994 < all_truthEta < -3.1999999999999993 336  fraction kept: 0.0\n",
      "-3.1999999999999993 < all_truthEta < -3.099999999999999 517  fraction kept: 0.0\n",
      "-3.099999999999999 < all_truthEta < -2.999999999999999 703  fraction kept: 0.0\n",
      "-2.999999999999999 < all_truthEta < -2.899999999999999 937  fraction kept: 0.1\n",
      "-2.899999999999999 < all_truthEta < -2.799999999999999 1217  fraction kept: 0.1\n",
      "-2.799999999999999 < all_truthEta < -2.699999999999999 1549  fraction kept: 0.1\n",
      "-2.699999999999999 < all_truthEta < -2.5999999999999988 2056  fraction kept: 0.1\n",
      "-2.5999999999999988 < all_truthEta < -2.4999999999999987 2593  fraction kept: 0.1\n",
      "-2.4999999999999987 < all_truthEta < -2.3999999999999986 2984  fraction kept: 0.2\n",
      "-2.3999999999999986 < all_truthEta < -2.2999999999999985 3777  fraction kept: 0.2\n",
      "-2.2999999999999985 < all_truthEta < -2.1999999999999984 4333  fraction kept: 0.2\n",
      "-2.1999999999999984 < all_truthEta < -2.0999999999999983 5239  fraction kept: 0.3\n",
      "-2.0999999999999983 < all_truthEta < -1.9999999999999982 5891  fraction kept: 0.3\n",
      "-1.9999999999999982 < all_truthEta < -1.8999999999999981 6939  fraction kept: 0.4\n",
      "-1.8999999999999981 < all_truthEta < -1.799999999999998 7698  fraction kept: 0.4\n",
      "-1.799999999999998 < all_truthEta < -1.699999999999998 8621  fraction kept: 0.5\n",
      "-1.699999999999998 < all_truthEta < -1.5999999999999979 9722  fraction kept: 0.5\n",
      "-1.5999999999999979 < all_truthEta < -1.4999999999999978 10575  fraction kept: 0.6\n",
      "-1.4999999999999978 < all_truthEta < -1.3999999999999977 11640  fraction kept: 0.6\n",
      "-1.3999999999999977 < all_truthEta < -1.2999999999999976 12532  fraction kept: 0.7\n",
      "-1.2999999999999976 < all_truthEta < -1.1999999999999975 13541  fraction kept: 0.7\n",
      "-1.1999999999999975 < all_truthEta < -1.0999999999999974 14358  fraction kept: 0.8\n",
      "-1.0999999999999974 < all_truthEta < -0.9999999999999973 15561  fraction kept: 0.9\n",
      "-0.9999999999999973 < all_truthEta < -0.8999999999999972 16777  fraction kept: 0.9\n",
      "-0.8999999999999972 < all_truthEta < -0.7999999999999972 17638  fraction kept: 1.0\n",
      "-0.7999999999999972 < all_truthEta < -0.6999999999999971 18701  fraction kept: 1.0\n",
      "-0.6999999999999971 < all_truthEta < -0.599999999999997 19756  fraction kept: 1.1\n",
      "-0.599999999999997 < all_truthEta < -0.4999999999999969 20666  fraction kept: 1.1\n",
      "-0.4999999999999969 < all_truthEta < -0.3999999999999968 22002  fraction kept: 1.2\n",
      "-0.3999999999999968 < all_truthEta < -0.2999999999999967 22939  fraction kept: 1.3\n",
      "-0.2999999999999967 < all_truthEta < -0.19999999999999662 24089  fraction kept: 1.3\n",
      "-0.19999999999999662 < all_truthEta < -0.09999999999999654 24886  fraction kept: 1.4\n",
      "-0.09999999999999654 < all_truthEta < 3.552713678800501e-15 25541  fraction kept: 1.4\n",
      "3.552713678800501e-15 < all_truthEta < 0.1000000000000032 26997  fraction kept: 1.5\n",
      "0.1000000000000032 < all_truthEta < 0.20000000000000373 28004  fraction kept: 1.5\n",
      "0.20000000000000373 < all_truthEta < 0.30000000000000426 28870  fraction kept: 1.6\n",
      "0.30000000000000426 < all_truthEta < 0.4000000000000039 29719  fraction kept: 1.6\n",
      "0.4000000000000039 < all_truthEta < 0.5000000000000036 30808  fraction kept: 1.7\n",
      "0.5000000000000036 < all_truthEta < 0.6000000000000041 31949  fraction kept: 1.8\n",
      "0.6000000000000041 < all_truthEta < 0.7000000000000046 32843  fraction kept: 1.8\n",
      "0.7000000000000046 < all_truthEta < 0.8000000000000043 33866  fraction kept: 1.9\n",
      "0.8000000000000043 < all_truthEta < 0.9000000000000039 34851  fraction kept: 1.9\n",
      "0.9000000000000039 < all_truthEta < 1.0000000000000044 35410  fraction kept: 1.9\n",
      "1.0000000000000044 < all_truthEta < 1.100000000000005 36214  fraction kept: 2.0\n",
      "1.100000000000005 < all_truthEta < 1.2000000000000046 36667  fraction kept: 2.0\n",
      "1.2000000000000046 < all_truthEta < 1.3000000000000043 37102  fraction kept: 2.0\n",
      "1.3000000000000043 < all_truthEta < 1.4000000000000048 38355  fraction kept: 2.1\n",
      "1.4000000000000048 < all_truthEta < 1.5000000000000053 38334  fraction kept: 2.1\n",
      "1.5000000000000053 < all_truthEta < 1.600000000000005 38494  fraction kept: 2.1\n",
      "1.600000000000005 < all_truthEta < 1.7000000000000046 39152  fraction kept: 2.2\n",
      "1.7000000000000046 < all_truthEta < 1.8000000000000052 39179  fraction kept: 2.2\n",
      "1.8000000000000052 < all_truthEta < 1.9000000000000057 39443  fraction kept: 2.2\n",
      "1.9000000000000057 < all_truthEta < 2.0000000000000053 39400  fraction kept: 2.2\n",
      "2.0000000000000053 < all_truthEta < 2.100000000000005 39364  fraction kept: 2.2\n",
      "2.100000000000005 < all_truthEta < 2.2000000000000055 39301  fraction kept: 2.2\n",
      "2.2000000000000055 < all_truthEta < 2.300000000000006 39291  fraction kept: 2.2\n",
      "2.300000000000006 < all_truthEta < 2.4000000000000057 39138  fraction kept: 2.2\n",
      "2.4000000000000057 < all_truthEta < 2.5000000000000053 38686  fraction kept: 2.1\n",
      "2.5000000000000053 < all_truthEta < 2.600000000000006 38577  fraction kept: 2.1\n",
      "2.600000000000006 < all_truthEta < 2.7000000000000064 38144  fraction kept: 2.1\n",
      "2.7000000000000064 < all_truthEta < 2.800000000000006 38121  fraction kept: 2.1\n",
      "2.800000000000006 < all_truthEta < 2.9000000000000057 37945  fraction kept: 2.1\n",
      "2.9000000000000057 < all_truthEta < 3.000000000000006 38092  fraction kept: 2.1\n",
      "3.000000000000006 < all_truthEta < 3.1000000000000068 38004  fraction kept: 2.1\n",
      "3.1000000000000068 < all_truthEta < 3.2000000000000064 38751  fraction kept: 2.1\n",
      "3.2000000000000064 < all_truthEta < 3.300000000000006 39288  fraction kept: 2.2\n",
      "3.300000000000006 < all_truthEta < 3.4000000000000066 40899  fraction kept: 2.3\n",
      "3.4000000000000066 < all_truthEta < 3.500000000000007 41514  fraction kept: 2.3\n",
      "3.500000000000007 < all_truthEta < 3.6000000000000068 41919  fraction kept: 2.3\n",
      "3.6000000000000068 < all_truthEta < 3.7000000000000064 41385  fraction kept: 2.3\n",
      "3.7000000000000064 < all_truthEta < 3.800000000000007 38703  fraction kept: 2.1\n",
      "3.800000000000007 < all_truthEta < 3.9000000000000075 33199  fraction kept: 1.8\n",
      "3.9000000000000075 < all_truthEta < 4.000000000000007 24073  fraction kept: 1.3\n",
      "-4.0 < matched_truthEta < -3.9 2  fraction kept: 0.0\n",
      "-3.9 < matched_truthEta < -3.8 7  fraction kept: 0.0\n",
      "-3.8 < matched_truthEta < -3.6999999999999997 5  fraction kept: 0.0\n",
      "-3.6999999999999997 < matched_truthEta < -3.5999999999999996 30  fraction kept: 0.0\n",
      "-3.5999999999999996 < matched_truthEta < -3.4999999999999996 63  fraction kept: 0.0\n",
      "-3.4999999999999996 < matched_truthEta < -3.3999999999999995 75  fraction kept: 0.0\n",
      "-3.3999999999999995 < matched_truthEta < -3.2999999999999994 133  fraction kept: 0.0\n",
      "-3.2999999999999994 < matched_truthEta < -3.1999999999999993 183  fraction kept: 0.0\n",
      "-3.1999999999999993 < matched_truthEta < -3.099999999999999 285  fraction kept: 0.0\n",
      "-3.099999999999999 < matched_truthEta < -2.999999999999999 403  fraction kept: 0.0\n",
      "-2.999999999999999 < matched_truthEta < -2.899999999999999 545  fraction kept: 0.1\n",
      "-2.899999999999999 < matched_truthEta < -2.799999999999999 770  fraction kept: 0.1\n",
      "-2.799999999999999 < matched_truthEta < -2.699999999999999 971  fraction kept: 0.1\n",
      "-2.699999999999999 < matched_truthEta < -2.5999999999999988 1293  fraction kept: 0.1\n",
      "-2.5999999999999988 < matched_truthEta < -2.4999999999999987 1613  fraction kept: 0.1\n",
      "-2.4999999999999987 < matched_truthEta < -2.3999999999999986 1941  fraction kept: 0.2\n",
      "-2.3999999999999986 < matched_truthEta < -2.2999999999999985 2380  fraction kept: 0.2\n",
      "-2.2999999999999985 < matched_truthEta < -2.1999999999999984 2786  fraction kept: 0.3\n",
      "-2.1999999999999984 < matched_truthEta < -2.0999999999999983 3515  fraction kept: 0.3\n",
      "-2.0999999999999983 < matched_truthEta < -1.9999999999999982 4000  fraction kept: 0.4\n",
      "-1.9999999999999982 < matched_truthEta < -1.8999999999999981 4799  fraction kept: 0.4\n",
      "-1.8999999999999981 < matched_truthEta < -1.799999999999998 5402  fraction kept: 0.5\n",
      "-1.799999999999998 < matched_truthEta < -1.699999999999998 6134  fraction kept: 0.6\n",
      "-1.699999999999998 < matched_truthEta < -1.5999999999999979 6831  fraction kept: 0.6\n",
      "-1.5999999999999979 < matched_truthEta < -1.4999999999999978 7487  fraction kept: 0.7\n",
      "-1.4999999999999978 < matched_truthEta < -1.3999999999999977 8192  fraction kept: 0.8\n",
      "-1.3999999999999977 < matched_truthEta < -1.2999999999999976 8540  fraction kept: 0.8\n"
     ]
    },
    {
     "name": "stdout",
     "output_type": "stream",
     "text": [
      "-1.2999999999999976 < matched_truthEta < -1.1999999999999975 9183  fraction kept: 0.8\n",
      "-1.1999999999999975 < matched_truthEta < -1.0999999999999974 9536  fraction kept: 0.9\n",
      "-1.0999999999999974 < matched_truthEta < -0.9999999999999973 10339  fraction kept: 1.0\n",
      "-0.9999999999999973 < matched_truthEta < -0.8999999999999972 11086  fraction kept: 1.0\n",
      "-0.8999999999999972 < matched_truthEta < -0.7999999999999972 11567  fraction kept: 1.1\n",
      "-0.7999999999999972 < matched_truthEta < -0.6999999999999971 12109  fraction kept: 1.1\n",
      "-0.6999999999999971 < matched_truthEta < -0.599999999999997 12717  fraction kept: 1.2\n",
      "-0.599999999999997 < matched_truthEta < -0.4999999999999969 13250  fraction kept: 1.2\n",
      "-0.4999999999999969 < matched_truthEta < -0.3999999999999968 14182  fraction kept: 1.3\n",
      "-0.3999999999999968 < matched_truthEta < -0.2999999999999967 14770  fraction kept: 1.4\n",
      "-0.2999999999999967 < matched_truthEta < -0.19999999999999662 15696  fraction kept: 1.5\n",
      "-0.19999999999999662 < matched_truthEta < -0.09999999999999654 16509  fraction kept: 1.5\n",
      "-0.09999999999999654 < matched_truthEta < 3.552713678800501e-15 17007  fraction kept: 1.6\n",
      "3.552713678800501e-15 < matched_truthEta < 0.1000000000000032 17923  fraction kept: 1.7\n",
      "0.1000000000000032 < matched_truthEta < 0.20000000000000373 18307  fraction kept: 1.7\n",
      "0.20000000000000373 < matched_truthEta < 0.30000000000000426 18285  fraction kept: 1.7\n",
      "0.30000000000000426 < matched_truthEta < 0.4000000000000039 18457  fraction kept: 1.7\n",
      "0.4000000000000039 < matched_truthEta < 0.5000000000000036 18544  fraction kept: 1.7\n",
      "0.5000000000000036 < matched_truthEta < 0.6000000000000041 18865  fraction kept: 1.7\n",
      "0.6000000000000041 < matched_truthEta < 0.7000000000000046 19150  fraction kept: 1.8\n",
      "0.7000000000000046 < matched_truthEta < 0.8000000000000043 19256  fraction kept: 1.8\n",
      "0.8000000000000043 < matched_truthEta < 0.9000000000000039 19769  fraction kept: 1.8\n",
      "0.9000000000000039 < matched_truthEta < 1.0000000000000044 20044  fraction kept: 1.9\n",
      "1.0000000000000044 < matched_truthEta < 1.100000000000005 20498  fraction kept: 1.9\n",
      "1.100000000000005 < matched_truthEta < 1.2000000000000046 20559  fraction kept: 1.9\n",
      "1.2000000000000046 < matched_truthEta < 1.3000000000000043 21250  fraction kept: 2.0\n",
      "1.3000000000000043 < matched_truthEta < 1.4000000000000048 22611  fraction kept: 2.1\n",
      "1.4000000000000048 < matched_truthEta < 1.5000000000000053 23014  fraction kept: 2.1\n",
      "1.5000000000000053 < matched_truthEta < 1.600000000000005 23133  fraction kept: 2.1\n",
      "1.600000000000005 < matched_truthEta < 1.7000000000000046 23495  fraction kept: 2.2\n",
      "1.7000000000000046 < matched_truthEta < 1.8000000000000052 23471  fraction kept: 2.2\n",
      "1.8000000000000052 < matched_truthEta < 1.9000000000000057 23223  fraction kept: 2.1\n",
      "1.9000000000000057 < matched_truthEta < 2.0000000000000053 23398  fraction kept: 2.2\n",
      "2.0000000000000053 < matched_truthEta < 2.100000000000005 23236  fraction kept: 2.1\n",
      "2.100000000000005 < matched_truthEta < 2.2000000000000055 22862  fraction kept: 2.1\n",
      "2.2000000000000055 < matched_truthEta < 2.300000000000006 22764  fraction kept: 2.1\n",
      "2.300000000000006 < matched_truthEta < 2.4000000000000057 22259  fraction kept: 2.1\n",
      "2.4000000000000057 < matched_truthEta < 2.5000000000000053 22235  fraction kept: 2.1\n",
      "2.5000000000000053 < matched_truthEta < 2.600000000000006 22558  fraction kept: 2.1\n",
      "2.600000000000006 < matched_truthEta < 2.7000000000000064 22244  fraction kept: 2.1\n",
      "2.7000000000000064 < matched_truthEta < 2.800000000000006 22068  fraction kept: 2.0\n",
      "2.800000000000006 < matched_truthEta < 2.9000000000000057 22115  fraction kept: 2.0\n",
      "2.9000000000000057 < matched_truthEta < 3.000000000000006 21743  fraction kept: 2.0\n",
      "3.000000000000006 < matched_truthEta < 3.1000000000000068 21693  fraction kept: 2.0\n",
      "3.1000000000000068 < matched_truthEta < 3.2000000000000064 21957  fraction kept: 2.0\n",
      "3.2000000000000064 < matched_truthEta < 3.300000000000006 22021  fraction kept: 2.0\n",
      "3.300000000000006 < matched_truthEta < 3.4000000000000066 22606  fraction kept: 2.1\n",
      "3.4000000000000066 < matched_truthEta < 3.500000000000007 22905  fraction kept: 2.1\n",
      "3.500000000000007 < matched_truthEta < 3.6000000000000068 22985  fraction kept: 2.1\n",
      "3.6000000000000068 < matched_truthEta < 3.7000000000000064 22395  fraction kept: 2.1\n",
      "3.7000000000000064 < matched_truthEta < 3.800000000000007 20788  fraction kept: 1.9\n",
      "3.800000000000007 < matched_truthEta < 3.9000000000000075 17719  fraction kept: 1.6\n",
      "3.9000000000000075 < matched_truthEta < 4.000000000000007 13077  fraction kept: 1.2\n"
     ]
    }
   ],
   "source": [
    "a_arr = partitionEta(a, etaedges, etaname = 'all_truthEta')\n",
    "b_arr = partitionEta(b0, etaedges, etaname = 'matched_truthEta')"
   ]
  },
  {
   "cell_type": "code",
   "execution_count": 37,
   "metadata": {},
   "outputs": [
    {
     "name": "stdout",
     "output_type": "stream",
     "text": [
      "-4.0 < all_truthEta < -3.9 1  fraction kept: 0.0\n",
      "-3.9 < all_truthEta < -3.8 6  fraction kept: 0.0\n",
      "-3.8 < all_truthEta < -3.6999999999999997 8  fraction kept: 0.0\n",
      "-3.6999999999999997 < all_truthEta < -3.5999999999999996 24  fraction kept: 0.0\n",
      "-3.5999999999999996 < all_truthEta < -3.4999999999999996 74  fraction kept: 0.0\n",
      "-3.4999999999999996 < all_truthEta < -3.3999999999999995 84  fraction kept: 0.0\n",
      "-3.3999999999999995 < all_truthEta < -3.2999999999999994 136  fraction kept: 0.0\n",
      "-3.2999999999999994 < all_truthEta < -3.1999999999999993 191  fraction kept: 0.0\n",
      "-3.1999999999999993 < all_truthEta < -3.099999999999999 293  fraction kept: 0.0\n",
      "-3.099999999999999 < all_truthEta < -2.999999999999999 443  fraction kept: 0.0\n",
      "-2.999999999999999 < all_truthEta < -2.899999999999999 640  fraction kept: 0.1\n",
      "-2.899999999999999 < all_truthEta < -2.799999999999999 789  fraction kept: 0.1\n",
      "-2.799999999999999 < all_truthEta < -2.699999999999999 1000  fraction kept: 0.1\n",
      "-2.699999999999999 < all_truthEta < -2.5999999999999988 1395  fraction kept: 0.2\n",
      "-2.5999999999999988 < all_truthEta < -2.4999999999999987 1715  fraction kept: 0.2\n",
      "-2.4999999999999987 < all_truthEta < -2.3999999999999986 1972  fraction kept: 0.2\n",
      "-2.3999999999999986 < all_truthEta < -2.2999999999999985 2431  fraction kept: 0.3\n",
      "-2.2999999999999985 < all_truthEta < -2.1999999999999984 2764  fraction kept: 0.3\n",
      "-2.1999999999999984 < all_truthEta < -2.0999999999999983 3264  fraction kept: 0.4\n",
      "-2.0999999999999983 < all_truthEta < -1.9999999999999982 3673  fraction kept: 0.4\n",
      "-1.9999999999999982 < all_truthEta < -1.8999999999999981 4275  fraction kept: 0.5\n",
      "-1.8999999999999981 < all_truthEta < -1.799999999999998 4753  fraction kept: 0.5\n",
      "-1.799999999999998 < all_truthEta < -1.699999999999998 5324  fraction kept: 0.6\n",
      "-1.699999999999998 < all_truthEta < -1.5999999999999979 5745  fraction kept: 0.6\n",
      "-1.5999999999999979 < all_truthEta < -1.4999999999999978 6285  fraction kept: 0.7\n",
      "-1.4999999999999978 < all_truthEta < -1.3999999999999977 6700  fraction kept: 0.7\n",
      "-1.3999999999999977 < all_truthEta < -1.2999999999999976 6848  fraction kept: 0.8\n",
      "-1.2999999999999976 < all_truthEta < -1.1999999999999975 7297  fraction kept: 0.8\n",
      "-1.1999999999999975 < all_truthEta < -1.0999999999999974 7359  fraction kept: 0.8\n",
      "-1.0999999999999974 < all_truthEta < -0.9999999999999973 7678  fraction kept: 0.9\n",
      "-0.9999999999999973 < all_truthEta < -0.8999999999999972 7938  fraction kept: 0.9\n",
      "-0.8999999999999972 < all_truthEta < -0.7999999999999972 7868  fraction kept: 0.9\n",
      "-0.7999999999999972 < all_truthEta < -0.6999999999999971 7817  fraction kept: 0.9\n",
      "-0.6999999999999971 < all_truthEta < -0.599999999999997 7773  fraction kept: 0.9\n",
      "-0.599999999999997 < all_truthEta < -0.4999999999999969 7621  fraction kept: 0.8\n",
      "-0.4999999999999969 < all_truthEta < -0.3999999999999968 7722  fraction kept: 0.9\n",
      "-0.3999999999999968 < all_truthEta < -0.2999999999999967 7563  fraction kept: 0.8\n",
      "-0.2999999999999967 < all_truthEta < -0.19999999999999662 7704  fraction kept: 0.9\n",
      "-0.19999999999999662 < all_truthEta < -0.09999999999999654 7866  fraction kept: 0.9\n",
      "-0.09999999999999654 < all_truthEta < 3.552713678800501e-15 7836  fraction kept: 0.9\n",
      "3.552713678800501e-15 < all_truthEta < 0.1000000000000032 8415  fraction kept: 0.9\n",
      "0.1000000000000032 < all_truthEta < 0.20000000000000373 8534  fraction kept: 0.9\n",
      "0.20000000000000373 < all_truthEta < 0.30000000000000426 9059  fraction kept: 1.0\n",
      "0.30000000000000426 < all_truthEta < 0.4000000000000039 9511  fraction kept: 1.1\n",
      "0.4000000000000039 < all_truthEta < 0.5000000000000036 9924  fraction kept: 1.1\n",
      "0.5000000000000036 < all_truthEta < 0.6000000000000041 10696  fraction kept: 1.2\n",
      "0.6000000000000041 < all_truthEta < 0.7000000000000046 11114  fraction kept: 1.2\n",
      "0.7000000000000046 < all_truthEta < 0.8000000000000043 11719  fraction kept: 1.3\n",
      "0.8000000000000043 < all_truthEta < 0.9000000000000039 12191  fraction kept: 1.4\n",
      "0.9000000000000039 < all_truthEta < 1.0000000000000044 12533  fraction kept: 1.4\n",
      "1.0000000000000044 < all_truthEta < 1.100000000000005 13047  fraction kept: 1.4\n",
      "1.100000000000005 < all_truthEta < 1.2000000000000046 13088  fraction kept: 1.5\n",
      "1.2000000000000046 < all_truthEta < 1.3000000000000043 13352  fraction kept: 1.5\n",
      "1.3000000000000043 < all_truthEta < 1.4000000000000048 13835  fraction kept: 1.5\n",
      "1.4000000000000048 < all_truthEta < 1.5000000000000053 13861  fraction kept: 1.5\n",
      "1.5000000000000053 < all_truthEta < 1.600000000000005 13882  fraction kept: 1.5\n",
      "1.600000000000005 < all_truthEta < 1.7000000000000046 14000  fraction kept: 1.6\n",
      "1.7000000000000046 < all_truthEta < 1.8000000000000052 14340  fraction kept: 1.6\n",
      "1.8000000000000052 < all_truthEta < 1.9000000000000057 14562  fraction kept: 1.6\n",
      "1.9000000000000057 < all_truthEta < 2.0000000000000053 15099  fraction kept: 1.7\n",
      "2.0000000000000053 < all_truthEta < 2.100000000000005 15708  fraction kept: 1.7\n",
      "2.100000000000005 < all_truthEta < 2.2000000000000055 16624  fraction kept: 1.8\n",
      "2.2000000000000055 < all_truthEta < 2.300000000000006 17617  fraction kept: 2.0\n",
      "2.300000000000006 < all_truthEta < 2.4000000000000057 19003  fraction kept: 2.1\n",
      "2.4000000000000057 < all_truthEta < 2.5000000000000053 20377  fraction kept: 2.3\n",
      "2.5000000000000053 < all_truthEta < 2.600000000000006 22099  fraction kept: 2.4\n",
      "2.600000000000006 < all_truthEta < 2.7000000000000064 24050  fraction kept: 2.7\n",
      "2.7000000000000064 < all_truthEta < 2.800000000000006 26064  fraction kept: 2.9\n",
      "2.800000000000006 < all_truthEta < 2.9000000000000057 28000  fraction kept: 3.1\n",
      "2.9000000000000057 < all_truthEta < 3.000000000000006 30041  fraction kept: 3.3\n",
      "3.000000000000006 < all_truthEta < 3.1000000000000068 30613  fraction kept: 3.4\n",
      "3.1000000000000068 < all_truthEta < 3.2000000000000064 31249  fraction kept: 3.5\n",
      "3.2000000000000064 < all_truthEta < 3.300000000000006 31403  fraction kept: 3.5\n",
      "3.300000000000006 < all_truthEta < 3.4000000000000066 32408  fraction kept: 3.6\n",
      "3.4000000000000066 < all_truthEta < 3.500000000000007 32425  fraction kept: 3.6\n",
      "3.500000000000007 < all_truthEta < 3.6000000000000068 32147  fraction kept: 3.6\n",
      "3.6000000000000068 < all_truthEta < 3.7000000000000064 30796  fraction kept: 3.4\n",
      "3.7000000000000064 < all_truthEta < 3.800000000000007 27027  fraction kept: 3.0\n",
      "3.800000000000007 < all_truthEta < 3.9000000000000075 20381  fraction kept: 2.3\n",
      "3.9000000000000075 < all_truthEta < 4.000000000000007 9742  fraction kept: 1.1\n",
      "-4.0 < matched_truthEta < -3.9 1  fraction kept: 0.0\n",
      "-3.9 < matched_truthEta < -3.8 1  fraction kept: 0.0\n",
      "-3.8 < matched_truthEta < -3.6999999999999997 1  fraction kept: 0.0\n",
      "-3.6999999999999997 < matched_truthEta < -3.5999999999999996 7  fraction kept: 0.0\n",
      "-3.5999999999999996 < matched_truthEta < -3.4999999999999996 25  fraction kept: 0.0\n",
      "-3.4999999999999996 < matched_truthEta < -3.3999999999999995 20  fraction kept: 0.0\n",
      "-3.3999999999999995 < matched_truthEta < -3.2999999999999994 46  fraction kept: 0.0\n",
      "-3.2999999999999994 < matched_truthEta < -3.1999999999999993 73  fraction kept: 0.0\n",
      "-3.1999999999999993 < matched_truthEta < -3.099999999999999 115  fraction kept: 0.0\n",
      "-3.099999999999999 < matched_truthEta < -2.999999999999999 198  fraction kept: 0.0\n",
      "-2.999999999999999 < matched_truthEta < -2.899999999999999 324  fraction kept: 0.1\n",
      "-2.899999999999999 < matched_truthEta < -2.799999999999999 460  fraction kept: 0.1\n",
      "-2.799999999999999 < matched_truthEta < -2.699999999999999 597  fraction kept: 0.1\n",
      "-2.699999999999999 < matched_truthEta < -2.5999999999999988 882  fraction kept: 0.1\n",
      "-2.5999999999999988 < matched_truthEta < -2.4999999999999987 1125  fraction kept: 0.2\n",
      "-2.4999999999999987 < matched_truthEta < -2.3999999999999986 1378  fraction kept: 0.2\n",
      "-2.3999999999999986 < matched_truthEta < -2.2999999999999985 1718  fraction kept: 0.3\n",
      "-2.2999999999999985 < matched_truthEta < -2.1999999999999984 2027  fraction kept: 0.3\n",
      "-2.1999999999999984 < matched_truthEta < -2.0999999999999983 2488  fraction kept: 0.4\n",
      "-2.0999999999999983 < matched_truthEta < -1.9999999999999982 2882  fraction kept: 0.4\n",
      "-1.9999999999999982 < matched_truthEta < -1.8999999999999981 3439  fraction kept: 0.5\n",
      "-1.8999999999999981 < matched_truthEta < -1.799999999999998 3925  fraction kept: 0.6\n",
      "-1.799999999999998 < matched_truthEta < -1.699999999999998 4464  fraction kept: 0.7\n",
      "-1.699999999999998 < matched_truthEta < -1.5999999999999979 4813  fraction kept: 0.7\n",
      "-1.5999999999999979 < matched_truthEta < -1.4999999999999978 5326  fraction kept: 0.8\n",
      "-1.4999999999999978 < matched_truthEta < -1.3999999999999977 5711  fraction kept: 0.9\n",
      "-1.3999999999999977 < matched_truthEta < -1.2999999999999976 5819  fraction kept: 0.9\n",
      "-1.2999999999999976 < matched_truthEta < -1.1999999999999975 6303  fraction kept: 1.0\n",
      "-1.1999999999999975 < matched_truthEta < -1.0999999999999974 6392  fraction kept: 1.0\n",
      "-1.0999999999999974 < matched_truthEta < -0.9999999999999973 6759  fraction kept: 1.0\n",
      "-0.9999999999999973 < matched_truthEta < -0.8999999999999972 7078  fraction kept: 1.1\n"
     ]
    },
    {
     "name": "stdout",
     "output_type": "stream",
     "text": [
      "-0.8999999999999972 < matched_truthEta < -0.7999999999999972 7145  fraction kept: 1.1\n",
      "-0.7999999999999972 < matched_truthEta < -0.6999999999999971 7086  fraction kept: 1.1\n",
      "-0.6999999999999971 < matched_truthEta < -0.599999999999997 7102  fraction kept: 1.1\n",
      "-0.599999999999997 < matched_truthEta < -0.4999999999999969 7012  fraction kept: 1.1\n",
      "-0.4999999999999969 < matched_truthEta < -0.3999999999999968 7165  fraction kept: 1.1\n",
      "-0.3999999999999968 < matched_truthEta < -0.2999999999999967 7074  fraction kept: 1.1\n",
      "-0.2999999999999967 < matched_truthEta < -0.19999999999999662 7157  fraction kept: 1.1\n",
      "-0.19999999999999662 < matched_truthEta < -0.09999999999999654 7424  fraction kept: 1.1\n",
      "-0.09999999999999654 < matched_truthEta < 3.552713678800501e-15 7365  fraction kept: 1.1\n",
      "3.552713678800501e-15 < matched_truthEta < 0.1000000000000032 7973  fraction kept: 1.2\n",
      "0.1000000000000032 < matched_truthEta < 0.20000000000000373 8094  fraction kept: 1.2\n",
      "0.20000000000000373 < matched_truthEta < 0.30000000000000426 8538  fraction kept: 1.3\n",
      "0.30000000000000426 < matched_truthEta < 0.4000000000000039 8962  fraction kept: 1.4\n",
      "0.4000000000000039 < matched_truthEta < 0.5000000000000036 9274  fraction kept: 1.4\n",
      "0.5000000000000036 < matched_truthEta < 0.6000000000000041 9958  fraction kept: 1.5\n",
      "0.6000000000000041 < matched_truthEta < 0.7000000000000046 10348  fraction kept: 1.6\n",
      "0.7000000000000046 < matched_truthEta < 0.8000000000000043 10795  fraction kept: 1.7\n",
      "0.8000000000000043 < matched_truthEta < 0.9000000000000039 11175  fraction kept: 1.7\n",
      "0.9000000000000039 < matched_truthEta < 1.0000000000000044 11440  fraction kept: 1.8\n",
      "1.0000000000000044 < matched_truthEta < 1.100000000000005 11845  fraction kept: 1.8\n",
      "1.100000000000005 < matched_truthEta < 1.2000000000000046 11869  fraction kept: 1.8\n",
      "1.2000000000000046 < matched_truthEta < 1.3000000000000043 11962  fraction kept: 1.8\n",
      "1.3000000000000043 < matched_truthEta < 1.4000000000000048 12386  fraction kept: 1.9\n",
      "1.4000000000000048 < matched_truthEta < 1.5000000000000053 12455  fraction kept: 1.9\n",
      "1.5000000000000053 < matched_truthEta < 1.600000000000005 12362  fraction kept: 1.9\n",
      "1.600000000000005 < matched_truthEta < 1.7000000000000046 12318  fraction kept: 1.9\n",
      "1.7000000000000046 < matched_truthEta < 1.8000000000000052 12530  fraction kept: 1.9\n",
      "1.8000000000000052 < matched_truthEta < 1.9000000000000057 12537  fraction kept: 1.9\n",
      "1.9000000000000057 < matched_truthEta < 2.0000000000000053 12879  fraction kept: 2.0\n",
      "2.0000000000000053 < matched_truthEta < 2.100000000000005 13016  fraction kept: 2.0\n",
      "2.100000000000005 < matched_truthEta < 2.2000000000000055 13283  fraction kept: 2.1\n",
      "2.2000000000000055 < matched_truthEta < 2.300000000000006 13647  fraction kept: 2.1\n",
      "2.300000000000006 < matched_truthEta < 2.4000000000000057 13952  fraction kept: 2.2\n",
      "2.4000000000000057 < matched_truthEta < 2.5000000000000053 14375  fraction kept: 2.2\n",
      "2.5000000000000053 < matched_truthEta < 2.600000000000006 15021  fraction kept: 2.3\n",
      "2.600000000000006 < matched_truthEta < 2.7000000000000064 15414  fraction kept: 2.4\n",
      "2.7000000000000064 < matched_truthEta < 2.800000000000006 15974  fraction kept: 2.5\n",
      "2.800000000000006 < matched_truthEta < 2.9000000000000057 16429  fraction kept: 2.5\n",
      "2.9000000000000057 < matched_truthEta < 3.000000000000006 16381  fraction kept: 2.5\n",
      "3.000000000000006 < matched_truthEta < 3.1000000000000068 16306  fraction kept: 2.5\n",
      "3.1000000000000068 < matched_truthEta < 3.2000000000000064 16494  fraction kept: 2.5\n",
      "3.2000000000000064 < matched_truthEta < 3.300000000000006 16403  fraction kept: 2.5\n",
      "3.300000000000006 < matched_truthEta < 3.4000000000000066 16628  fraction kept: 2.6\n",
      "3.4000000000000066 < matched_truthEta < 3.500000000000007 16481  fraction kept: 2.5\n",
      "3.500000000000007 < matched_truthEta < 3.6000000000000068 16105  fraction kept: 2.5\n",
      "3.6000000000000068 < matched_truthEta < 3.7000000000000064 15221  fraction kept: 2.4\n",
      "3.7000000000000064 < matched_truthEta < 3.800000000000007 13121  fraction kept: 2.0\n",
      "3.800000000000007 < matched_truthEta < 3.9000000000000075 9678  fraction kept: 1.5\n",
      "3.9000000000000075 < matched_truthEta < 4.000000000000007 4656  fraction kept: 0.7\n"
     ]
    }
   ],
   "source": [
    "a1_arr = partitionEta(a1, etaedges, etaname = 'all_truthEta')\n",
    "b1_arr = partitionEta(b1, etaedges, etaname = 'matched_truthEta')"
   ]
  },
  {
   "cell_type": "code",
   "execution_count": 49,
   "metadata": {},
   "outputs": [
    {
     "name": "stdout",
     "output_type": "stream",
     "text": [
      "-1.1 < all_truthEta < -1.0 3169  fraction kept: 0.9\n",
      "-1.0 < all_truthEta < -0.8999999999999999 3302  fraction kept: 0.9\n",
      "-0.8999999999999999 < all_truthEta < -0.7999999999999998 3464  fraction kept: 1.0\n",
      "-0.7999999999999998 < all_truthEta < -0.6999999999999997 3749  fraction kept: 1.0\n",
      "-0.6999999999999997 < all_truthEta < -0.5999999999999996 3984  fraction kept: 1.1\n",
      "-0.5999999999999996 < all_truthEta < -0.49999999999999956 4153  fraction kept: 1.1\n",
      "-0.49999999999999956 < all_truthEta < -0.39999999999999947 4383  fraction kept: 1.2\n",
      "-0.39999999999999947 < all_truthEta < -0.2999999999999994 4518  fraction kept: 1.2\n",
      "-0.2999999999999994 < all_truthEta < -0.1999999999999993 4873  fraction kept: 1.3\n",
      "-0.1999999999999993 < all_truthEta < -0.0999999999999992 5030  fraction kept: 1.4\n",
      "-0.0999999999999992 < all_truthEta < 8.881784197001252e-16 5299  fraction kept: 1.5\n",
      "8.881784197001252e-16 < all_truthEta < 0.10000000000000098 5397  fraction kept: 1.5\n",
      "0.10000000000000098 < all_truthEta < 0.20000000000000107 5616  fraction kept: 1.5\n",
      "0.20000000000000107 < all_truthEta < 0.30000000000000115 5853  fraction kept: 1.6\n",
      "0.30000000000000115 < all_truthEta < 0.40000000000000124 5902  fraction kept: 1.6\n",
      "0.40000000000000124 < all_truthEta < 0.5000000000000013 6104  fraction kept: 1.7\n",
      "0.5000000000000013 < all_truthEta < 0.6000000000000014 6417  fraction kept: 1.8\n",
      "0.6000000000000014 < all_truthEta < 0.7000000000000015 6723  fraction kept: 1.8\n",
      "0.7000000000000015 < all_truthEta < 0.8000000000000016 6690  fraction kept: 1.8\n",
      "0.8000000000000016 < all_truthEta < 0.9000000000000017 6852  fraction kept: 1.9\n",
      "0.9000000000000017 < all_truthEta < 1.0000000000000018 7060  fraction kept: 1.9\n",
      "1.0000000000000018 < all_truthEta < 1.1000000000000019 7144  fraction kept: 2.0\n",
      "-1.1 < matched_truthEta < -1.0 1923  fraction kept: 2.1\n",
      "-1.0 < matched_truthEta < -0.8999999999999999 2179  fraction kept: 2.4\n",
      "-0.8999999999999999 < matched_truthEta < -0.7999999999999998 2339  fraction kept: 2.5\n",
      "-0.7999999999999998 < matched_truthEta < -0.6999999999999997 2535  fraction kept: 2.8\n",
      "-0.6999999999999997 < matched_truthEta < -0.5999999999999996 2694  fraction kept: 2.9\n",
      "-0.5999999999999996 < matched_truthEta < -0.49999999999999956 2787  fraction kept: 3.0\n",
      "-0.49999999999999956 < matched_truthEta < -0.39999999999999947 2964  fraction kept: 3.2\n",
      "-0.39999999999999947 < matched_truthEta < -0.2999999999999994 3064  fraction kept: 3.3\n",
      "-0.2999999999999994 < matched_truthEta < -0.1999999999999993 3255  fraction kept: 3.5\n",
      "-0.1999999999999993 < matched_truthEta < -0.0999999999999992 3360  fraction kept: 3.7\n",
      "-0.0999999999999992 < matched_truthEta < 8.881784197001252e-16 3485  fraction kept: 3.8\n",
      "8.881784197001252e-16 < matched_truthEta < 0.10000000000000098 3468  fraction kept: 3.8\n",
      "0.10000000000000098 < matched_truthEta < 0.20000000000000107 3696  fraction kept: 4.0\n",
      "0.20000000000000107 < matched_truthEta < 0.30000000000000115 3866  fraction kept: 4.2\n",
      "0.30000000000000115 < matched_truthEta < 0.40000000000000124 3842  fraction kept: 4.2\n",
      "0.40000000000000124 < matched_truthEta < 0.5000000000000013 3902  fraction kept: 4.2\n",
      "0.5000000000000013 < matched_truthEta < 0.6000000000000014 4073  fraction kept: 4.4\n",
      "0.6000000000000014 < matched_truthEta < 0.7000000000000015 4211  fraction kept: 4.6\n",
      "0.7000000000000015 < matched_truthEta < 0.8000000000000016 4115  fraction kept: 4.5\n",
      "0.8000000000000016 < matched_truthEta < 0.9000000000000017 4186  fraction kept: 4.6\n",
      "0.9000000000000017 < matched_truthEta < 1.0000000000000018 4159  fraction kept: 4.5\n",
      "1.0000000000000018 < matched_truthEta < 1.1000000000000019 3921  fraction kept: 4.3\n"
     ]
    }
   ],
   "source": [
    "a2_arr = partitionEta(a2, etaedges2, etaname = 'all_truthEta')\n",
    "b2_arr = partitionEta(b20, etaedges2, etaname = 'matched_truthEta')"
   ]
  },
  {
   "cell_type": "code",
   "execution_count": 50,
   "metadata": {},
   "outputs": [
    {
     "name": "stdout",
     "output_type": "stream",
     "text": [
      "-1.1 < all_truthEta < -1.0 1489  fraction kept: 0.8\n",
      "-1.0 < all_truthEta < -0.8999999999999999 1584  fraction kept: 0.9\n",
      "-0.8999999999999999 < all_truthEta < -0.7999999999999998 1534  fraction kept: 0.8\n",
      "-0.7999999999999998 < all_truthEta < -0.6999999999999997 1551  fraction kept: 0.9\n",
      "-0.6999999999999997 < all_truthEta < -0.5999999999999996 1569  fraction kept: 0.9\n",
      "-0.5999999999999996 < all_truthEta < -0.49999999999999956 1517  fraction kept: 0.8\n",
      "-0.49999999999999956 < all_truthEta < -0.39999999999999947 1490  fraction kept: 0.8\n",
      "-0.39999999999999947 < all_truthEta < -0.2999999999999994 1514  fraction kept: 0.8\n",
      "-0.2999999999999994 < all_truthEta < -0.1999999999999993 1571  fraction kept: 0.9\n",
      "-0.1999999999999993 < all_truthEta < -0.0999999999999992 1650  fraction kept: 0.9\n",
      "-0.0999999999999992 < all_truthEta < 8.881784197001252e-16 1659  fraction kept: 0.9\n",
      "8.881784197001252e-16 < all_truthEta < 0.10000000000000098 1667  fraction kept: 0.9\n",
      "0.10000000000000098 < all_truthEta < 0.20000000000000107 1799  fraction kept: 1.0\n",
      "0.20000000000000107 < all_truthEta < 0.30000000000000115 1866  fraction kept: 1.0\n",
      "0.30000000000000115 < all_truthEta < 0.40000000000000124 1869  fraction kept: 1.0\n",
      "0.40000000000000124 < all_truthEta < 0.5000000000000013 2002  fraction kept: 1.1\n",
      "0.5000000000000013 < all_truthEta < 0.6000000000000014 2149  fraction kept: 1.2\n",
      "0.6000000000000014 < all_truthEta < 0.7000000000000015 2206  fraction kept: 1.2\n",
      "0.7000000000000015 < all_truthEta < 0.8000000000000016 2265  fraction kept: 1.3\n",
      "0.8000000000000016 < all_truthEta < 0.9000000000000017 2422  fraction kept: 1.3\n",
      "0.9000000000000017 < all_truthEta < 1.0000000000000018 2494  fraction kept: 1.4\n",
      "1.0000000000000018 < all_truthEta < 1.1000000000000019 2460  fraction kept: 1.4\n",
      "-1.1 < matched_truthEta < -1.0 1208  fraction kept: 2.5\n",
      "-1.0 < matched_truthEta < -0.8999999999999999 1351  fraction kept: 2.8\n",
      "-0.8999999999999999 < matched_truthEta < -0.7999999999999998 1360  fraction kept: 2.8\n",
      "-0.7999999999999998 < matched_truthEta < -0.6999999999999997 1389  fraction kept: 2.8\n",
      "-0.6999999999999997 < matched_truthEta < -0.5999999999999996 1423  fraction kept: 2.9\n",
      "-0.5999999999999996 < matched_truthEta < -0.49999999999999956 1393  fraction kept: 2.8\n",
      "-0.49999999999999956 < matched_truthEta < -0.39999999999999947 1361  fraction kept: 2.8\n",
      "-0.39999999999999947 < matched_truthEta < -0.2999999999999994 1393  fraction kept: 2.8\n",
      "-0.2999999999999994 < matched_truthEta < -0.1999999999999993 1453  fraction kept: 3.0\n",
      "-0.1999999999999993 < matched_truthEta < -0.0999999999999992 1522  fraction kept: 3.1\n",
      "-0.0999999999999992 < matched_truthEta < 8.881784197001252e-16 1552  fraction kept: 3.2\n",
      "8.881784197001252e-16 < matched_truthEta < 0.10000000000000098 1552  fraction kept: 3.2\n",
      "0.10000000000000098 < matched_truthEta < 0.20000000000000107 1667  fraction kept: 3.4\n",
      "0.20000000000000107 < matched_truthEta < 0.30000000000000115 1744  fraction kept: 3.6\n",
      "0.30000000000000115 < matched_truthEta < 0.40000000000000124 1745  fraction kept: 3.6\n",
      "0.40000000000000124 < matched_truthEta < 0.5000000000000013 1840  fraction kept: 3.8\n",
      "0.5000000000000013 < matched_truthEta < 0.6000000000000014 1974  fraction kept: 4.0\n",
      "0.6000000000000014 < matched_truthEta < 0.7000000000000015 1978  fraction kept: 4.0\n",
      "0.7000000000000015 < matched_truthEta < 0.8000000000000016 2048  fraction kept: 4.2\n",
      "0.8000000000000016 < matched_truthEta < 0.9000000000000017 2159  fraction kept: 4.4\n",
      "0.9000000000000017 < matched_truthEta < 1.0000000000000018 2202  fraction kept: 4.5\n",
      "1.0000000000000018 < matched_truthEta < 1.1000000000000019 2081  fraction kept: 4.2\n"
     ]
    }
   ],
   "source": [
    "a21_arr = partitionEta(a21, etaedges2, etaname = 'all_truthEta')\n",
    "b21_arr = partitionEta(b21, etaedges2, etaname = 'matched_truthEta')"
   ]
  },
  {
   "cell_type": "code",
   "execution_count": 51,
   "metadata": {},
   "outputs": [],
   "source": [
    "x1 = np.arange(-3.95, 4.05, 0.1)\n",
    "x2 = np.arange(-1.05, 1.15, 0.1)"
   ]
  },
  {
   "cell_type": "code",
   "execution_count": 52,
   "metadata": {},
   "outputs": [],
   "source": [
    "nRec = []\n",
    "nEvt = []\n",
    "for i in range(0, len(etaedges)-1):\n",
    "    nRec.append(len(b_arr[i]))\n",
    "    nEvt.append(len(a_arr[i]))"
   ]
  },
  {
   "cell_type": "code",
   "execution_count": 53,
   "metadata": {},
   "outputs": [],
   "source": [
    "nRec_cut = []\n",
    "nEvt_cut = []\n",
    "for i in range(0, len(etaedges)-1):\n",
    "    nRec_cut.append(len(b1_arr[i]))\n",
    "    nEvt_cut.append(len(a1_arr[i]))"
   ]
  },
  {
   "cell_type": "code",
   "execution_count": 54,
   "metadata": {},
   "outputs": [],
   "source": [
    "nRec2 = []\n",
    "nEvt2 = []\n",
    "for i in range(0, len(etaedges2)-1):\n",
    "    nRec2.append(len(b2_arr[i]))\n",
    "    nEvt2.append(len(a2_arr[i]))"
   ]
  },
  {
   "cell_type": "code",
   "execution_count": 55,
   "metadata": {},
   "outputs": [],
   "source": [
    "nRec2_cut = []\n",
    "nEvt2_cut = []\n",
    "for i in range(0, len(etaedges2)-1):\n",
    "    nRec2_cut.append(len(b21_arr[i]))\n",
    "    nEvt2_cut.append(len(a21_arr[i]))"
   ]
  },
  {
   "cell_type": "code",
   "execution_count": 56,
   "metadata": {},
   "outputs": [],
   "source": [
    "y1, yerr1 = geteff(np.asarray(nRec), np.asarray(nEvt))\n",
    "y2, yerr2 = geteff(np.asarray(nRec2), np.asarray(nEvt2))"
   ]
  },
  {
   "cell_type": "code",
   "execution_count": 57,
   "metadata": {},
   "outputs": [
    {
     "data": {
      "image/png": "[encoded data removed]",
      "text/plain": [
       "<Figure size 720x432 with 1 Axes>"
      ]
     },
     "metadata": {
      "needs_background": "light"
     },
     "output_type": "display_data"
    }
   ],
   "source": [
    "fig = plt.figure(figsize=(10,6))\n",
    "plt.errorbar(x1, y1, xerr=0.05, yerr=yerr1, fmt='none', label='all Si')\n",
    "plt.errorbar(x2, y2, xerr=0.05, yerr=yerr2, fmt='none', label='sPHENIX')\n",
    "plt.xlim(left=-4, right=4)\n",
    "plt.ylim(bottom=0, top=1)\n",
    "plt.xlabel('$\\eta^{tru}_{jet}$', fontsize=15)\n",
    "plt.ylabel('efficiency', fontsize=15)\n",
    "plt.xticks(fontsize=15)\n",
    "plt.yticks(fontsize=15)\n",
    "plt.text(2.5, 0.1, '$Q^2 > 16 \\, \\mathrm{GeV^2}$', fontsize=15)\n",
    "plt.legend(prop={'size': 15}, frameon=False, loc='best')\n",
    "plt.savefig('images/eff_no_cut.png', bbox_inches='tight')"
   ]
  },
  {
   "cell_type": "code",
   "execution_count": 58,
   "metadata": {},
   "outputs": [],
   "source": [
    "y1, yerr1 = geteff(np.asarray(nRec_cut), np.asarray(nEvt_cut))\n",
    "y2, yerr2 = geteff(np.asarray(nRec2_cut), np.asarray(nEvt2_cut))"
   ]
  },
  {
   "cell_type": "code",
   "execution_count": 59,
   "metadata": {},
   "outputs": [
    {
     "data": {
      "image/png": "[encoded data removed]",
      "text/plain": [
       "<Figure size 720x432 with 1 Axes>"
      ]
     },
     "metadata": {
      "needs_background": "light"
     },
     "output_type": "display_data"
    }
   ],
   "source": [
    "fig = plt.figure(figsize=(10,6))\n",
    "plt.errorbar(x1, y1, xerr=0.05, yerr=yerr1, fmt='none', label='all Si')\n",
    "plt.errorbar(x2, y2, xerr=0.05, yerr=yerr2, fmt='none', label='sPHENIX')\n",
    "plt.xlim(left=-4, right=4)\n",
    "plt.ylim(bottom=0, top=1)\n",
    "plt.xlabel('$\\eta^{tru}_{jet}$', fontsize=15)\n",
    "plt.ylabel('efficiency', fontsize=15)\n",
    "plt.xticks(fontsize=15)\n",
    "plt.yticks(fontsize=15)\n",
    "plt.text(2.5, 0.1, '$Q^2 > 16 \\, \\mathrm{GeV^2}$ \\n $N^{tru}_{jet} \\geq 2$ \\n $E^{tru}_{jet} > 5 \\, \\mathrm{GeV}$', fontsize=15)\n",
    "plt.legend(prop={'size': 15}, frameon=False, loc='best')\n",
    "plt.savefig('images/eff1.png', bbox_inches='tight')"
   ]
  },
  {
   "cell_type": "code",
   "execution_count": null,
   "metadata": {},
   "outputs": [],
   "source": []
  }
 ],
 "metadata": {
  "kernelspec": {
   "display_name": "Python 2",
   "language": "python",
   "name": "python2"
  },
  "language_info": {
   "codemirror_mode": {
    "name": "ipython",
    "version": 2
   },
   "file_extension": ".py",
   "mimetype": "text/x-python",
   "name": "python",
   "nbconvert_exporter": "python",
   "pygments_lexer": "ipython2",
   "version": "2.7.15rc1"
  }
 },
 "nbformat": 4,
 "nbformat_minor": 2
}
