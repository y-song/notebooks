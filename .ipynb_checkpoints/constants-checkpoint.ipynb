{
 "cells": [
  {
   "cell_type": "code",
   "execution_count": 1,
   "metadata": {},
   "outputs": [
    {
     "name": "stdout",
     "output_type": "stream",
     "text": [
      "The history saving thread hit an unexpected error (DatabaseError('database disk image is malformed',)).History will not be written to the database.\n"
     ]
    }
   ],
   "source": [
    "xedges = [0.008, 0.01, 0.05, 0.1, 0.3, 0.7]\n",
    "ptedges = [4, 10, 15, 20, 25]\n",
    "Q2edges = [1, 10, 25, 100, 400, 5000]\n",
    "largeQ2edges = [1,5000]"
   ]
  },
  {
   "cell_type": "code",
   "execution_count": 3,
   "metadata": {},
   "outputs": [],
   "source": [
    "import numpy as np\n",
    "radii_small = [0, 5, 10, 15, 20, 25]\n",
    "r_labels_small = ['0','5','10','15','20', '25']\n",
    "radii_large = [0, 10, 20, 30, 40, 50, 60, 70, 80]\n",
    "r_labels_large = ['0','10','20','30','40','50','60','70','80']\n",
    "angles = [90, 139.604937421, 164.585373193, 174.299529125, 177.90141703, 180, 182.09858297, 185.700470875, 195.414626807,\n",
    "          220.395062579, 270, 319.604937421, 344.585373193, 354.299529125, 357.90141703, 360]\n",
    "eta_labels = ['0','-1','-2','-3','-4','$-\\infty$','-4','-3','-2','-1','0','1','2','3','4', '$\\infty$']\n",
    "nr_small = 25\n",
    "nr_large = 80\n",
    "ntheta = 240"
   ]
  },
  {
   "cell_type": "code",
   "execution_count": null,
   "metadata": {},
   "outputs": [],
   "source": []
  }
 ],
 "metadata": {
  "kernelspec": {
   "display_name": "Python 2",
   "language": "python",
   "name": "python2"
  },
  "language_info": {
   "codemirror_mode": {
    "name": "ipython",
    "version": 2
   },
   "file_extension": ".py",
   "mimetype": "text/x-python",
   "name": "python",
   "nbconvert_exporter": "python",
   "pygments_lexer": "ipython2",
   "version": "2.7.15rc1"
  }
 },
 "nbformat": 4,
 "nbformat_minor": 2
}
