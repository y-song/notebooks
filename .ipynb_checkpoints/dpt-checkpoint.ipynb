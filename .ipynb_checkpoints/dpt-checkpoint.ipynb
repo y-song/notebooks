{
 "cells": [
  {
   "cell_type": "code",
   "execution_count": 1,
   "metadata": {},
   "outputs": [
    {
     "name": "stdout",
     "output_type": "stream",
     "text": [
      "The history saving thread hit an unexpected error (DatabaseError('database disk image is malformed',)).History will not be written to the database.\n",
      "Welcome to JupyROOT 6.14/06\n"
     ]
    }
   ],
   "source": [
    "import time\n",
    "import ROOT\n",
    "import numpy as np\n",
    "import pandas as pd\n",
    "import root_pandas as rpd\n",
    "import matplotlib.pyplot as plt\n",
    "from matplotlib.colors import LogNorm\n",
    "from root_pandas import read_root\n",
    "%run functions.ipynb\n",
    "%run constants.ipynb"
   ]
  },
  {
   "cell_type": "code",
   "execution_count": 6,
   "metadata": {},
   "outputs": [],
   "source": [
    "def getData(inputFiles):\n",
    "    cols = []\n",
    "    scalar = []\n",
    "    scalar.append('evid')\n",
    "    scalar.append('xsec')\n",
    "    scalar.append('ntrials')    \n",
    "    scalar.append('x')\n",
    "    scalar.append('y')\n",
    "    scalar.append('Q2')\n",
    "    scalar.append('W2')\n",
    "    scalar.append('pt_jet')\n",
    "    scalar.append('eta_jet')\n",
    "    scalar.append('phi_jet')\n",
    "    scalar.append('pt_jet_g')\n",
    "    scalar.append('pt_quark')\n",
    "    scalar.append('eta_quark')\n",
    "    scalar.append('phi_quark')\n",
    "    scalar.append('pt_photon')\n",
    "    scalar.append('phi_photon')\n",
    "    scalar.append('eta_electron')\n",
    "    scalar.append('pt_electron')\n",
    "    scalar.append('zg')\n",
    "    lists = scalar\n",
    "    dataframes = []\n",
    "    for inputFilename in inputFiles:\n",
    "        start = time.time()\n",
    "        df = read_root(inputFilename, columns=lists,flatten=cols)\n",
    "        dataframes.append(df)\n",
    "        end = time.time()\n",
    "        print '\\n', 'Processed', inputFilename, 'in',  '%2.1f'%(end-start), 'seconds'\n",
    "    return pd.concat([x for x in dataframes])"
   ]
  },
  {
   "cell_type": "code",
   "execution_count": 7,
   "metadata": {},
   "outputs": [
    {
     "name": "stdout",
     "output_type": "stream",
     "text": [
      "\n",
      "Processed $HOME/fjpythia/output/925.root in 84.2 seconds\n"
     ]
    }
   ],
   "source": [
    "files = [\"$HOME/fjpythia/output/925.root\"]\n",
    "a = getData(files)"
   ]
  },
  {
   "cell_type": "code",
   "execution_count": 8,
   "metadata": {},
   "outputs": [
    {
     "name": "stdout",
     "output_type": "stream",
     "text": [
      "0.01 < y < 0.85 28989288  fraction kept: 66.1\n",
      "Fixed photon phi range\n",
      "Fixed photon delta phi range\n"
     ]
    }
   ],
   "source": [
    "d = applyCut(a, '0.01 < y < 0.85', '0.01 < y < 0.85')\n",
    "d = fixPhi(d, 'photon')"
   ]
  },
  {
   "cell_type": "code",
   "execution_count": 9,
   "metadata": {},
   "outputs": [
    {
     "name": "stdout",
     "output_type": "stream",
     "text": [
      "delta_phi_photon_abs < 0.4 5210582  fraction kept: 18.0\n"
     ]
    }
   ],
   "source": [
    "d = applyCut(d, 'delta_phi_photon_abs < 0.4', 'delta_phi_photon_abs < 0.4')\n",
    "d.eval('dpt = pt_jet - pt_jet_g', inplace=True)"
   ]
  },
  {
   "cell_type": "code",
   "execution_count": 12,
   "metadata": {},
   "outputs": [],
   "source": [
    "ptedges = np.arange(26)\n",
    "large_etaedges = [-4.5, 4.5]"
   ]
  },
  {
   "cell_type": "code",
   "execution_count": 15,
   "metadata": {},
   "outputs": [
    {
     "name": "stdout",
     "output_type": "stream",
     "text": [
      "\n",
      "-4.5 < eta_jet < 4.5 \n",
      "\n",
      "-4.5 < eta_jet < 4.5 5210582  fraction kept: 100.0\n",
      "0 < pt_jet < 1 2534163  fraction kept: 48.6\n",
      "1 < pt_jet < 2 1296708  fraction kept: 24.9\n",
      "2 < pt_jet < 3 632858  fraction kept: 12.1\n",
      "3 < pt_jet < 4 315098  fraction kept: 6.0\n",
      "4 < pt_jet < 5 166606  fraction kept: 3.2\n",
      "5 < pt_jet < 6 96054  fraction kept: 1.8\n",
      "6 < pt_jet < 7 57360  fraction kept: 1.1\n",
      "7 < pt_jet < 8 35833  fraction kept: 0.7\n",
      "8 < pt_jet < 9 23159  fraction kept: 0.4\n",
      "9 < pt_jet < 10 15556  fraction kept: 0.3\n",
      "10 < pt_jet < 11 10730  fraction kept: 0.2\n",
      "11 < pt_jet < 12 7236  fraction kept: 0.1\n",
      "12 < pt_jet < 13 5173  fraction kept: 0.1\n",
      "13 < pt_jet < 14 3681  fraction kept: 0.1\n",
      "14 < pt_jet < 15 2673  fraction kept: 0.1\n",
      "15 < pt_jet < 16 2038  fraction kept: 0.0\n",
      "16 < pt_jet < 17 1439  fraction kept: 0.0\n",
      "17 < pt_jet < 18 1094  fraction kept: 0.0\n",
      "18 < pt_jet < 19 801  fraction kept: 0.0\n",
      "19 < pt_jet < 20 604  fraction kept: 0.0\n",
      "20 < pt_jet < 21 474  fraction kept: 0.0\n",
      "21 < pt_jet < 22 327  fraction kept: 0.0\n",
      "22 < pt_jet < 23 269  fraction kept: 0.0\n",
      "23 < pt_jet < 24 187  fraction kept: 0.0\n",
      "24 < pt_jet < 25 154  fraction kept: 0.0\n"
     ]
    }
   ],
   "source": [
    "ds_large = partitionEtaPt(d, large_etaedges, ptedges)"
   ]
  },
  {
   "cell_type": "code",
   "execution_count": 25,
   "metadata": {},
   "outputs": [
    {
     "data": {
      "image/png": "[encoded data removed]",
      "text/plain": [
       "<Figure size 720x576 with 1 Axes>"
      ]
     },
     "metadata": {
      "needs_background": "light"
     },
     "output_type": "display_data"
    }
   ],
   "source": [
    "fig = plt.figure(figsize=(10,8))\n",
    "for i in range(len(large_etaedges)-1):\n",
    "    x = []*(len(ptedges)-1)\n",
    "    y = []*(len(ptedges)-1)\n",
    "    yerr = []*(len(ptedges)-1)\n",
    "    for j in range(len(ptedges)-1):\n",
    "        df = ds_large[i][j]\n",
    "        x.append((((float)(ptedges[j])) + ptedges[j+1])/2)\n",
    "        y.append(np.mean(df['dpt']))\n",
    "        xerr = getInterval(ptedges)/2\n",
    "        yerr.append(np.std(df['dpt'])/2)\n",
    "    plt.errorbar(x, y, xerr = xerr, yerr = yerr, color=colorArray[i], elinewidth=1, label=labelArray[i])\n",
    "plt.xticks(fontsize=15)\n",
    "plt.yticks(fontsize=15)\n",
    "plt.xlabel('$p_T^{jet} / GeV$', fontsize=15)\n",
    "plt.ylabel('$ p_T^{jet} - p_T^{jet, groomed} / GeV$', fontsize=15)\n",
    "plt.text(0, 1.5, '$\\sqrt{s} = 89 GeV$ \\n $0.01 < y < 0.85$ \\n $|\\Delta \\phi| < 0.4$ \\n $z_{min} = 0.1$ \\n'+r'$\\beta = 0.0$', fontsize=15)\n",
    "plt.savefig('images/dpt.pdf', bbox_inches='tight')"
   ]
  }
 ],
 "metadata": {
  "kernelspec": {
   "display_name": "Python 2",
   "language": "python",
   "name": "python2"
  },
  "language_info": {
   "codemirror_mode": {
    "name": "ipython",
    "version": 2
   },
   "file_extension": ".py",
   "mimetype": "text/x-python",
   "name": "python",
   "nbconvert_exporter": "python",
   "pygments_lexer": "ipython2",
   "version": "2.7.15rc1"
  }
 },
 "nbformat": 4,
 "nbformat_minor": 2
}
