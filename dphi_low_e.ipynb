{
 "cells": [
  {
   "cell_type": "code",
   "execution_count": 1,
   "metadata": {},
   "outputs": [
    {
     "name": "stdout",
     "output_type": "stream",
     "text": [
      "The history saving thread hit an unexpected error (DatabaseError('database disk image is malformed',)).History will not be written to the database.\n",
      "Welcome to JupyROOT 6.14/06\n"
     ]
    }
   ],
   "source": [
    "import time\n",
    "import ROOT\n",
    "import numpy as np\n",
    "import pandas as pd\n",
    "import root_pandas as rpd\n",
    "import matplotlib.pyplot as plt\n",
    "from matplotlib.colors import LogNorm\n",
    "from root_pandas import read_root\n",
    "%run functions.ipynb\n",
    "%run constants.ipynb"
   ]
  },
  {
   "cell_type": "code",
   "execution_count": 2,
   "metadata": {},
   "outputs": [],
   "source": [
    "def getData(inputFiles):\n",
    "    cols = []\n",
    "    scalar = []\n",
    "    scalar.append('evid')\n",
    "    scalar.append('xsec')\n",
    "    scalar.append('ntrials')    \n",
    "    scalar.append('x')\n",
    "    scalar.append('y')\n",
    "    scalar.append('Q2')\n",
    "    scalar.append('W2')\n",
    "    scalar.append('pt_jet')\n",
    "    scalar.append('eta_jet')\n",
    "    scalar.append('phi_jet')\n",
    "    scalar.append('pt_jet_g')\n",
    "    scalar.append('phi_jet_g')\n",
    "    scalar.append('pt_quark')\n",
    "    scalar.append('eta_quark')\n",
    "    scalar.append('phi_quark')\n",
    "    scalar.append('pt_photon')\n",
    "    scalar.append('phi_photon')\n",
    "    scalar.append('eta_electron')\n",
    "    scalar.append('pt_electron')\n",
    "    scalar.append('zg')\n",
    "    lists = scalar\n",
    "    dataframes = []\n",
    "    for inputFilename in inputFiles:\n",
    "        start = time.time()\n",
    "        df = read_root(inputFilename, columns=lists,flatten=cols)\n",
    "        dataframes.append(df)\n",
    "        end = time.time()\n",
    "        print '\\n', 'Processed', inputFilename, 'in',  '%2.1f'%(end-start), 'seconds'\n",
    "    return pd.concat([x for x in dataframes])"
   ]
  },
  {
   "cell_type": "code",
   "execution_count": 3,
   "metadata": {},
   "outputs": [
    {
     "name": "stdout",
     "output_type": "stream",
     "text": [
      "\n",
      "Processed $HOME/EIC/output/111.root in 67.3 seconds\n"
     ]
    }
   ],
   "source": [
    "files = [\"$HOME/EIC/output/111.root\"]\n",
    "a = getData(files)"
   ]
  },
  {
   "cell_type": "code",
   "execution_count": 4,
   "metadata": {
    "scrolled": true
   },
   "outputs": [
    {
     "name": "stdout",
     "output_type": "stream",
     "text": [
      "pt_electron > 4 959634  fraction kept: 3.2\n",
      "pt_jet > 4 190580  fraction kept: 19.9\n",
      "0.1 < y < 0.85 121616  fraction kept: 63.8\n",
      "W2 > 4 121616  fraction kept: 100.0\n"
     ]
    }
   ],
   "source": [
    "# general cuts\n",
    "d = applyCut(a, 'pt_electron > 4', 'pt_electron > 4')\n",
    "d = applyCut(d, 'pt_jet > 4', 'pt_jet > 4')\n",
    "d = applyCut(d, 'y > 0.1 and y < 0.85', '0.1 < y < 0.85')\n",
    "d = applyCut(d, 'W2 > 4', 'W2 > 4')"
   ]
  },
  {
   "cell_type": "code",
   "execution_count": 5,
   "metadata": {},
   "outputs": [
    {
     "name": "stdout",
     "output_type": "stream",
     "text": [
      "Fixed photon phi range\n",
      "Fixed photon delta phi range\n"
     ]
    }
   ],
   "source": [
    "e = fixPhi(d, 'photon')"
   ]
  },
  {
   "cell_type": "code",
   "execution_count": 6,
   "metadata": {},
   "outputs": [],
   "source": [
    "e.eval('nu = 0.533*Q2/x',inplace=True)"
   ]
  },
  {
   "cell_type": "code",
   "execution_count": 7,
   "metadata": {},
   "outputs": [],
   "source": [
    "def plot(df_array, label_array, color_array):\n",
    "    for i in range(0,len(df_array)):\n",
    "        plt.hist(df_array[i]['delta_phi_photon_abs'], label='$ '+ label_array[i] + ' GeV$', range=(0,3.5), bins=350, histtype='step', fill=False, stacked=True, normed=True, color=color_array[i], linewidth=2)"
   ]
  },
  {
   "cell_type": "code",
   "execution_count": 10,
   "metadata": {},
   "outputs": [
    {
     "name": "stdout",
     "output_type": "stream",
     "text": [
      " 5 < pt_electron < 10 78002  fraction kept: 64.1\n",
      "10 < pt_electron < 20 5936  fraction kept: 4.9\n"
     ]
    }
   ],
   "source": [
    "e1 = applyCut(e, '5 < pt_electron < 10', '5 < pt_electron < 10')\n",
    "e2 = applyCut(e, '10 < pt_electron < 20', '10 < pt_electron < 20')"
   ]
  },
  {
   "cell_type": "code",
   "execution_count": 11,
   "metadata": {},
   "outputs": [
    {
     "name": "stdout",
     "output_type": "stream",
     "text": [
      "\n",
      "Remove extra jets 76648  fraction kept: 98.3\n",
      "0.14130227 \n",
      "Remove extra jets 5881  fraction kept: 99.1\n",
      "0.3587229\n"
     ]
    }
   ],
   "source": [
    "print np.mean(keepOneJet(e1)['x']), np.mean(keepOneJet(e2)['x'])"
   ]
  },
  {
   "cell_type": "code",
   "execution_count": 12,
   "metadata": {},
   "outputs": [
    {
     "name": "stdout",
     "output_type": "stream",
     "text": [
      "\n",
      "Remove extra jets 76648  fraction kept: 98.3\n",
      "67.55466 \n",
      "Remove extra jets 5881  fraction kept: 99.1\n",
      "226.32814\n"
     ]
    }
   ],
   "source": [
    "print np.mean(keepOneJet(e1)['Q2']), np.mean(keepOneJet(e2)['Q2'])"
   ]
  },
  {
   "cell_type": "code",
   "execution_count": 13,
   "metadata": {},
   "outputs": [
    {
     "name": "stdout",
     "output_type": "stream",
     "text": [
      "\n",
      "Remove extra jets 76648  fraction kept: 98.3\n",
      "291.67136 \n",
      "Remove extra jets 5881  fraction kept: 99.1\n",
      "360.1543\n"
     ]
    }
   ],
   "source": [
    "print np.mean(keepOneJet(e1)['nu']), np.mean(keepOneJet(e2)['nu'])"
   ]
  },
  {
   "cell_type": "code",
   "execution_count": 14,
   "metadata": {},
   "outputs": [],
   "source": [
    "def plot_dphi(df_array, label_array, color_array):\n",
    "    for i in range(0,len(df_array)):\n",
    "        fig = plt.hist(df_array[i]['delta_phi_photon_abs'], label=label_array[i], range=(0,0.5), bins=25, histtype='step', fill=True, alpha=0.5, stacked=True, normed=True, color=color_array[i], linewidth=2)\n",
    "    return fig"
   ]
  },
  {
   "cell_type": "code",
   "execution_count": 16,
   "metadata": {},
   "outputs": [
    {
     "data": {
      "image/png": "[encoded data removed]",
      "text/plain": [
       "<Figure size 1440x432 with 2 Axes>"
      ]
     },
     "metadata": {
      "needs_background": "light"
     },
     "output_type": "display_data"
    }
   ],
   "source": [
    "fig = plt.figure(figsize=(20,6))\n",
    "plt.subplots_adjust(wspace=0, hspace=0)\n",
    "\n",
    "ax1 = plt.subplot(131)\n",
    "plot_dphi([e1], ['Jets'], ['b'])\n",
    "plt.xlabel('$|\\phi^{\\gamma^{*}}-\\phi^{jet}|$', fontsize=20)\n",
    "plt.ylabel('Normalized counts', fontsize=15)\n",
    "plt.xticks(fontsize=15)\n",
    "plt.yticks(fontsize=15)\n",
    "plt.text(0.2,8, '$\\sqrt{s} = 45 \\, GeV$ \\n $0.1 < y < 0.85$ \\n $p_T^{jet} > 4 \\, GeV$', fontsize=15)\n",
    "plt.legend(prop={'size': 15}, frameon=False, loc='best')\n",
    "plt.title('$5 < p_T^{electron} < 10 \\, GeV$', fontsize=15)\n",
    "\n",
    "ax2 = plt.subplot(132, sharey=ax1)\n",
    "plot_dphi([e2], ['Jets'], ['b'])\n",
    "plt.xlabel('$|\\phi^{\\gamma^{*}}-\\phi^{jet}|$', fontsize=20)\n",
    "plt.xticks(fontsize=15)\n",
    "plt.setp(ax2.get_yticklabels(), visible=False)\n",
    "plt.legend(prop={'size': 15}, frameon=False, loc='best')\n",
    "plt.title('$10 < p_T^{electron} < 20 \\, GeV$', fontsize=15)\n",
    "\n",
    "plt.savefig('images/dphi_2.pdf', bbox_inches='tight')"
   ]
  }
 ],
 "metadata": {
  "kernelspec": {
   "display_name": "Python 2",
   "language": "python",
   "name": "python2"
  },
  "language_info": {
   "codemirror_mode": {
    "name": "ipython",
    "version": 2
   },
   "file_extension": ".py",
   "mimetype": "text/x-python",
   "name": "python",
   "nbconvert_exporter": "python",
   "pygments_lexer": "ipython2",
   "version": "2.7.15rc1"
  }
 },
 "nbformat": 4,
 "nbformat_minor": 2
}
